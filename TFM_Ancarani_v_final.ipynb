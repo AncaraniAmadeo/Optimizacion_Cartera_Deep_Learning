{
 "cells": [
  {
   "cell_type": "markdown",
   "metadata": {
    "id": "zKyZ5FXSs1er"
   },
   "source": [
    "# Etapa 0 - Importo Librerías necesarias"
   ]
  },
  {
   "cell_type": "code",
   "execution_count": null,
   "metadata": {
    "colab": {
     "base_uri": "https://localhost:8080/"
    },
    "id": "avOkb5xqJAPW",
    "outputId": "6dfe4dbd-3255-41ab-b32e-2b3d437dc54d"
   },
   "outputs": [
    {
     "name": "stdout",
     "output_type": "stream",
     "text": [
      "Looking in indexes: https://pypi.org/simple, https://us-python.pkg.dev/colab-wheels/public/simple/\n",
      "Requirement already satisfied: yfinance in /usr/local/lib/python3.7/dist-packages (0.1.70)\n",
      "Requirement already satisfied: multitasking>=0.0.7 in /usr/local/lib/python3.7/dist-packages (from yfinance) (0.0.10)\n",
      "Requirement already satisfied: lxml>=4.5.1 in /usr/local/lib/python3.7/dist-packages (from yfinance) (4.9.0)\n",
      "Requirement already satisfied: requests>=2.26 in /usr/local/lib/python3.7/dist-packages (from yfinance) (2.27.1)\n",
      "Requirement already satisfied: pandas>=0.24.0 in /usr/local/lib/python3.7/dist-packages (from yfinance) (1.3.5)\n",
      "Requirement already satisfied: numpy>=1.15 in /usr/local/lib/python3.7/dist-packages (from yfinance) (1.21.6)\n",
      "Requirement already satisfied: python-dateutil>=2.7.3 in /usr/local/lib/python3.7/dist-packages (from pandas>=0.24.0->yfinance) (2.8.2)\n",
      "Requirement already satisfied: pytz>=2017.3 in /usr/local/lib/python3.7/dist-packages (from pandas>=0.24.0->yfinance) (2022.1)\n",
      "Requirement already satisfied: six>=1.5 in /usr/local/lib/python3.7/dist-packages (from python-dateutil>=2.7.3->pandas>=0.24.0->yfinance) (1.15.0)\n",
      "Requirement already satisfied: certifi>=2017.4.17 in /usr/local/lib/python3.7/dist-packages (from requests>=2.26->yfinance) (2022.5.18.1)\n",
      "Requirement already satisfied: urllib3<1.27,>=1.21.1 in /usr/local/lib/python3.7/dist-packages (from requests>=2.26->yfinance) (1.24.3)\n",
      "Requirement already satisfied: idna<4,>=2.5 in /usr/local/lib/python3.7/dist-packages (from requests>=2.26->yfinance) (2.10)\n",
      "Requirement already satisfied: charset-normalizer~=2.0.0 in /usr/local/lib/python3.7/dist-packages (from requests>=2.26->yfinance) (2.0.12)\n"
     ]
    }
   ],
   "source": [
    "!pip install yfinance"
   ]
  },
  {
   "cell_type": "code",
   "execution_count": null,
   "metadata": {
    "id": "DgpR0p3QJNr3"
   },
   "outputs": [],
   "source": [
    "import pandas as pd\n",
    "import yfinance as yf\n",
    "import numpy as np\n",
    "import plotly.express as px\n",
    "import matplotlib.pyplot as plt\n",
    "plt.rcParams[\"figure.figsize\"] = (16,10)\n",
    "import seaborn as sns\n",
    "import pickle\n",
    "import warnings\n",
    "warnings.filterwarnings('ignore')\n",
    "import random\n",
    "import os\n",
    "import math\n",
    "from keras.models import load_model\n",
    "\n",
    "\n",
    "from sklearn.preprocessing import MinMaxScaler\n",
    "import tensorflow as tf\n",
    "from tensorflow import keras\n",
    "from keras.models import Sequential\n",
    "from keras.layers import Dense, Dropout,GRU\n",
    "from keras import optimizers \n",
    "from keras.layers.recurrent import LSTM\n",
    "from tensorflow.keras.optimizers import SGD, Adam\n",
    "import time\n",
    "from sklearn.preprocessing import MinMaxScaler\n",
    "from sklearn.model_selection import train_test_split \n",
    "import keras.backend as K\n",
    "\n",
    "from keras.models import Model, load_model\n",
    "from keras import Input \n",
    "from keras.layers import Dense, LeakyReLU, BatchNormalization, Conv1D, Flatten, Concatenate, Reshape, RepeatVector, TimeDistributed\n",
    "from tensorflow.keras.utils import plot_model\n",
    "from tensorflow.keras import layers, Input, regularizers\n",
    "from tensorflow.keras.callbacks import EarlyStopping\n",
    "\n",
    "from tensorflow.python.ops.numpy_ops import np_config\n",
    "np_config.enable_numpy_behavior()"
   ]
  },
  {
   "cell_type": "code",
   "execution_count": null,
   "metadata": {
    "colab": {
     "base_uri": "https://localhost:8080/"
    },
    "id": "JS3rITwa89nk",
    "outputId": "67480103-fb76-46fd-b475-ddbd90f58002"
   },
   "outputs": [
    {
     "name": "stdout",
     "output_type": "stream",
     "text": [
      "Drive already mounted at /content/drive; to attempt to forcibly remount, call drive.mount(\"/content/drive\", force_remount=True).\n"
     ]
    }
   ],
   "source": [
    "from google.colab import drive\n",
    "drive.mount('/content/drive')"
   ]
  },
  {
   "cell_type": "code",
   "execution_count": null,
   "metadata": {
    "id": "9Gg1wfusnhMz"
   },
   "outputs": [],
   "source": [
    "def show_history(history, metrics = []):\n",
    "    \"\"\"\n",
    "    Visualize history\n",
    "    :param history:\n",
    "    :return:\n",
    "    \"\"\"\n",
    "    # Plot history: Loss\n",
    "    plt.plot(history.history['loss'])\n",
    "    plt.plot(history.history['val_loss'])\n",
    "    plt.title('Loss history')\n",
    "    plt.ylabel('Loss value')\n",
    "    plt.xlabel('No. epoch')\n",
    "    plt.legend(['train', 'validation'], loc='upper left')\n",
    "    plt.show();\n",
    "    if not metrics:\n",
    "        for metric in metrics:\n",
    "            plt.plot(history.history[metric])\n",
    "            plt.plot(history.history['val_' + metric])\n",
    "            plt.title(metric + ' history')\n",
    "            plt.ylabel(metric + ' value (%)')\n",
    "            plt.xlabel('No. epoch')\n",
    "            plt.legend(['train', 'validation'], loc='upper left')\n",
    "            plt.show()\n",
    "\n",
    "# split a multivariate sequence into samples\n",
    "def split_sequences(sequences, n_steps_in, n_steps_out):\n",
    "\tX, y = list(), list()\n",
    "\tfor i in range(len(sequences)):\n",
    "\t\t# find the end of this pattern\n",
    "\t\tend_ix = i + n_steps_in\n",
    "\t\tout_end_ix = end_ix + n_steps_out\n",
    "\t\t\n",
    "\t\t# check if we are beyond the dataset\n",
    "\t\tif out_end_ix > len(sequences):\n",
    "\t\t\tbreak\n",
    "\t\t# gather input and output parts of the pattern\n",
    "\t\tseq_x, seq_y = sequences[i:end_ix, :], sequences[end_ix:out_end_ix, :]\n",
    "\t\tX.append(seq_x)\n",
    "\t\ty.append(seq_y)\n",
    "\treturn np.array(X), np.array(y)\n",
    " \n",
    "def r2_keras(y_true, y_pred):\n",
    "  \"\"\"\n",
    "  Custom R2-score metrics for keras backend\n",
    "  :param y_true: valor real\n",
    "  :type y_true: Tensor\n",
    "  :param y_pred: valor predicho\n",
    "  :type y_pred: Tensor\n",
    "  :return: r2 score\n",
    "  :rtype: tensor\n",
    "  \"\"\"\n",
    "  ss_res = K.sum(K.square(y_true - y_pred))\n",
    "  ss_tot = K.sum(K.square(y_true - K.mean(y_true)))\n",
    "  return 1 - ss_res / (ss_tot + K.epsilon())\n",
    "\n",
    "def predict_weigths(data):\n",
    "  lstm_model = keras.models.load_model('lstm_model.h5', compile=False)\n",
    "  weigths_model = keras.models.load_model('weigths_model.h5', compile=False)\n",
    "\n",
    "  returns_predicted = lstm_model.predict(data)\n",
    "  weigths_predicted = weigths_model.predict(returns_predicted)\n",
    "\n",
    "  weights_nn = []\n",
    "  for j in range(weigths_predicted.shape[0]):\n",
    "    weights_nn.append(weigths_predicted[j].mean(axis=0))\n",
    "    \n",
    "  weights_nn = np.array(weights_nn)\n",
    "\n",
    "  return weights_nn\n",
    "\n",
    "import sys\n",
    "\n",
    "\n",
    "def preprocess(mat, M, N):\n",
    "\t# preprocess the matrix `mat` such that `s[i][j]` stores\n",
    "\t# sum of elements in the matrix from (0, 0) to (i, j)\n",
    "\ts = [[0 for x in range(len(mat[0]))] for y in range(len(mat))]\n",
    "\ts[0][0] = mat[0][0]\n",
    "\n",
    "\t# preprocess the first row\n",
    "\tfor j in range(1, len(mat[0])):\n",
    "\t\ts[0][j] = mat[0][j] + s[0][j - 1]\n",
    "\n",
    "\t# preprocess the first column\n",
    "\tfor i in range(1, len(mat)):\n",
    "\t\ts[i][0] = mat[i][0] + s[i - 1][0]\n",
    "\n",
    "\t# preprocess the rest of the matrix\n",
    "\tfor i in range(1, len(mat)):\n",
    "\t\tfor j in range(1, len(mat[0])):\n",
    "\t\t\ts[i][j] = mat[i][j] + s[i - 1][j] + s[i][j - 1] - s[i - 1][j - 1]\n",
    "\n",
    "\treturn s\n",
    "\n",
    "\n",
    "def findMaxSumSubMatrix(mat, k: int):\n",
    "\n",
    "\t# base case\n",
    "\tif len(mat) == 0:\n",
    "\t\treturn []\n",
    "\n",
    "\t# `M × N` matrix\n",
    "\t(M, N) = (len(mat), len(mat[0]))\n",
    "\n",
    "\t# preprocess the matrix\n",
    "\ts = preprocess(mat, M, N)\n",
    "\n",
    "\tmaximum = -sys.maxsize\n",
    "\n",
    "\t# find the maximum sum submatrix\n",
    "\n",
    "\t# start from cell (k-1, k-1) and consider each submatrix of size `k × k`\n",
    "\tfor i in range(k - 1, M):\n",
    "\t\tfor j in range(k - 1, N):\n",
    "\n",
    "\t\t\t# Note that (i, j) is the bottom-right corner coordinates of the\n",
    "\t\t\t# square submatrix of size `k`\n",
    "\n",
    "\t\t\ttotal = s[i][j]\n",
    "\t\t\tif i - k >= 0:\n",
    "\t\t\t\ttotal = total - s[i - k][j]\n",
    "\n",
    "\t\t\tif j - k >= 0:\n",
    "\t\t\t\ttotal = total - s[i][j - k]\n",
    "\n",
    "\t\t\tif i - k >= 0 and j - k >= 0:\n",
    "\t\t\t\ttotal = total + s[i - k][j - k]\n",
    "\n",
    "\t\t\tif total > maximum:\n",
    "\t\t\t\tmaximum = total\n",
    "\t\t\t\tp = (i, j)\n",
    "\n",
    "\t# `p` stores bottom-right corner coordinates of the submatrix\n",
    "\t(x, y) = p\n",
    "\n",
    "\t# return maximum sum submatrix\n",
    "\treturn [[mat[i + x - k + 1][j + y - k + 1] for j in range(k)] for i in range(k)]\n",
    "\n",
    "def reset_random_seeds():\n",
    "  os.environ['PYTHONHASHSEED']=str(1)\n",
    "  tf.random.set_seed(1)\n",
    "  np.random.seed(1)\n",
    "  random.seed(1)"
   ]
  },
  {
   "cell_type": "markdown",
   "metadata": {
    "id": "WsDlcdOEJBpM"
   },
   "source": [
    "# Etapa 1: Obtencion de los datos\n"
   ]
  },
  {
   "cell_type": "markdown",
   "metadata": {
    "id": "7UNhuFjlnYql"
   },
   "source": [
    "## 01 - Extracción de los datos\n",
    "\n",
    "Para ello, se va a recurrir a la API de Yahoo Finance y se extraerán todos los datos históricos disponibles para las compañías listadas en el índice S&P500.\n",
    "\n",
    "Además, para automatizar el proceso de obtención de estas empresas, se implementó técnicas de web-scrapping sobre Wikipedia."
   ]
  },
  {
   "cell_type": "code",
   "execution_count": null,
   "metadata": {
    "colab": {
     "base_uri": "https://localhost:8080/"
    },
    "id": "ICraPpx2JVaW",
    "outputId": "4685a8c0-09db-46d4-c05f-9b0cb1d3d15a"
   },
   "outputs": [
    {
     "name": "stdout",
     "output_type": "stream",
     "text": [
      "  Symbol     Security SEC filings  GICS Sector         GICS Sub-Industry  \\\n",
      "0    MMM           3M     reports  Industrials  Industrial Conglomerates   \n",
      "1    AOS  A. O. Smith     reports  Industrials         Building Products   \n",
      "2    ABT       Abbott     reports  Health Care     Health Care Equipment   \n",
      "3   ABBV       AbbVie     reports  Health Care           Pharmaceuticals   \n",
      "4   ABMD      Abiomed     reports  Health Care     Health Care Equipment   \n",
      "\n",
      "     Headquarters Location Date first added      CIK      Founded  \n",
      "0    Saint Paul, Minnesota       1976-08-09    66740         1902  \n",
      "1     Milwaukee, Wisconsin       2017-07-26    91142         1916  \n",
      "2  North Chicago, Illinois       1964-03-31     1800         1888  \n",
      "3  North Chicago, Illinois       2012-12-31  1551152  2013 (1888)  \n",
      "4   Danvers, Massachusetts       2018-05-31   815094         1981  \n"
     ]
    }
   ],
   "source": [
    "tickers = pd.read_html('https://en.wikipedia.org/wiki/List_of_S%26P_500_companies')[0]\n",
    "print(tickers.head())"
   ]
  },
  {
   "cell_type": "markdown",
   "metadata": {
    "id": "qF85Yn4-olv4"
   },
   "source": [
    "Obtener el historico desde el 01-01-2009 hasta el dia de ejecución para las corporaciones desde la API de Yahoo Finance\n"
   ]
  },
  {
   "cell_type": "code",
   "execution_count": null,
   "metadata": {
    "colab": {
     "base_uri": "https://localhost:8080/"
    },
    "id": "Z2niyLZ2og-P",
    "outputId": "8f493075-aff8-457f-a8de-c1fcd4de1b81"
   },
   "outputs": [
    {
     "name": "stdout",
     "output_type": "stream",
     "text": [
      "[*********************100%***********************]  504 of 504 completed\n",
      "\n",
      "2 Failed downloads:\n",
      "- BRK.B: No data found, symbol may be delisted\n",
      "- BF.B: No data found for this date range, symbol may be delisted\n"
     ]
    },
    {
     "data": {
      "text/html": [
       "\n",
       "  <div id=\"df-dd24653e-fea5-4857-8a52-63f1dd55bc9c\">\n",
       "    <div class=\"colab-df-container\">\n",
       "      <div>\n",
       "<style scoped>\n",
       "    .dataframe tbody tr th:only-of-type {\n",
       "        vertical-align: middle;\n",
       "    }\n",
       "\n",
       "    .dataframe tbody tr th {\n",
       "        vertical-align: top;\n",
       "    }\n",
       "\n",
       "    .dataframe thead tr th {\n",
       "        text-align: left;\n",
       "    }\n",
       "\n",
       "    .dataframe thead tr:last-of-type th {\n",
       "        text-align: right;\n",
       "    }\n",
       "</style>\n",
       "<table border=\"1\" class=\"dataframe\">\n",
       "  <thead>\n",
       "    <tr>\n",
       "      <th></th>\n",
       "      <th colspan=\"10\" halign=\"left\">Adj Close</th>\n",
       "      <th>...</th>\n",
       "      <th colspan=\"10\" halign=\"left\">Volume</th>\n",
       "    </tr>\n",
       "    <tr>\n",
       "      <th></th>\n",
       "      <th>A</th>\n",
       "      <th>AAL</th>\n",
       "      <th>AAP</th>\n",
       "      <th>AAPL</th>\n",
       "      <th>ABBV</th>\n",
       "      <th>ABC</th>\n",
       "      <th>ABMD</th>\n",
       "      <th>ABT</th>\n",
       "      <th>ACN</th>\n",
       "      <th>ADBE</th>\n",
       "      <th>...</th>\n",
       "      <th>WYNN</th>\n",
       "      <th>XEL</th>\n",
       "      <th>XOM</th>\n",
       "      <th>XRAY</th>\n",
       "      <th>XYL</th>\n",
       "      <th>YUM</th>\n",
       "      <th>ZBH</th>\n",
       "      <th>ZBRA</th>\n",
       "      <th>ZION</th>\n",
       "      <th>ZTS</th>\n",
       "    </tr>\n",
       "    <tr>\n",
       "      <th>Date</th>\n",
       "      <th></th>\n",
       "      <th></th>\n",
       "      <th></th>\n",
       "      <th></th>\n",
       "      <th></th>\n",
       "      <th></th>\n",
       "      <th></th>\n",
       "      <th></th>\n",
       "      <th></th>\n",
       "      <th></th>\n",
       "      <th></th>\n",
       "      <th></th>\n",
       "      <th></th>\n",
       "      <th></th>\n",
       "      <th></th>\n",
       "      <th></th>\n",
       "      <th></th>\n",
       "      <th></th>\n",
       "      <th></th>\n",
       "      <th></th>\n",
       "      <th></th>\n",
       "    </tr>\n",
       "  </thead>\n",
       "  <tbody>\n",
       "    <tr>\n",
       "      <th>2009-01-02</th>\n",
       "      <td>10.586039</td>\n",
       "      <td>7.909601</td>\n",
       "      <td>32.126152</td>\n",
       "      <td>2.771174</td>\n",
       "      <td>NaN</td>\n",
       "      <td>14.545662</td>\n",
       "      <td>16.33</td>\n",
       "      <td>18.741625</td>\n",
       "      <td>26.093245</td>\n",
       "      <td>23.020000</td>\n",
       "      <td>...</td>\n",
       "      <td>1361400</td>\n",
       "      <td>2018300</td>\n",
       "      <td>35803700</td>\n",
       "      <td>1574200</td>\n",
       "      <td>NaN</td>\n",
       "      <td>3612149</td>\n",
       "      <td>1147935</td>\n",
       "      <td>559600</td>\n",
       "      <td>1956500</td>\n",
       "      <td>NaN</td>\n",
       "    </tr>\n",
       "    <tr>\n",
       "      <th>2009-01-05</th>\n",
       "      <td>10.944558</td>\n",
       "      <td>7.853037</td>\n",
       "      <td>31.693272</td>\n",
       "      <td>2.888128</td>\n",
       "      <td>NaN</td>\n",
       "      <td>14.823733</td>\n",
       "      <td>16.00</td>\n",
       "      <td>18.419695</td>\n",
       "      <td>26.209497</td>\n",
       "      <td>23.129999</td>\n",
       "      <td>...</td>\n",
       "      <td>3101200</td>\n",
       "      <td>2908200</td>\n",
       "      <td>43340100</td>\n",
       "      <td>1484200</td>\n",
       "      <td>NaN</td>\n",
       "      <td>6674574</td>\n",
       "      <td>914022</td>\n",
       "      <td>383100</td>\n",
       "      <td>1792800</td>\n",
       "      <td>NaN</td>\n",
       "    </tr>\n",
       "    <tr>\n",
       "      <th>2009-01-06</th>\n",
       "      <td>11.818036</td>\n",
       "      <td>8.541239</td>\n",
       "      <td>31.740326</td>\n",
       "      <td>2.840492</td>\n",
       "      <td>NaN</td>\n",
       "      <td>14.766486</td>\n",
       "      <td>15.17</td>\n",
       "      <td>17.817841</td>\n",
       "      <td>25.884010</td>\n",
       "      <td>24.219999</td>\n",
       "      <td>...</td>\n",
       "      <td>3161300</td>\n",
       "      <td>3009200</td>\n",
       "      <td>41906100</td>\n",
       "      <td>2324700</td>\n",
       "      <td>NaN</td>\n",
       "      <td>4964340</td>\n",
       "      <td>1611641</td>\n",
       "      <td>298500</td>\n",
       "      <td>2187500</td>\n",
       "      <td>NaN</td>\n",
       "    </tr>\n",
       "    <tr>\n",
       "      <th>2009-01-07</th>\n",
       "      <td>11.883222</td>\n",
       "      <td>8.560092</td>\n",
       "      <td>30.479370</td>\n",
       "      <td>2.779113</td>\n",
       "      <td>NaN</td>\n",
       "      <td>14.684696</td>\n",
       "      <td>14.70</td>\n",
       "      <td>17.719858</td>\n",
       "      <td>26.178495</td>\n",
       "      <td>24.230000</td>\n",
       "      <td>...</td>\n",
       "      <td>3278200</td>\n",
       "      <td>2523000</td>\n",
       "      <td>35268800</td>\n",
       "      <td>2345400</td>\n",
       "      <td>NaN</td>\n",
       "      <td>5347143</td>\n",
       "      <td>1297491</td>\n",
       "      <td>356900</td>\n",
       "      <td>2796800</td>\n",
       "      <td>NaN</td>\n",
       "    </tr>\n",
       "    <tr>\n",
       "      <th>2009-01-08</th>\n",
       "      <td>11.961442</td>\n",
       "      <td>9.022035</td>\n",
       "      <td>30.582897</td>\n",
       "      <td>2.830720</td>\n",
       "      <td>NaN</td>\n",
       "      <td>15.015924</td>\n",
       "      <td>14.28</td>\n",
       "      <td>17.915815</td>\n",
       "      <td>25.915001</td>\n",
       "      <td>24.290001</td>\n",
       "      <td>...</td>\n",
       "      <td>1616800</td>\n",
       "      <td>2929700</td>\n",
       "      <td>30817100</td>\n",
       "      <td>1875600</td>\n",
       "      <td>NaN</td>\n",
       "      <td>5097737</td>\n",
       "      <td>1869553</td>\n",
       "      <td>511100</td>\n",
       "      <td>2087200</td>\n",
       "      <td>NaN</td>\n",
       "    </tr>\n",
       "  </tbody>\n",
       "</table>\n",
       "<p>5 rows × 3024 columns</p>\n",
       "</div>\n",
       "      <button class=\"colab-df-convert\" onclick=\"convertToInteractive('df-dd24653e-fea5-4857-8a52-63f1dd55bc9c')\"\n",
       "              title=\"Convert this dataframe to an interactive table.\"\n",
       "              style=\"display:none;\">\n",
       "        \n",
       "  <svg xmlns=\"http://www.w3.org/2000/svg\" height=\"24px\"viewBox=\"0 0 24 24\"\n",
       "       width=\"24px\">\n",
       "    <path d=\"M0 0h24v24H0V0z\" fill=\"none\"/>\n",
       "    <path d=\"M18.56 5.44l.94 2.06.94-2.06 2.06-.94-2.06-.94-.94-2.06-.94 2.06-2.06.94zm-11 1L8.5 8.5l.94-2.06 2.06-.94-2.06-.94L8.5 2.5l-.94 2.06-2.06.94zm10 10l.94 2.06.94-2.06 2.06-.94-2.06-.94-.94-2.06-.94 2.06-2.06.94z\"/><path d=\"M17.41 7.96l-1.37-1.37c-.4-.4-.92-.59-1.43-.59-.52 0-1.04.2-1.43.59L10.3 9.45l-7.72 7.72c-.78.78-.78 2.05 0 2.83L4 21.41c.39.39.9.59 1.41.59.51 0 1.02-.2 1.41-.59l7.78-7.78 2.81-2.81c.8-.78.8-2.07 0-2.86zM5.41 20L4 18.59l7.72-7.72 1.47 1.35L5.41 20z\"/>\n",
       "  </svg>\n",
       "      </button>\n",
       "      \n",
       "  <style>\n",
       "    .colab-df-container {\n",
       "      display:flex;\n",
       "      flex-wrap:wrap;\n",
       "      gap: 12px;\n",
       "    }\n",
       "\n",
       "    .colab-df-convert {\n",
       "      background-color: #E8F0FE;\n",
       "      border: none;\n",
       "      border-radius: 50%;\n",
       "      cursor: pointer;\n",
       "      display: none;\n",
       "      fill: #1967D2;\n",
       "      height: 32px;\n",
       "      padding: 0 0 0 0;\n",
       "      width: 32px;\n",
       "    }\n",
       "\n",
       "    .colab-df-convert:hover {\n",
       "      background-color: #E2EBFA;\n",
       "      box-shadow: 0px 1px 2px rgba(60, 64, 67, 0.3), 0px 1px 3px 1px rgba(60, 64, 67, 0.15);\n",
       "      fill: #174EA6;\n",
       "    }\n",
       "\n",
       "    [theme=dark] .colab-df-convert {\n",
       "      background-color: #3B4455;\n",
       "      fill: #D2E3FC;\n",
       "    }\n",
       "\n",
       "    [theme=dark] .colab-df-convert:hover {\n",
       "      background-color: #434B5C;\n",
       "      box-shadow: 0px 1px 3px 1px rgba(0, 0, 0, 0.15);\n",
       "      filter: drop-shadow(0px 1px 2px rgba(0, 0, 0, 0.3));\n",
       "      fill: #FFFFFF;\n",
       "    }\n",
       "  </style>\n",
       "\n",
       "      <script>\n",
       "        const buttonEl =\n",
       "          document.querySelector('#df-dd24653e-fea5-4857-8a52-63f1dd55bc9c button.colab-df-convert');\n",
       "        buttonEl.style.display =\n",
       "          google.colab.kernel.accessAllowed ? 'block' : 'none';\n",
       "\n",
       "        async function convertToInteractive(key) {\n",
       "          const element = document.querySelector('#df-dd24653e-fea5-4857-8a52-63f1dd55bc9c');\n",
       "          const dataTable =\n",
       "            await google.colab.kernel.invokeFunction('convertToInteractive',\n",
       "                                                     [key], {});\n",
       "          if (!dataTable) return;\n",
       "\n",
       "          const docLinkHtml = 'Like what you see? Visit the ' +\n",
       "            '<a target=\"_blank\" href=https://colab.research.google.com/notebooks/data_table.ipynb>data table notebook</a>'\n",
       "            + ' to learn more about interactive tables.';\n",
       "          element.innerHTML = '';\n",
       "          dataTable['output_type'] = 'display_data';\n",
       "          await google.colab.output.renderOutput(dataTable, element);\n",
       "          const docLink = document.createElement('div');\n",
       "          docLink.innerHTML = docLinkHtml;\n",
       "          element.appendChild(docLink);\n",
       "        }\n",
       "      </script>\n",
       "    </div>\n",
       "  </div>\n",
       "  "
      ],
      "text/plain": [
       "            Adj Close                                                        \\\n",
       "                    A       AAL        AAP      AAPL ABBV        ABC   ABMD   \n",
       "Date                                                                          \n",
       "2009-01-02  10.586039  7.909601  32.126152  2.771174  NaN  14.545662  16.33   \n",
       "2009-01-05  10.944558  7.853037  31.693272  2.888128  NaN  14.823733  16.00   \n",
       "2009-01-06  11.818036  8.541239  31.740326  2.840492  NaN  14.766486  15.17   \n",
       "2009-01-07  11.883222  8.560092  30.479370  2.779113  NaN  14.684696  14.70   \n",
       "2009-01-08  11.961442  9.022035  30.582897  2.830720  NaN  15.015924  14.28   \n",
       "\n",
       "                                             ...   Volume                     \\\n",
       "                  ABT        ACN       ADBE  ...     WYNN      XEL       XOM   \n",
       "Date                                         ...                               \n",
       "2009-01-02  18.741625  26.093245  23.020000  ...  1361400  2018300  35803700   \n",
       "2009-01-05  18.419695  26.209497  23.129999  ...  3101200  2908200  43340100   \n",
       "2009-01-06  17.817841  25.884010  24.219999  ...  3161300  3009200  41906100   \n",
       "2009-01-07  17.719858  26.178495  24.230000  ...  3278200  2523000  35268800   \n",
       "2009-01-08  17.915815  25.915001  24.290001  ...  1616800  2929700  30817100   \n",
       "\n",
       "                                                                \n",
       "               XRAY XYL      YUM      ZBH    ZBRA     ZION ZTS  \n",
       "Date                                                            \n",
       "2009-01-02  1574200 NaN  3612149  1147935  559600  1956500 NaN  \n",
       "2009-01-05  1484200 NaN  6674574   914022  383100  1792800 NaN  \n",
       "2009-01-06  2324700 NaN  4964340  1611641  298500  2187500 NaN  \n",
       "2009-01-07  2345400 NaN  5347143  1297491  356900  2796800 NaN  \n",
       "2009-01-08  1875600 NaN  5097737  1869553  511100  2087200 NaN  \n",
       "\n",
       "[5 rows x 3024 columns]"
      ]
     },
     "execution_count": 6,
     "metadata": {},
     "output_type": "execute_result"
    }
   ],
   "source": [
    "data = yf.download(tickers.Symbol.to_list(),'2009-1-2','2022-1-31', groupby='Ticker')\n",
    "\n",
    "data.head()"
   ]
  },
  {
   "cell_type": "code",
   "execution_count": null,
   "metadata": {
    "colab": {
     "base_uri": "https://localhost:8080/"
    },
    "id": "c6XaopapLESG",
    "outputId": "967487fa-b7f6-4f86-9bc3-03ba346e5e7d"
   },
   "outputs": [
    {
     "name": "stdout",
     "output_type": "stream",
     "text": [
      "<class 'pandas.core.frame.DataFrame'>\n",
      "DatetimeIndex: 3292 entries, 2009-01-02 to 2022-01-28\n",
      "Columns: 3024 entries, ('Adj Close', 'A') to ('Volume', 'ZTS')\n",
      "dtypes: float64(2589), int64(435)\n",
      "memory usage: 76.0 MB\n"
     ]
    }
   ],
   "source": [
    "data.info()"
   ]
  },
  {
   "cell_type": "code",
   "execution_count": null,
   "metadata": {
    "colab": {
     "base_uri": "https://localhost:8080/"
    },
    "id": "4dvVO-if6t1O",
    "outputId": "cf2d4f8b-e509-40ba-e1d4-42f04bbab120"
   },
   "outputs": [
    {
     "data": {
      "text/plain": [
       "(3292, 3024)"
      ]
     },
     "execution_count": 8,
     "metadata": {},
     "output_type": "execute_result"
    }
   ],
   "source": [
    "data.shape"
   ]
  },
  {
   "cell_type": "code",
   "execution_count": null,
   "metadata": {
    "id": "PXuPa2da6BZ9"
   },
   "outputs": [],
   "source": [
    "data.to_csv('datos_tfm.csv')"
   ]
  },
  {
   "cell_type": "markdown",
   "metadata": {
    "id": "77mJfSdHtDnZ"
   },
   "source": [
    "# Etapa 2: Selección de los 5 activos"
   ]
  },
  {
   "cell_type": "markdown",
   "metadata": {
    "id": "hrz59_3puXRt"
   },
   "source": [
    "## 01 - Planto semilla"
   ]
  },
  {
   "cell_type": "code",
   "execution_count": null,
   "metadata": {
    "id": "skJ9dvTIY1F4"
   },
   "outputs": [],
   "source": [
    "reset_random_seeds()"
   ]
  },
  {
   "cell_type": "markdown",
   "metadata": {
    "id": "79lmyCx_uU_U"
   },
   "source": [
    "## 02 - Importo los datos"
   ]
  },
  {
   "cell_type": "code",
   "execution_count": null,
   "metadata": {
    "id": "I_gQMSXrVuZU"
   },
   "outputs": [],
   "source": [
    "if 'data' not in vars():\n",
    "  df = pd.read_csv('/content/drive/MyDrive/TFM_DataScience/01_Amadeo_Ancarani/Data/datos_tfm.csv', header=[0, 1])\n",
    "  df.drop([0], axis=0, inplace=True)  # drop this row because it only has one column with Date in it\n",
    "  df[('Unnamed: 0_level_0', 'Unnamed: 0_level_1')] = pd.to_datetime(df[('Unnamed: 0_level_0', 'Unnamed: 0_level_1')], format='%Y-%m-%d')  # convert the first column to a datetime\n",
    "  df.set_index(('Unnamed: 0_level_0', 'Unnamed: 0_level_1'), inplace=True)  # set the first column as the index\n",
    "  df.index.name = None  # rename the index\n",
    "else:\n",
    "  df = data\n"
   ]
  },
  {
   "cell_type": "code",
   "execution_count": null,
   "metadata": {
    "colab": {
     "base_uri": "https://localhost:8080/"
    },
    "id": "FRCus2hAcggR",
    "outputId": "4010bd99-d7f4-41d9-9cfa-8558e37cf331"
   },
   "outputs": [
    {
     "data": {
      "text/plain": [
       "(3292, 3024)"
      ]
     },
     "execution_count": 12,
     "metadata": {},
     "output_type": "execute_result"
    }
   ],
   "source": [
    "df.shape"
   ]
  },
  {
   "cell_type": "code",
   "execution_count": null,
   "metadata": {
    "id": "29Zl09iT1jCa"
   },
   "outputs": [],
   "source": [
    "autoencoder_data = df['Adj Close'].drop(columns= [\"BF.B\", \"BRK.B\"]).pct_change().dropna(how='all').fillna(0)"
   ]
  },
  {
   "cell_type": "code",
   "execution_count": null,
   "metadata": {
    "colab": {
     "base_uri": "https://localhost:8080/"
    },
    "id": "PvL6RjhA1i_j",
    "outputId": "4a3f7e4a-22bb-4c3d-f575-139670fabfc5"
   },
   "outputs": [
    {
     "data": {
      "text/html": [
       "\n",
       "  <div id=\"df-2ac3593d-e23c-4b92-8354-12a7b3b32a9e\">\n",
       "    <div class=\"colab-df-container\">\n",
       "      <div>\n",
       "<style scoped>\n",
       "    .dataframe tbody tr th:only-of-type {\n",
       "        vertical-align: middle;\n",
       "    }\n",
       "\n",
       "    .dataframe tbody tr th {\n",
       "        vertical-align: top;\n",
       "    }\n",
       "\n",
       "    .dataframe thead th {\n",
       "        text-align: right;\n",
       "    }\n",
       "</style>\n",
       "<table border=\"1\" class=\"dataframe\">\n",
       "  <thead>\n",
       "    <tr style=\"text-align: right;\">\n",
       "      <th></th>\n",
       "      <th>A</th>\n",
       "      <th>AAL</th>\n",
       "      <th>AAP</th>\n",
       "      <th>AAPL</th>\n",
       "      <th>ABBV</th>\n",
       "      <th>ABC</th>\n",
       "      <th>ABMD</th>\n",
       "      <th>ABT</th>\n",
       "      <th>ACN</th>\n",
       "      <th>ADBE</th>\n",
       "      <th>...</th>\n",
       "      <th>WYNN</th>\n",
       "      <th>XEL</th>\n",
       "      <th>XOM</th>\n",
       "      <th>XRAY</th>\n",
       "      <th>XYL</th>\n",
       "      <th>YUM</th>\n",
       "      <th>ZBH</th>\n",
       "      <th>ZBRA</th>\n",
       "      <th>ZION</th>\n",
       "      <th>ZTS</th>\n",
       "    </tr>\n",
       "    <tr>\n",
       "      <th>Date</th>\n",
       "      <th></th>\n",
       "      <th></th>\n",
       "      <th></th>\n",
       "      <th></th>\n",
       "      <th></th>\n",
       "      <th></th>\n",
       "      <th></th>\n",
       "      <th></th>\n",
       "      <th></th>\n",
       "      <th></th>\n",
       "      <th></th>\n",
       "      <th></th>\n",
       "      <th></th>\n",
       "      <th></th>\n",
       "      <th></th>\n",
       "      <th></th>\n",
       "      <th></th>\n",
       "      <th></th>\n",
       "      <th></th>\n",
       "      <th></th>\n",
       "      <th></th>\n",
       "    </tr>\n",
       "  </thead>\n",
       "  <tbody>\n",
       "    <tr>\n",
       "      <th>2009-01-05</th>\n",
       "      <td>0.033867</td>\n",
       "      <td>-0.007151</td>\n",
       "      <td>-0.013474</td>\n",
       "      <td>0.042204</td>\n",
       "      <td>0.000000</td>\n",
       "      <td>0.019117</td>\n",
       "      <td>-0.020208</td>\n",
       "      <td>-0.017177</td>\n",
       "      <td>0.004455</td>\n",
       "      <td>0.004778</td>\n",
       "      <td>...</td>\n",
       "      <td>0.102910</td>\n",
       "      <td>-0.009554</td>\n",
       "      <td>-0.000123</td>\n",
       "      <td>-0.032979</td>\n",
       "      <td>0.000000</td>\n",
       "      <td>0.027187</td>\n",
       "      <td>-0.020594</td>\n",
       "      <td>-0.013790</td>\n",
       "      <td>-0.026801</td>\n",
       "      <td>0.000000</td>\n",
       "    </tr>\n",
       "    <tr>\n",
       "      <th>2009-01-06</th>\n",
       "      <td>0.079809</td>\n",
       "      <td>0.087635</td>\n",
       "      <td>0.001485</td>\n",
       "      <td>-0.016494</td>\n",
       "      <td>0.000000</td>\n",
       "      <td>-0.003862</td>\n",
       "      <td>-0.051875</td>\n",
       "      <td>-0.032675</td>\n",
       "      <td>-0.012419</td>\n",
       "      <td>0.047125</td>\n",
       "      <td>...</td>\n",
       "      <td>0.056978</td>\n",
       "      <td>-0.012862</td>\n",
       "      <td>-0.016293</td>\n",
       "      <td>-0.026643</td>\n",
       "      <td>0.000000</td>\n",
       "      <td>-0.001825</td>\n",
       "      <td>0.018582</td>\n",
       "      <td>0.025072</td>\n",
       "      <td>0.033704</td>\n",
       "      <td>0.000000</td>\n",
       "    </tr>\n",
       "    <tr>\n",
       "      <th>2009-01-07</th>\n",
       "      <td>0.005516</td>\n",
       "      <td>0.002207</td>\n",
       "      <td>-0.039727</td>\n",
       "      <td>-0.021609</td>\n",
       "      <td>0.000000</td>\n",
       "      <td>-0.005539</td>\n",
       "      <td>-0.030982</td>\n",
       "      <td>-0.005499</td>\n",
       "      <td>0.011377</td>\n",
       "      <td>0.000413</td>\n",
       "      <td>...</td>\n",
       "      <td>-0.145622</td>\n",
       "      <td>-0.010315</td>\n",
       "      <td>-0.025529</td>\n",
       "      <td>0.002919</td>\n",
       "      <td>0.000000</td>\n",
       "      <td>-0.035660</td>\n",
       "      <td>-0.032405</td>\n",
       "      <td>0.000941</td>\n",
       "      <td>-0.102187</td>\n",
       "      <td>0.000000</td>\n",
       "    </tr>\n",
       "    <tr>\n",
       "      <th>2009-01-08</th>\n",
       "      <td>0.006582</td>\n",
       "      <td>0.053965</td>\n",
       "      <td>0.003397</td>\n",
       "      <td>0.018570</td>\n",
       "      <td>0.000000</td>\n",
       "      <td>0.022556</td>\n",
       "      <td>-0.028571</td>\n",
       "      <td>0.011059</td>\n",
       "      <td>-0.010065</td>\n",
       "      <td>0.002476</td>\n",
       "      <td>...</td>\n",
       "      <td>-0.016515</td>\n",
       "      <td>0.013165</td>\n",
       "      <td>0.010734</td>\n",
       "      <td>0.012009</td>\n",
       "      <td>0.000000</td>\n",
       "      <td>-0.004741</td>\n",
       "      <td>0.026793</td>\n",
       "      <td>-0.030545</td>\n",
       "      <td>-0.016829</td>\n",
       "      <td>0.000000</td>\n",
       "    </tr>\n",
       "    <tr>\n",
       "      <th>2009-01-09</th>\n",
       "      <td>0.009264</td>\n",
       "      <td>-0.059561</td>\n",
       "      <td>-0.022154</td>\n",
       "      <td>-0.022869</td>\n",
       "      <td>0.000000</td>\n",
       "      <td>-0.021514</td>\n",
       "      <td>-0.034314</td>\n",
       "      <td>-0.000586</td>\n",
       "      <td>0.008672</td>\n",
       "      <td>-0.011527</td>\n",
       "      <td>...</td>\n",
       "      <td>-0.051884</td>\n",
       "      <td>-0.012453</td>\n",
       "      <td>-0.019219</td>\n",
       "      <td>-0.014383</td>\n",
       "      <td>0.000000</td>\n",
       "      <td>-0.027628</td>\n",
       "      <td>0.012080</td>\n",
       "      <td>-0.057683</td>\n",
       "      <td>-0.018919</td>\n",
       "      <td>0.000000</td>\n",
       "    </tr>\n",
       "    <tr>\n",
       "      <th>...</th>\n",
       "      <td>...</td>\n",
       "      <td>...</td>\n",
       "      <td>...</td>\n",
       "      <td>...</td>\n",
       "      <td>...</td>\n",
       "      <td>...</td>\n",
       "      <td>...</td>\n",
       "      <td>...</td>\n",
       "      <td>...</td>\n",
       "      <td>...</td>\n",
       "      <td>...</td>\n",
       "      <td>...</td>\n",
       "      <td>...</td>\n",
       "      <td>...</td>\n",
       "      <td>...</td>\n",
       "      <td>...</td>\n",
       "      <td>...</td>\n",
       "      <td>...</td>\n",
       "      <td>...</td>\n",
       "      <td>...</td>\n",
       "      <td>...</td>\n",
       "    </tr>\n",
       "    <tr>\n",
       "      <th>2022-01-24</th>\n",
       "      <td>0.004436</td>\n",
       "      <td>0.006749</td>\n",
       "      <td>0.029449</td>\n",
       "      <td>-0.004864</td>\n",
       "      <td>0.001364</td>\n",
       "      <td>0.000228</td>\n",
       "      <td>0.024198</td>\n",
       "      <td>-0.015974</td>\n",
       "      <td>0.010041</td>\n",
       "      <td>0.039507</td>\n",
       "      <td>...</td>\n",
       "      <td>-0.009924</td>\n",
       "      <td>-0.011580</td>\n",
       "      <td>0.008591</td>\n",
       "      <td>0.017948</td>\n",
       "      <td>0.004669</td>\n",
       "      <td>0.016903</td>\n",
       "      <td>0.009058</td>\n",
       "      <td>-0.007325</td>\n",
       "      <td>0.016518</td>\n",
       "      <td>-0.001298</td>\n",
       "    </tr>\n",
       "    <tr>\n",
       "      <th>2022-01-25</th>\n",
       "      <td>-0.025702</td>\n",
       "      <td>0.003047</td>\n",
       "      <td>-0.011297</td>\n",
       "      <td>-0.011385</td>\n",
       "      <td>0.007037</td>\n",
       "      <td>-0.003725</td>\n",
       "      <td>-0.048407</td>\n",
       "      <td>-0.004442</td>\n",
       "      <td>-0.011947</td>\n",
       "      <td>-0.032598</td>\n",
       "      <td>...</td>\n",
       "      <td>0.019575</td>\n",
       "      <td>0.006674</td>\n",
       "      <td>0.029400</td>\n",
       "      <td>-0.021529</td>\n",
       "      <td>-0.034576</td>\n",
       "      <td>-0.033956</td>\n",
       "      <td>-0.021836</td>\n",
       "      <td>-0.033757</td>\n",
       "      <td>0.059105</td>\n",
       "      <td>-0.024092</td>\n",
       "    </tr>\n",
       "    <tr>\n",
       "      <th>2022-01-26</th>\n",
       "      <td>-0.007877</td>\n",
       "      <td>-0.013366</td>\n",
       "      <td>-0.021983</td>\n",
       "      <td>-0.000563</td>\n",
       "      <td>0.008566</td>\n",
       "      <td>-0.003891</td>\n",
       "      <td>0.001011</td>\n",
       "      <td>-0.025959</td>\n",
       "      <td>-0.015107</td>\n",
       "      <td>-0.003799</td>\n",
       "      <td>...</td>\n",
       "      <td>-0.003817</td>\n",
       "      <td>-0.003830</td>\n",
       "      <td>-0.010143</td>\n",
       "      <td>-0.003983</td>\n",
       "      <td>-0.012804</td>\n",
       "      <td>-0.015649</td>\n",
       "      <td>-0.003803</td>\n",
       "      <td>0.003587</td>\n",
       "      <td>0.010830</td>\n",
       "      <td>-0.027708</td>\n",
       "    </tr>\n",
       "    <tr>\n",
       "      <th>2022-01-27</th>\n",
       "      <td>-0.010636</td>\n",
       "      <td>-0.028325</td>\n",
       "      <td>-0.000044</td>\n",
       "      <td>-0.002943</td>\n",
       "      <td>0.012963</td>\n",
       "      <td>0.031712</td>\n",
       "      <td>-0.066770</td>\n",
       "      <td>0.003082</td>\n",
       "      <td>0.010519</td>\n",
       "      <td>-0.015495</td>\n",
       "      <td>...</td>\n",
       "      <td>-0.039243</td>\n",
       "      <td>0.019521</td>\n",
       "      <td>0.012809</td>\n",
       "      <td>0.004761</td>\n",
       "      <td>-0.020577</td>\n",
       "      <td>-0.002664</td>\n",
       "      <td>0.006225</td>\n",
       "      <td>-0.005192</td>\n",
       "      <td>-0.003125</td>\n",
       "      <td>-0.011483</td>\n",
       "    </tr>\n",
       "    <tr>\n",
       "      <th>2022-01-28</th>\n",
       "      <td>0.037626</td>\n",
       "      <td>-0.008872</td>\n",
       "      <td>0.013815</td>\n",
       "      <td>0.069778</td>\n",
       "      <td>0.014341</td>\n",
       "      <td>0.015666</td>\n",
       "      <td>-0.000180</td>\n",
       "      <td>0.040767</td>\n",
       "      <td>0.028468</td>\n",
       "      <td>0.050928</td>\n",
       "      <td>...</td>\n",
       "      <td>0.016677</td>\n",
       "      <td>0.013055</td>\n",
       "      <td>0.002130</td>\n",
       "      <td>0.012889</td>\n",
       "      <td>0.012745</td>\n",
       "      <td>0.020197</td>\n",
       "      <td>-0.002887</td>\n",
       "      <td>0.040868</td>\n",
       "      <td>0.017316</td>\n",
       "      <td>0.040712</td>\n",
       "    </tr>\n",
       "  </tbody>\n",
       "</table>\n",
       "<p>3291 rows × 502 columns</p>\n",
       "</div>\n",
       "      <button class=\"colab-df-convert\" onclick=\"convertToInteractive('df-2ac3593d-e23c-4b92-8354-12a7b3b32a9e')\"\n",
       "              title=\"Convert this dataframe to an interactive table.\"\n",
       "              style=\"display:none;\">\n",
       "        \n",
       "  <svg xmlns=\"http://www.w3.org/2000/svg\" height=\"24px\"viewBox=\"0 0 24 24\"\n",
       "       width=\"24px\">\n",
       "    <path d=\"M0 0h24v24H0V0z\" fill=\"none\"/>\n",
       "    <path d=\"M18.56 5.44l.94 2.06.94-2.06 2.06-.94-2.06-.94-.94-2.06-.94 2.06-2.06.94zm-11 1L8.5 8.5l.94-2.06 2.06-.94-2.06-.94L8.5 2.5l-.94 2.06-2.06.94zm10 10l.94 2.06.94-2.06 2.06-.94-2.06-.94-.94-2.06-.94 2.06-2.06.94z\"/><path d=\"M17.41 7.96l-1.37-1.37c-.4-.4-.92-.59-1.43-.59-.52 0-1.04.2-1.43.59L10.3 9.45l-7.72 7.72c-.78.78-.78 2.05 0 2.83L4 21.41c.39.39.9.59 1.41.59.51 0 1.02-.2 1.41-.59l7.78-7.78 2.81-2.81c.8-.78.8-2.07 0-2.86zM5.41 20L4 18.59l7.72-7.72 1.47 1.35L5.41 20z\"/>\n",
       "  </svg>\n",
       "      </button>\n",
       "      \n",
       "  <style>\n",
       "    .colab-df-container {\n",
       "      display:flex;\n",
       "      flex-wrap:wrap;\n",
       "      gap: 12px;\n",
       "    }\n",
       "\n",
       "    .colab-df-convert {\n",
       "      background-color: #E8F0FE;\n",
       "      border: none;\n",
       "      border-radius: 50%;\n",
       "      cursor: pointer;\n",
       "      display: none;\n",
       "      fill: #1967D2;\n",
       "      height: 32px;\n",
       "      padding: 0 0 0 0;\n",
       "      width: 32px;\n",
       "    }\n",
       "\n",
       "    .colab-df-convert:hover {\n",
       "      background-color: #E2EBFA;\n",
       "      box-shadow: 0px 1px 2px rgba(60, 64, 67, 0.3), 0px 1px 3px 1px rgba(60, 64, 67, 0.15);\n",
       "      fill: #174EA6;\n",
       "    }\n",
       "\n",
       "    [theme=dark] .colab-df-convert {\n",
       "      background-color: #3B4455;\n",
       "      fill: #D2E3FC;\n",
       "    }\n",
       "\n",
       "    [theme=dark] .colab-df-convert:hover {\n",
       "      background-color: #434B5C;\n",
       "      box-shadow: 0px 1px 3px 1px rgba(0, 0, 0, 0.15);\n",
       "      filter: drop-shadow(0px 1px 2px rgba(0, 0, 0, 0.3));\n",
       "      fill: #FFFFFF;\n",
       "    }\n",
       "  </style>\n",
       "\n",
       "      <script>\n",
       "        const buttonEl =\n",
       "          document.querySelector('#df-2ac3593d-e23c-4b92-8354-12a7b3b32a9e button.colab-df-convert');\n",
       "        buttonEl.style.display =\n",
       "          google.colab.kernel.accessAllowed ? 'block' : 'none';\n",
       "\n",
       "        async function convertToInteractive(key) {\n",
       "          const element = document.querySelector('#df-2ac3593d-e23c-4b92-8354-12a7b3b32a9e');\n",
       "          const dataTable =\n",
       "            await google.colab.kernel.invokeFunction('convertToInteractive',\n",
       "                                                     [key], {});\n",
       "          if (!dataTable) return;\n",
       "\n",
       "          const docLinkHtml = 'Like what you see? Visit the ' +\n",
       "            '<a target=\"_blank\" href=https://colab.research.google.com/notebooks/data_table.ipynb>data table notebook</a>'\n",
       "            + ' to learn more about interactive tables.';\n",
       "          element.innerHTML = '';\n",
       "          dataTable['output_type'] = 'display_data';\n",
       "          await google.colab.output.renderOutput(dataTable, element);\n",
       "          const docLink = document.createElement('div');\n",
       "          docLink.innerHTML = docLinkHtml;\n",
       "          element.appendChild(docLink);\n",
       "        }\n",
       "      </script>\n",
       "    </div>\n",
       "  </div>\n",
       "  "
      ],
      "text/plain": [
       "                   A       AAL       AAP      AAPL      ABBV       ABC  \\\n",
       "Date                                                                     \n",
       "2009-01-05  0.033867 -0.007151 -0.013474  0.042204  0.000000  0.019117   \n",
       "2009-01-06  0.079809  0.087635  0.001485 -0.016494  0.000000 -0.003862   \n",
       "2009-01-07  0.005516  0.002207 -0.039727 -0.021609  0.000000 -0.005539   \n",
       "2009-01-08  0.006582  0.053965  0.003397  0.018570  0.000000  0.022556   \n",
       "2009-01-09  0.009264 -0.059561 -0.022154 -0.022869  0.000000 -0.021514   \n",
       "...              ...       ...       ...       ...       ...       ...   \n",
       "2022-01-24  0.004436  0.006749  0.029449 -0.004864  0.001364  0.000228   \n",
       "2022-01-25 -0.025702  0.003047 -0.011297 -0.011385  0.007037 -0.003725   \n",
       "2022-01-26 -0.007877 -0.013366 -0.021983 -0.000563  0.008566 -0.003891   \n",
       "2022-01-27 -0.010636 -0.028325 -0.000044 -0.002943  0.012963  0.031712   \n",
       "2022-01-28  0.037626 -0.008872  0.013815  0.069778  0.014341  0.015666   \n",
       "\n",
       "                ABMD       ABT       ACN      ADBE  ...      WYNN       XEL  \\\n",
       "Date                                                ...                       \n",
       "2009-01-05 -0.020208 -0.017177  0.004455  0.004778  ...  0.102910 -0.009554   \n",
       "2009-01-06 -0.051875 -0.032675 -0.012419  0.047125  ...  0.056978 -0.012862   \n",
       "2009-01-07 -0.030982 -0.005499  0.011377  0.000413  ... -0.145622 -0.010315   \n",
       "2009-01-08 -0.028571  0.011059 -0.010065  0.002476  ... -0.016515  0.013165   \n",
       "2009-01-09 -0.034314 -0.000586  0.008672 -0.011527  ... -0.051884 -0.012453   \n",
       "...              ...       ...       ...       ...  ...       ...       ...   \n",
       "2022-01-24  0.024198 -0.015974  0.010041  0.039507  ... -0.009924 -0.011580   \n",
       "2022-01-25 -0.048407 -0.004442 -0.011947 -0.032598  ...  0.019575  0.006674   \n",
       "2022-01-26  0.001011 -0.025959 -0.015107 -0.003799  ... -0.003817 -0.003830   \n",
       "2022-01-27 -0.066770  0.003082  0.010519 -0.015495  ... -0.039243  0.019521   \n",
       "2022-01-28 -0.000180  0.040767  0.028468  0.050928  ...  0.016677  0.013055   \n",
       "\n",
       "                 XOM      XRAY       XYL       YUM       ZBH      ZBRA  \\\n",
       "Date                                                                     \n",
       "2009-01-05 -0.000123 -0.032979  0.000000  0.027187 -0.020594 -0.013790   \n",
       "2009-01-06 -0.016293 -0.026643  0.000000 -0.001825  0.018582  0.025072   \n",
       "2009-01-07 -0.025529  0.002919  0.000000 -0.035660 -0.032405  0.000941   \n",
       "2009-01-08  0.010734  0.012009  0.000000 -0.004741  0.026793 -0.030545   \n",
       "2009-01-09 -0.019219 -0.014383  0.000000 -0.027628  0.012080 -0.057683   \n",
       "...              ...       ...       ...       ...       ...       ...   \n",
       "2022-01-24  0.008591  0.017948  0.004669  0.016903  0.009058 -0.007325   \n",
       "2022-01-25  0.029400 -0.021529 -0.034576 -0.033956 -0.021836 -0.033757   \n",
       "2022-01-26 -0.010143 -0.003983 -0.012804 -0.015649 -0.003803  0.003587   \n",
       "2022-01-27  0.012809  0.004761 -0.020577 -0.002664  0.006225 -0.005192   \n",
       "2022-01-28  0.002130  0.012889  0.012745  0.020197 -0.002887  0.040868   \n",
       "\n",
       "                ZION       ZTS  \n",
       "Date                            \n",
       "2009-01-05 -0.026801  0.000000  \n",
       "2009-01-06  0.033704  0.000000  \n",
       "2009-01-07 -0.102187  0.000000  \n",
       "2009-01-08 -0.016829  0.000000  \n",
       "2009-01-09 -0.018919  0.000000  \n",
       "...              ...       ...  \n",
       "2022-01-24  0.016518 -0.001298  \n",
       "2022-01-25  0.059105 -0.024092  \n",
       "2022-01-26  0.010830 -0.027708  \n",
       "2022-01-27 -0.003125 -0.011483  \n",
       "2022-01-28  0.017316  0.040712  \n",
       "\n",
       "[3291 rows x 502 columns]"
      ]
     },
     "execution_count": 14,
     "metadata": {},
     "output_type": "execute_result"
    }
   ],
   "source": [
    "autoencoder_data"
   ]
  },
  {
   "cell_type": "code",
   "execution_count": null,
   "metadata": {
    "id": "4472vuv6qusZ"
   },
   "outputs": [],
   "source": [
    "autoencoder_data = autoencoder_data.T.copy()"
   ]
  },
  {
   "cell_type": "code",
   "execution_count": null,
   "metadata": {
    "colab": {
     "base_uri": "https://localhost:8080/"
    },
    "id": "wJtk_ybzRwWh",
    "outputId": "dd7909cf-012f-4649-c6de-46990476da05"
   },
   "outputs": [
    {
     "data": {
      "text/html": [
       "\n",
       "  <div id=\"df-f0b8409f-9b3f-4524-926f-b5254f4edac4\">\n",
       "    <div class=\"colab-df-container\">\n",
       "      <div>\n",
       "<style scoped>\n",
       "    .dataframe tbody tr th:only-of-type {\n",
       "        vertical-align: middle;\n",
       "    }\n",
       "\n",
       "    .dataframe tbody tr th {\n",
       "        vertical-align: top;\n",
       "    }\n",
       "\n",
       "    .dataframe thead th {\n",
       "        text-align: right;\n",
       "    }\n",
       "</style>\n",
       "<table border=\"1\" class=\"dataframe\">\n",
       "  <thead>\n",
       "    <tr style=\"text-align: right;\">\n",
       "      <th>Date</th>\n",
       "      <th>2009-01-05</th>\n",
       "      <th>2009-01-06</th>\n",
       "      <th>2009-01-07</th>\n",
       "      <th>2009-01-08</th>\n",
       "      <th>2009-01-09</th>\n",
       "      <th>2009-01-12</th>\n",
       "      <th>2009-01-13</th>\n",
       "      <th>2009-01-14</th>\n",
       "      <th>2009-01-15</th>\n",
       "      <th>2009-01-16</th>\n",
       "      <th>...</th>\n",
       "      <th>2022-01-14</th>\n",
       "      <th>2022-01-18</th>\n",
       "      <th>2022-01-19</th>\n",
       "      <th>2022-01-20</th>\n",
       "      <th>2022-01-21</th>\n",
       "      <th>2022-01-24</th>\n",
       "      <th>2022-01-25</th>\n",
       "      <th>2022-01-26</th>\n",
       "      <th>2022-01-27</th>\n",
       "      <th>2022-01-28</th>\n",
       "    </tr>\n",
       "  </thead>\n",
       "  <tbody>\n",
       "    <tr>\n",
       "      <th>A</th>\n",
       "      <td>0.033867</td>\n",
       "      <td>0.079809</td>\n",
       "      <td>0.005516</td>\n",
       "      <td>0.006582</td>\n",
       "      <td>0.009264</td>\n",
       "      <td>0.000000</td>\n",
       "      <td>0.029158</td>\n",
       "      <td>-0.032004</td>\n",
       "      <td>0.036314</td>\n",
       "      <td>0.020397</td>\n",
       "      <td>...</td>\n",
       "      <td>-0.003375</td>\n",
       "      <td>-0.029099</td>\n",
       "      <td>-0.000285</td>\n",
       "      <td>-0.006765</td>\n",
       "      <td>-0.014124</td>\n",
       "      <td>0.004436</td>\n",
       "      <td>-0.025702</td>\n",
       "      <td>-0.007877</td>\n",
       "      <td>-0.010636</td>\n",
       "      <td>0.037626</td>\n",
       "    </tr>\n",
       "    <tr>\n",
       "      <th>AAL</th>\n",
       "      <td>-0.007151</td>\n",
       "      <td>0.087635</td>\n",
       "      <td>0.002207</td>\n",
       "      <td>0.053965</td>\n",
       "      <td>-0.059561</td>\n",
       "      <td>-0.051111</td>\n",
       "      <td>-0.031616</td>\n",
       "      <td>-0.106409</td>\n",
       "      <td>0.021651</td>\n",
       "      <td>0.129801</td>\n",
       "      <td>...</td>\n",
       "      <td>-0.043950</td>\n",
       "      <td>-0.031909</td>\n",
       "      <td>-0.032961</td>\n",
       "      <td>-0.031773</td>\n",
       "      <td>-0.027446</td>\n",
       "      <td>0.006749</td>\n",
       "      <td>0.003047</td>\n",
       "      <td>-0.013366</td>\n",
       "      <td>-0.028325</td>\n",
       "      <td>-0.008872</td>\n",
       "    </tr>\n",
       "    <tr>\n",
       "      <th>AAP</th>\n",
       "      <td>-0.013474</td>\n",
       "      <td>0.001485</td>\n",
       "      <td>-0.039727</td>\n",
       "      <td>0.003397</td>\n",
       "      <td>-0.022154</td>\n",
       "      <td>-0.029893</td>\n",
       "      <td>0.009406</td>\n",
       "      <td>-0.031812</td>\n",
       "      <td>0.015267</td>\n",
       "      <td>0.036940</td>\n",
       "      <td>...</td>\n",
       "      <td>-0.007127</td>\n",
       "      <td>-0.007053</td>\n",
       "      <td>-0.015006</td>\n",
       "      <td>-0.021379</td>\n",
       "      <td>-0.013867</td>\n",
       "      <td>0.029449</td>\n",
       "      <td>-0.011297</td>\n",
       "      <td>-0.021983</td>\n",
       "      <td>-0.000044</td>\n",
       "      <td>0.013815</td>\n",
       "    </tr>\n",
       "    <tr>\n",
       "      <th>AAPL</th>\n",
       "      <td>0.042204</td>\n",
       "      <td>-0.016494</td>\n",
       "      <td>-0.021609</td>\n",
       "      <td>0.018570</td>\n",
       "      <td>-0.022869</td>\n",
       "      <td>-0.021197</td>\n",
       "      <td>-0.010715</td>\n",
       "      <td>-0.027135</td>\n",
       "      <td>-0.022853</td>\n",
       "      <td>-0.012593</td>\n",
       "      <td>...</td>\n",
       "      <td>0.005111</td>\n",
       "      <td>-0.018894</td>\n",
       "      <td>-0.021025</td>\n",
       "      <td>-0.010347</td>\n",
       "      <td>-0.012765</td>\n",
       "      <td>-0.004864</td>\n",
       "      <td>-0.011385</td>\n",
       "      <td>-0.000563</td>\n",
       "      <td>-0.002943</td>\n",
       "      <td>0.069778</td>\n",
       "    </tr>\n",
       "    <tr>\n",
       "      <th>ABBV</th>\n",
       "      <td>0.000000</td>\n",
       "      <td>0.000000</td>\n",
       "      <td>0.000000</td>\n",
       "      <td>0.000000</td>\n",
       "      <td>0.000000</td>\n",
       "      <td>0.000000</td>\n",
       "      <td>0.000000</td>\n",
       "      <td>0.000000</td>\n",
       "      <td>0.000000</td>\n",
       "      <td>0.000000</td>\n",
       "      <td>...</td>\n",
       "      <td>0.017600</td>\n",
       "      <td>0.006698</td>\n",
       "      <td>-0.011478</td>\n",
       "      <td>-0.016123</td>\n",
       "      <td>-0.007893</td>\n",
       "      <td>0.001364</td>\n",
       "      <td>0.007037</td>\n",
       "      <td>0.008566</td>\n",
       "      <td>0.012963</td>\n",
       "      <td>0.014341</td>\n",
       "    </tr>\n",
       "    <tr>\n",
       "      <th>...</th>\n",
       "      <td>...</td>\n",
       "      <td>...</td>\n",
       "      <td>...</td>\n",
       "      <td>...</td>\n",
       "      <td>...</td>\n",
       "      <td>...</td>\n",
       "      <td>...</td>\n",
       "      <td>...</td>\n",
       "      <td>...</td>\n",
       "      <td>...</td>\n",
       "      <td>...</td>\n",
       "      <td>...</td>\n",
       "      <td>...</td>\n",
       "      <td>...</td>\n",
       "      <td>...</td>\n",
       "      <td>...</td>\n",
       "      <td>...</td>\n",
       "      <td>...</td>\n",
       "      <td>...</td>\n",
       "      <td>...</td>\n",
       "      <td>...</td>\n",
       "    </tr>\n",
       "    <tr>\n",
       "      <th>YUM</th>\n",
       "      <td>0.027187</td>\n",
       "      <td>-0.001825</td>\n",
       "      <td>-0.035660</td>\n",
       "      <td>-0.004741</td>\n",
       "      <td>-0.027628</td>\n",
       "      <td>-0.003266</td>\n",
       "      <td>-0.020642</td>\n",
       "      <td>-0.033670</td>\n",
       "      <td>0.029617</td>\n",
       "      <td>0.012183</td>\n",
       "      <td>...</td>\n",
       "      <td>-0.013586</td>\n",
       "      <td>-0.005352</td>\n",
       "      <td>-0.014876</td>\n",
       "      <td>-0.007068</td>\n",
       "      <td>0.005015</td>\n",
       "      <td>0.016903</td>\n",
       "      <td>-0.033956</td>\n",
       "      <td>-0.015649</td>\n",
       "      <td>-0.002664</td>\n",
       "      <td>0.020197</td>\n",
       "    </tr>\n",
       "    <tr>\n",
       "      <th>ZBH</th>\n",
       "      <td>-0.020594</td>\n",
       "      <td>0.018582</td>\n",
       "      <td>-0.032405</td>\n",
       "      <td>0.026793</td>\n",
       "      <td>0.012080</td>\n",
       "      <td>-0.019575</td>\n",
       "      <td>-0.002191</td>\n",
       "      <td>-0.010981</td>\n",
       "      <td>0.004195</td>\n",
       "      <td>-0.003932</td>\n",
       "      <td>...</td>\n",
       "      <td>-0.005388</td>\n",
       "      <td>-0.008086</td>\n",
       "      <td>-0.024377</td>\n",
       "      <td>-0.001866</td>\n",
       "      <td>-0.004064</td>\n",
       "      <td>0.009058</td>\n",
       "      <td>-0.021836</td>\n",
       "      <td>-0.003803</td>\n",
       "      <td>0.006225</td>\n",
       "      <td>-0.002887</td>\n",
       "    </tr>\n",
       "    <tr>\n",
       "      <th>ZBRA</th>\n",
       "      <td>-0.013790</td>\n",
       "      <td>0.025072</td>\n",
       "      <td>0.000941</td>\n",
       "      <td>-0.030545</td>\n",
       "      <td>-0.057683</td>\n",
       "      <td>-0.032407</td>\n",
       "      <td>-0.017012</td>\n",
       "      <td>-0.016225</td>\n",
       "      <td>0.008796</td>\n",
       "      <td>0.009264</td>\n",
       "      <td>...</td>\n",
       "      <td>0.004184</td>\n",
       "      <td>-0.021364</td>\n",
       "      <td>-0.006986</td>\n",
       "      <td>-0.022783</td>\n",
       "      <td>-0.014439</td>\n",
       "      <td>-0.007325</td>\n",
       "      <td>-0.033757</td>\n",
       "      <td>0.003587</td>\n",
       "      <td>-0.005192</td>\n",
       "      <td>0.040868</td>\n",
       "    </tr>\n",
       "    <tr>\n",
       "      <th>ZION</th>\n",
       "      <td>-0.026801</td>\n",
       "      <td>0.033704</td>\n",
       "      <td>-0.102187</td>\n",
       "      <td>-0.016829</td>\n",
       "      <td>-0.018919</td>\n",
       "      <td>-0.044077</td>\n",
       "      <td>0.052353</td>\n",
       "      <td>-0.041990</td>\n",
       "      <td>-0.131015</td>\n",
       "      <td>-0.095943</td>\n",
       "      <td>...</td>\n",
       "      <td>0.008422</td>\n",
       "      <td>-0.017268</td>\n",
       "      <td>-0.046954</td>\n",
       "      <td>-0.029318</td>\n",
       "      <td>-0.038611</td>\n",
       "      <td>0.016518</td>\n",
       "      <td>0.059105</td>\n",
       "      <td>0.010830</td>\n",
       "      <td>-0.003125</td>\n",
       "      <td>0.017316</td>\n",
       "    </tr>\n",
       "    <tr>\n",
       "      <th>ZTS</th>\n",
       "      <td>0.000000</td>\n",
       "      <td>0.000000</td>\n",
       "      <td>0.000000</td>\n",
       "      <td>0.000000</td>\n",
       "      <td>0.000000</td>\n",
       "      <td>0.000000</td>\n",
       "      <td>0.000000</td>\n",
       "      <td>0.000000</td>\n",
       "      <td>0.000000</td>\n",
       "      <td>0.000000</td>\n",
       "      <td>...</td>\n",
       "      <td>-0.003961</td>\n",
       "      <td>-0.016878</td>\n",
       "      <td>-0.008870</td>\n",
       "      <td>0.006880</td>\n",
       "      <td>-0.008071</td>\n",
       "      <td>-0.001298</td>\n",
       "      <td>-0.024092</td>\n",
       "      <td>-0.027708</td>\n",
       "      <td>-0.011483</td>\n",
       "      <td>0.040712</td>\n",
       "    </tr>\n",
       "  </tbody>\n",
       "</table>\n",
       "<p>502 rows × 3291 columns</p>\n",
       "</div>\n",
       "      <button class=\"colab-df-convert\" onclick=\"convertToInteractive('df-f0b8409f-9b3f-4524-926f-b5254f4edac4')\"\n",
       "              title=\"Convert this dataframe to an interactive table.\"\n",
       "              style=\"display:none;\">\n",
       "        \n",
       "  <svg xmlns=\"http://www.w3.org/2000/svg\" height=\"24px\"viewBox=\"0 0 24 24\"\n",
       "       width=\"24px\">\n",
       "    <path d=\"M0 0h24v24H0V0z\" fill=\"none\"/>\n",
       "    <path d=\"M18.56 5.44l.94 2.06.94-2.06 2.06-.94-2.06-.94-.94-2.06-.94 2.06-2.06.94zm-11 1L8.5 8.5l.94-2.06 2.06-.94-2.06-.94L8.5 2.5l-.94 2.06-2.06.94zm10 10l.94 2.06.94-2.06 2.06-.94-2.06-.94-.94-2.06-.94 2.06-2.06.94z\"/><path d=\"M17.41 7.96l-1.37-1.37c-.4-.4-.92-.59-1.43-.59-.52 0-1.04.2-1.43.59L10.3 9.45l-7.72 7.72c-.78.78-.78 2.05 0 2.83L4 21.41c.39.39.9.59 1.41.59.51 0 1.02-.2 1.41-.59l7.78-7.78 2.81-2.81c.8-.78.8-2.07 0-2.86zM5.41 20L4 18.59l7.72-7.72 1.47 1.35L5.41 20z\"/>\n",
       "  </svg>\n",
       "      </button>\n",
       "      \n",
       "  <style>\n",
       "    .colab-df-container {\n",
       "      display:flex;\n",
       "      flex-wrap:wrap;\n",
       "      gap: 12px;\n",
       "    }\n",
       "\n",
       "    .colab-df-convert {\n",
       "      background-color: #E8F0FE;\n",
       "      border: none;\n",
       "      border-radius: 50%;\n",
       "      cursor: pointer;\n",
       "      display: none;\n",
       "      fill: #1967D2;\n",
       "      height: 32px;\n",
       "      padding: 0 0 0 0;\n",
       "      width: 32px;\n",
       "    }\n",
       "\n",
       "    .colab-df-convert:hover {\n",
       "      background-color: #E2EBFA;\n",
       "      box-shadow: 0px 1px 2px rgba(60, 64, 67, 0.3), 0px 1px 3px 1px rgba(60, 64, 67, 0.15);\n",
       "      fill: #174EA6;\n",
       "    }\n",
       "\n",
       "    [theme=dark] .colab-df-convert {\n",
       "      background-color: #3B4455;\n",
       "      fill: #D2E3FC;\n",
       "    }\n",
       "\n",
       "    [theme=dark] .colab-df-convert:hover {\n",
       "      background-color: #434B5C;\n",
       "      box-shadow: 0px 1px 3px 1px rgba(0, 0, 0, 0.15);\n",
       "      filter: drop-shadow(0px 1px 2px rgba(0, 0, 0, 0.3));\n",
       "      fill: #FFFFFF;\n",
       "    }\n",
       "  </style>\n",
       "\n",
       "      <script>\n",
       "        const buttonEl =\n",
       "          document.querySelector('#df-f0b8409f-9b3f-4524-926f-b5254f4edac4 button.colab-df-convert');\n",
       "        buttonEl.style.display =\n",
       "          google.colab.kernel.accessAllowed ? 'block' : 'none';\n",
       "\n",
       "        async function convertToInteractive(key) {\n",
       "          const element = document.querySelector('#df-f0b8409f-9b3f-4524-926f-b5254f4edac4');\n",
       "          const dataTable =\n",
       "            await google.colab.kernel.invokeFunction('convertToInteractive',\n",
       "                                                     [key], {});\n",
       "          if (!dataTable) return;\n",
       "\n",
       "          const docLinkHtml = 'Like what you see? Visit the ' +\n",
       "            '<a target=\"_blank\" href=https://colab.research.google.com/notebooks/data_table.ipynb>data table notebook</a>'\n",
       "            + ' to learn more about interactive tables.';\n",
       "          element.innerHTML = '';\n",
       "          dataTable['output_type'] = 'display_data';\n",
       "          await google.colab.output.renderOutput(dataTable, element);\n",
       "          const docLink = document.createElement('div');\n",
       "          docLink.innerHTML = docLinkHtml;\n",
       "          element.appendChild(docLink);\n",
       "        }\n",
       "      </script>\n",
       "    </div>\n",
       "  </div>\n",
       "  "
      ],
      "text/plain": [
       "Date  2009-01-05  2009-01-06  2009-01-07  2009-01-08  2009-01-09  2009-01-12  \\\n",
       "A       0.033867    0.079809    0.005516    0.006582    0.009264    0.000000   \n",
       "AAL    -0.007151    0.087635    0.002207    0.053965   -0.059561   -0.051111   \n",
       "AAP    -0.013474    0.001485   -0.039727    0.003397   -0.022154   -0.029893   \n",
       "AAPL    0.042204   -0.016494   -0.021609    0.018570   -0.022869   -0.021197   \n",
       "ABBV    0.000000    0.000000    0.000000    0.000000    0.000000    0.000000   \n",
       "...          ...         ...         ...         ...         ...         ...   \n",
       "YUM     0.027187   -0.001825   -0.035660   -0.004741   -0.027628   -0.003266   \n",
       "ZBH    -0.020594    0.018582   -0.032405    0.026793    0.012080   -0.019575   \n",
       "ZBRA   -0.013790    0.025072    0.000941   -0.030545   -0.057683   -0.032407   \n",
       "ZION   -0.026801    0.033704   -0.102187   -0.016829   -0.018919   -0.044077   \n",
       "ZTS     0.000000    0.000000    0.000000    0.000000    0.000000    0.000000   \n",
       "\n",
       "Date  2009-01-13  2009-01-14  2009-01-15  2009-01-16  ...  2022-01-14  \\\n",
       "A       0.029158   -0.032004    0.036314    0.020397  ...   -0.003375   \n",
       "AAL    -0.031616   -0.106409    0.021651    0.129801  ...   -0.043950   \n",
       "AAP     0.009406   -0.031812    0.015267    0.036940  ...   -0.007127   \n",
       "AAPL   -0.010715   -0.027135   -0.022853   -0.012593  ...    0.005111   \n",
       "ABBV    0.000000    0.000000    0.000000    0.000000  ...    0.017600   \n",
       "...          ...         ...         ...         ...  ...         ...   \n",
       "YUM    -0.020642   -0.033670    0.029617    0.012183  ...   -0.013586   \n",
       "ZBH    -0.002191   -0.010981    0.004195   -0.003932  ...   -0.005388   \n",
       "ZBRA   -0.017012   -0.016225    0.008796    0.009264  ...    0.004184   \n",
       "ZION    0.052353   -0.041990   -0.131015   -0.095943  ...    0.008422   \n",
       "ZTS     0.000000    0.000000    0.000000    0.000000  ...   -0.003961   \n",
       "\n",
       "Date  2022-01-18  2022-01-19  2022-01-20  2022-01-21  2022-01-24  2022-01-25  \\\n",
       "A      -0.029099   -0.000285   -0.006765   -0.014124    0.004436   -0.025702   \n",
       "AAL    -0.031909   -0.032961   -0.031773   -0.027446    0.006749    0.003047   \n",
       "AAP    -0.007053   -0.015006   -0.021379   -0.013867    0.029449   -0.011297   \n",
       "AAPL   -0.018894   -0.021025   -0.010347   -0.012765   -0.004864   -0.011385   \n",
       "ABBV    0.006698   -0.011478   -0.016123   -0.007893    0.001364    0.007037   \n",
       "...          ...         ...         ...         ...         ...         ...   \n",
       "YUM    -0.005352   -0.014876   -0.007068    0.005015    0.016903   -0.033956   \n",
       "ZBH    -0.008086   -0.024377   -0.001866   -0.004064    0.009058   -0.021836   \n",
       "ZBRA   -0.021364   -0.006986   -0.022783   -0.014439   -0.007325   -0.033757   \n",
       "ZION   -0.017268   -0.046954   -0.029318   -0.038611    0.016518    0.059105   \n",
       "ZTS    -0.016878   -0.008870    0.006880   -0.008071   -0.001298   -0.024092   \n",
       "\n",
       "Date  2022-01-26  2022-01-27  2022-01-28  \n",
       "A      -0.007877   -0.010636    0.037626  \n",
       "AAL    -0.013366   -0.028325   -0.008872  \n",
       "AAP    -0.021983   -0.000044    0.013815  \n",
       "AAPL   -0.000563   -0.002943    0.069778  \n",
       "ABBV    0.008566    0.012963    0.014341  \n",
       "...          ...         ...         ...  \n",
       "YUM    -0.015649   -0.002664    0.020197  \n",
       "ZBH    -0.003803    0.006225   -0.002887  \n",
       "ZBRA    0.003587   -0.005192    0.040868  \n",
       "ZION    0.010830   -0.003125    0.017316  \n",
       "ZTS    -0.027708   -0.011483    0.040712  \n",
       "\n",
       "[502 rows x 3291 columns]"
      ]
     },
     "execution_count": 16,
     "metadata": {},
     "output_type": "execute_result"
    }
   ],
   "source": [
    "autoencoder_data "
   ]
  },
  {
   "cell_type": "markdown",
   "metadata": {
    "id": "DO9RhVUXue8Z"
   },
   "source": [
    "## 03 - Creo la red neuronal Autoencoder"
   ]
  },
  {
   "cell_type": "code",
   "execution_count": null,
   "metadata": {
    "id": "EEIlSzSO1i88"
   },
   "outputs": [],
   "source": [
    "# This is the dimension of the original space\n",
    "input_dim = autoencoder_data.shape[1]\n",
    "\n",
    "# This is the dimension of the latent space (encoding space)\n",
    "latent_dim = int(autoencoder_data.shape[1] / 10)\n",
    "\n",
    "encoder = Sequential([\n",
    "    Dense(int(autoencoder_data.shape[1] / 2), activation='relu', input_shape=(input_dim,)),\n",
    "    Dropout(0.3),\n",
    "    Dense(int(autoencoder_data.shape[1] / 4), activation='relu'),\n",
    "    Dropout(0.3),\n",
    "    Dense(int(autoencoder_data.shape[1] / 5), activation='relu', input_shape=(input_dim,)),\n",
    "    Dropout(0.3),\n",
    "    Dense(latent_dim, activation=None)\n",
    "])\n",
    "\n",
    "decoder = Sequential([\n",
    "    Dense(int(autoencoder_data.shape[1] / 5), activation='relu', input_shape=(latent_dim,)),\n",
    "    Dropout(0.3),\n",
    "    Dense(int(autoencoder_data.shape[1] / 4), activation='relu'),\n",
    "    Dropout(0.3),\n",
    "    Dense(int(autoencoder_data.shape[1] / 2), activation='relu'),\n",
    "    Dropout(0.3),\n",
    "    Dense(input_dim, activation=None)\n",
    "])"
   ]
  },
  {
   "cell_type": "code",
   "execution_count": null,
   "metadata": {
    "id": "Aki1M4aG1i6Z"
   },
   "outputs": [],
   "source": [
    "autoencoder = Model(inputs=encoder.input, outputs=decoder(encoder.output))\n",
    "autoencoder.compile(loss='mape', optimizer='Adam')\n",
    "# Podemos decidir que score queremos monitorizar, cuantas epochs esperar después del mejor score y si queremos que nos devuelva el mejor modelo.\n",
    "early_stopping = EarlyStopping(monitor='loss', patience=50, mode='max', restore_best_weights=True)"
   ]
  },
  {
   "cell_type": "code",
   "execution_count": null,
   "metadata": {
    "colab": {
     "base_uri": "https://localhost:8080/",
     "height": 1000
    },
    "id": "1OHtT7uI1i4J",
    "outputId": "f0ba8be0-6f0f-4ba3-fa42-142922eb9aed"
   },
   "outputs": [
    {
     "name": "stdout",
     "output_type": "stream",
     "text": [
      "Epoch 1/300\n",
      "2/2 [==============================] - 2s 446ms/step - loss: 173676.8750\n",
      "Epoch 2/300\n",
      "2/2 [==============================] - 1s 391ms/step - loss: 37297.3555\n",
      "Epoch 3/300\n",
      "2/2 [==============================] - 1s 389ms/step - loss: 28678.9141\n",
      "Epoch 4/300\n",
      "2/2 [==============================] - 1s 388ms/step - loss: 22089.4375\n",
      "Epoch 5/300\n",
      "2/2 [==============================] - 1s 381ms/step - loss: 18677.2305\n",
      "Epoch 6/300\n",
      "2/2 [==============================] - 1s 397ms/step - loss: 18320.8203\n",
      "Epoch 7/300\n",
      "2/2 [==============================] - 1s 395ms/step - loss: 15153.7070\n",
      "Epoch 8/300\n",
      "2/2 [==============================] - 1s 395ms/step - loss: 15680.6855\n",
      "Epoch 9/300\n",
      "2/2 [==============================] - 1s 393ms/step - loss: 14709.6094\n",
      "Epoch 10/300\n",
      "2/2 [==============================] - 1s 383ms/step - loss: 12330.6973\n",
      "Epoch 11/300\n",
      "2/2 [==============================] - 1s 384ms/step - loss: 12635.0918\n",
      "Epoch 12/300\n",
      "2/2 [==============================] - 1s 377ms/step - loss: 11952.9932\n",
      "Epoch 13/300\n",
      "2/2 [==============================] - 1s 383ms/step - loss: 10156.1045\n",
      "Epoch 14/300\n",
      "2/2 [==============================] - 1s 377ms/step - loss: 11024.5264\n",
      "Epoch 15/300\n",
      "2/2 [==============================] - 1s 393ms/step - loss: 10037.2705\n",
      "Epoch 16/300\n",
      "2/2 [==============================] - 1s 389ms/step - loss: 9800.6934\n",
      "Epoch 17/300\n",
      "2/2 [==============================] - 1s 382ms/step - loss: 9404.5059\n",
      "Epoch 18/300\n",
      "2/2 [==============================] - 1s 371ms/step - loss: 8709.0449\n",
      "Epoch 19/300\n",
      "2/2 [==============================] - 1s 379ms/step - loss: 9212.4893\n",
      "Epoch 20/300\n",
      "2/2 [==============================] - 1s 380ms/step - loss: 9287.5137\n",
      "Epoch 21/300\n",
      "2/2 [==============================] - 2s 1s/step - loss: 8535.8271\n",
      "Epoch 22/300\n",
      "2/2 [==============================] - 1s 375ms/step - loss: 8577.1270\n",
      "Epoch 23/300\n",
      "2/2 [==============================] - 1s 373ms/step - loss: 9364.3701\n",
      "Epoch 24/300\n",
      "2/2 [==============================] - 1s 388ms/step - loss: 8410.1875\n",
      "Epoch 25/300\n",
      "2/2 [==============================] - 1s 394ms/step - loss: 8955.9580\n",
      "Epoch 26/300\n",
      "2/2 [==============================] - 1s 388ms/step - loss: 8298.6230\n",
      "Epoch 27/300\n",
      "2/2 [==============================] - 1s 391ms/step - loss: 8274.3389\n",
      "Epoch 28/300\n",
      "2/2 [==============================] - 1s 387ms/step - loss: 8407.6553\n",
      "Epoch 29/300\n",
      "2/2 [==============================] - 1s 378ms/step - loss: 7977.5527\n",
      "Epoch 30/300\n",
      "2/2 [==============================] - 1s 375ms/step - loss: 8176.8120\n",
      "Epoch 31/300\n",
      "2/2 [==============================] - 1s 379ms/step - loss: 8038.4600\n",
      "Epoch 32/300\n",
      "2/2 [==============================] - 1s 384ms/step - loss: 7677.3496\n",
      "Epoch 33/300\n",
      "2/2 [==============================] - 1s 385ms/step - loss: 8210.1084\n",
      "Epoch 34/300\n",
      "2/2 [==============================] - 1s 381ms/step - loss: 7677.9111\n",
      "Epoch 35/300\n",
      "2/2 [==============================] - 1s 372ms/step - loss: 8962.4521\n",
      "Epoch 36/300\n",
      "2/2 [==============================] - 1s 375ms/step - loss: 8121.4019\n",
      "Epoch 37/300\n",
      "2/2 [==============================] - 1s 372ms/step - loss: 7659.9360\n",
      "Epoch 38/300\n",
      "2/2 [==============================] - 1s 371ms/step - loss: 8273.0068\n",
      "Epoch 39/300\n",
      "2/2 [==============================] - 1s 400ms/step - loss: 7614.7046\n",
      "Epoch 40/300\n",
      "2/2 [==============================] - 1s 395ms/step - loss: 8125.2305\n",
      "Epoch 41/300\n",
      "2/2 [==============================] - 1s 394ms/step - loss: 7877.5195\n",
      "Epoch 42/300\n",
      "2/2 [==============================] - 1s 385ms/step - loss: 8174.5010\n",
      "Epoch 43/300\n",
      "2/2 [==============================] - 1s 374ms/step - loss: 7901.1934\n",
      "Epoch 44/300\n",
      "2/2 [==============================] - 1s 379ms/step - loss: 7853.6528\n",
      "Epoch 45/300\n",
      "2/2 [==============================] - 1s 385ms/step - loss: 8076.2607\n",
      "Epoch 46/300\n",
      "2/2 [==============================] - 1s 373ms/step - loss: 8019.0898\n",
      "Epoch 47/300\n",
      "2/2 [==============================] - 1s 373ms/step - loss: 7774.8716\n",
      "Epoch 48/300\n",
      "2/2 [==============================] - 1s 389ms/step - loss: 8417.2344\n",
      "Epoch 49/300\n",
      "2/2 [==============================] - 1s 385ms/step - loss: 8447.9590\n",
      "Epoch 50/300\n",
      "2/2 [==============================] - 1s 389ms/step - loss: 7974.7754\n",
      "Epoch 51/300\n",
      "2/2 [==============================] - 1s 377ms/step - loss: 8809.0234\n"
     ]
    },
    {
     "data": {
      "image/png": "[encoded data removed]",
      "text/plain": [
       "<Figure size 1152x720 with 1 Axes>"
      ]
     },
     "metadata": {
      "needs_background": "light"
     },
     "output_type": "display_data"
    }
   ],
   "source": [
    "model_history = autoencoder.fit(np.array(autoencoder_data),\n",
    "                                np.array(autoencoder_data),\n",
    "                                epochs=300,\n",
    "                                batch_size=300,\n",
    "                                callbacks=[early_stopping],\n",
    "                                verbose=1,\n",
    "                                shuffle=True)\n",
    "\n",
    "plt.plot(model_history.history[\"loss\"])\n",
    "plt.title(\"Loss vs. Epoch\")\n",
    "plt.ylabel(\"Loss\")\n",
    "plt.xlabel(\"Epoch\")\n",
    "plt.grid(True)"
   ]
  },
  {
   "cell_type": "code",
   "execution_count": null,
   "metadata": {
    "id": "dhJfFIfyLpEQ"
   },
   "outputs": [],
   "source": [
    "# Compile before plotting\n",
    "encoder.compile(loss='mape', optimizer='Adam')\n",
    "decoder.compile(loss='mape', optimizer='Adam')\n",
    "\n",
    "encoder.save('encoder.h5')\n",
    "decoder.save('decoder.h5')"
   ]
  },
  {
   "cell_type": "code",
   "execution_count": null,
   "metadata": {
    "id": "FclIKcKj1izN"
   },
   "outputs": [],
   "source": [
    "y_pred = encoder.predict(autoencoder_data)"
   ]
  },
  {
   "cell_type": "code",
   "execution_count": null,
   "metadata": {
    "colab": {
     "base_uri": "https://localhost:8080/"
    },
    "id": "ZmR4kbwVnaRs",
    "outputId": "ffcab802-14ce-4c60-9f58-936997f8a9f5"
   },
   "outputs": [
    {
     "data": {
      "text/plain": [
       "array([[-7.5038020e-03, -4.6809297e-04, -2.4444307e-03, ...,\n",
       "        -9.2517131e-04,  1.0156614e-02, -6.4495411e-03],\n",
       "       [-5.3975461e-03,  2.4431404e-03, -6.3967514e-03, ...,\n",
       "        -1.3792166e-02,  7.2599873e-03,  5.5387961e-03],\n",
       "       [-9.7916471e-03, -3.6812499e-03, -2.9424168e-03, ...,\n",
       "         1.9282789e-04,  3.1182868e-03, -6.9732554e-03],\n",
       "       ...,\n",
       "       [-9.5103448e-03, -2.9945374e-04, -7.8028971e-03, ...,\n",
       "        -9.3344701e-03,  1.0772234e-02, -1.4635022e-03],\n",
       "       [-5.4221582e-03, -3.9209803e-03, -1.4466455e-02, ...,\n",
       "        -3.5477299e-03,  5.3895442e-03, -1.0737311e-04],\n",
       "       [-5.0385650e-03,  1.7056987e-03, -3.3036536e-03, ...,\n",
       "         5.0651142e-06,  2.8732305e-03, -1.4523698e-03]], dtype=float32)"
      ]
     },
     "execution_count": 22,
     "metadata": {},
     "output_type": "execute_result"
    }
   ],
   "source": [
    "y_pred"
   ]
  },
  {
   "cell_type": "code",
   "execution_count": null,
   "metadata": {
    "colab": {
     "base_uri": "https://localhost:8080/"
    },
    "id": "_MLsHO2kn8BK",
    "outputId": "585fdcac-ce74-47cf-e9bb-edfee51dde86"
   },
   "outputs": [
    {
     "data": {
      "text/plain": [
       "(502, 329)"
      ]
     },
     "execution_count": 23,
     "metadata": {},
     "output_type": "execute_result"
    }
   ],
   "source": [
    "y_pred.shape"
   ]
  },
  {
   "cell_type": "markdown",
   "metadata": {
    "id": "QoyXxialunfg"
   },
   "source": [
    "## 04 - Utilizo la información latente para seleccionar los 5 activos menos correlacionados "
   ]
  },
  {
   "cell_type": "code",
   "execution_count": null,
   "metadata": {
    "id": "9NRcVFsF1iwm"
   },
   "outputs": [],
   "source": [
    "if 'encoder' not in locals():\n",
    "  encoder = keras.models.load_model('encoder.h5')\n",
    "\n",
    "y_pred = encoder.predict(autoencoder_data)\n",
    "\n",
    "latent_data = pd.DataFrame(y_pred.T, columns = autoencoder_data.T.columns.to_list())"
   ]
  },
  {
   "cell_type": "code",
   "execution_count": null,
   "metadata": {
    "colab": {
     "base_uri": "https://localhost:8080/",
     "height": 488
    },
    "id": "SmjGwrhcqmUk",
    "outputId": "2d040c41-2d65-4e6d-9be2-dd15c9d2a455"
   },
   "outputs": [
    {
     "data": {
      "text/html": [
       "\n",
       "  <div id=\"df-a23a8785-90d7-4d5e-bd33-846996da8f72\">\n",
       "    <div class=\"colab-df-container\">\n",
       "      <div>\n",
       "<style scoped>\n",
       "    .dataframe tbody tr th:only-of-type {\n",
       "        vertical-align: middle;\n",
       "    }\n",
       "\n",
       "    .dataframe tbody tr th {\n",
       "        vertical-align: top;\n",
       "    }\n",
       "\n",
       "    .dataframe thead th {\n",
       "        text-align: right;\n",
       "    }\n",
       "</style>\n",
       "<table border=\"1\" class=\"dataframe\">\n",
       "  <thead>\n",
       "    <tr style=\"text-align: right;\">\n",
       "      <th></th>\n",
       "      <th>A</th>\n",
       "      <th>AAL</th>\n",
       "      <th>AAP</th>\n",
       "      <th>AAPL</th>\n",
       "      <th>ABBV</th>\n",
       "      <th>ABC</th>\n",
       "      <th>ABMD</th>\n",
       "      <th>ABT</th>\n",
       "      <th>ACN</th>\n",
       "      <th>ADBE</th>\n",
       "      <th>...</th>\n",
       "      <th>WYNN</th>\n",
       "      <th>XEL</th>\n",
       "      <th>XOM</th>\n",
       "      <th>XRAY</th>\n",
       "      <th>XYL</th>\n",
       "      <th>YUM</th>\n",
       "      <th>ZBH</th>\n",
       "      <th>ZBRA</th>\n",
       "      <th>ZION</th>\n",
       "      <th>ZTS</th>\n",
       "    </tr>\n",
       "  </thead>\n",
       "  <tbody>\n",
       "    <tr>\n",
       "      <th>0</th>\n",
       "      <td>-0.007504</td>\n",
       "      <td>-0.005398</td>\n",
       "      <td>-0.009792</td>\n",
       "      <td>-0.008598</td>\n",
       "      <td>-0.003593</td>\n",
       "      <td>-0.002404</td>\n",
       "      <td>-0.007376</td>\n",
       "      <td>-0.004976</td>\n",
       "      <td>-0.006470</td>\n",
       "      <td>-0.010485</td>\n",
       "      <td>...</td>\n",
       "      <td>-0.019601</td>\n",
       "      <td>-0.002325</td>\n",
       "      <td>-0.005454</td>\n",
       "      <td>-0.005351</td>\n",
       "      <td>-0.002102</td>\n",
       "      <td>-0.007308</td>\n",
       "      <td>-0.006170</td>\n",
       "      <td>-0.009510</td>\n",
       "      <td>-0.005422</td>\n",
       "      <td>-0.005039</td>\n",
       "    </tr>\n",
       "    <tr>\n",
       "      <th>1</th>\n",
       "      <td>-0.000468</td>\n",
       "      <td>0.002443</td>\n",
       "      <td>-0.003681</td>\n",
       "      <td>-0.003596</td>\n",
       "      <td>-0.001842</td>\n",
       "      <td>-0.002049</td>\n",
       "      <td>0.002958</td>\n",
       "      <td>0.000245</td>\n",
       "      <td>-0.002239</td>\n",
       "      <td>-0.001036</td>\n",
       "      <td>...</td>\n",
       "      <td>0.006685</td>\n",
       "      <td>-0.000782</td>\n",
       "      <td>-0.000339</td>\n",
       "      <td>-0.000438</td>\n",
       "      <td>-0.000815</td>\n",
       "      <td>-0.004169</td>\n",
       "      <td>-0.001062</td>\n",
       "      <td>-0.000299</td>\n",
       "      <td>-0.003921</td>\n",
       "      <td>0.001706</td>\n",
       "    </tr>\n",
       "    <tr>\n",
       "      <th>2</th>\n",
       "      <td>-0.002444</td>\n",
       "      <td>-0.006397</td>\n",
       "      <td>-0.002942</td>\n",
       "      <td>-0.004542</td>\n",
       "      <td>0.000412</td>\n",
       "      <td>-0.004676</td>\n",
       "      <td>-0.004411</td>\n",
       "      <td>-0.003048</td>\n",
       "      <td>-0.003464</td>\n",
       "      <td>-0.005965</td>\n",
       "      <td>...</td>\n",
       "      <td>-0.005049</td>\n",
       "      <td>0.000560</td>\n",
       "      <td>-0.005059</td>\n",
       "      <td>-0.003302</td>\n",
       "      <td>-0.002536</td>\n",
       "      <td>-0.001526</td>\n",
       "      <td>-0.004678</td>\n",
       "      <td>-0.007803</td>\n",
       "      <td>-0.014466</td>\n",
       "      <td>-0.003304</td>\n",
       "    </tr>\n",
       "    <tr>\n",
       "      <th>3</th>\n",
       "      <td>-0.002596</td>\n",
       "      <td>-0.003282</td>\n",
       "      <td>-0.005852</td>\n",
       "      <td>-0.005582</td>\n",
       "      <td>-0.007955</td>\n",
       "      <td>-0.005822</td>\n",
       "      <td>0.000508</td>\n",
       "      <td>-0.003013</td>\n",
       "      <td>-0.004391</td>\n",
       "      <td>-0.000516</td>\n",
       "      <td>...</td>\n",
       "      <td>-0.004895</td>\n",
       "      <td>-0.005162</td>\n",
       "      <td>-0.003970</td>\n",
       "      <td>-0.003618</td>\n",
       "      <td>-0.009032</td>\n",
       "      <td>-0.004161</td>\n",
       "      <td>-0.002105</td>\n",
       "      <td>-0.004183</td>\n",
       "      <td>-0.013008</td>\n",
       "      <td>-0.003402</td>\n",
       "    </tr>\n",
       "    <tr>\n",
       "      <th>4</th>\n",
       "      <td>-0.005092</td>\n",
       "      <td>-0.013908</td>\n",
       "      <td>-0.004288</td>\n",
       "      <td>-0.006075</td>\n",
       "      <td>-0.000703</td>\n",
       "      <td>-0.006416</td>\n",
       "      <td>-0.011720</td>\n",
       "      <td>-0.001345</td>\n",
       "      <td>-0.002409</td>\n",
       "      <td>-0.002949</td>\n",
       "      <td>...</td>\n",
       "      <td>-0.010205</td>\n",
       "      <td>-0.004721</td>\n",
       "      <td>-0.005618</td>\n",
       "      <td>-0.003925</td>\n",
       "      <td>-0.007512</td>\n",
       "      <td>-0.003286</td>\n",
       "      <td>-0.007654</td>\n",
       "      <td>-0.003241</td>\n",
       "      <td>-0.009435</td>\n",
       "      <td>0.001046</td>\n",
       "    </tr>\n",
       "    <tr>\n",
       "      <th>...</th>\n",
       "      <td>...</td>\n",
       "      <td>...</td>\n",
       "      <td>...</td>\n",
       "      <td>...</td>\n",
       "      <td>...</td>\n",
       "      <td>...</td>\n",
       "      <td>...</td>\n",
       "      <td>...</td>\n",
       "      <td>...</td>\n",
       "      <td>...</td>\n",
       "      <td>...</td>\n",
       "      <td>...</td>\n",
       "      <td>...</td>\n",
       "      <td>...</td>\n",
       "      <td>...</td>\n",
       "      <td>...</td>\n",
       "      <td>...</td>\n",
       "      <td>...</td>\n",
       "      <td>...</td>\n",
       "      <td>...</td>\n",
       "      <td>...</td>\n",
       "    </tr>\n",
       "    <tr>\n",
       "      <th>324</th>\n",
       "      <td>0.008889</td>\n",
       "      <td>0.016128</td>\n",
       "      <td>0.000987</td>\n",
       "      <td>0.011497</td>\n",
       "      <td>0.008405</td>\n",
       "      <td>0.010855</td>\n",
       "      <td>0.009948</td>\n",
       "      <td>0.005548</td>\n",
       "      <td>0.007109</td>\n",
       "      <td>0.009886</td>\n",
       "      <td>...</td>\n",
       "      <td>0.009779</td>\n",
       "      <td>0.008827</td>\n",
       "      <td>0.007103</td>\n",
       "      <td>0.009166</td>\n",
       "      <td>0.004944</td>\n",
       "      <td>0.003260</td>\n",
       "      <td>0.006655</td>\n",
       "      <td>0.010622</td>\n",
       "      <td>0.012609</td>\n",
       "      <td>0.005623</td>\n",
       "    </tr>\n",
       "    <tr>\n",
       "      <th>325</th>\n",
       "      <td>0.008223</td>\n",
       "      <td>0.012129</td>\n",
       "      <td>0.008834</td>\n",
       "      <td>0.009519</td>\n",
       "      <td>0.007136</td>\n",
       "      <td>0.011583</td>\n",
       "      <td>0.016130</td>\n",
       "      <td>0.007080</td>\n",
       "      <td>0.006866</td>\n",
       "      <td>0.011361</td>\n",
       "      <td>...</td>\n",
       "      <td>0.014397</td>\n",
       "      <td>0.005846</td>\n",
       "      <td>0.009618</td>\n",
       "      <td>0.008946</td>\n",
       "      <td>0.006062</td>\n",
       "      <td>0.005116</td>\n",
       "      <td>0.007274</td>\n",
       "      <td>0.008699</td>\n",
       "      <td>0.005309</td>\n",
       "      <td>0.008043</td>\n",
       "    </tr>\n",
       "    <tr>\n",
       "      <th>326</th>\n",
       "      <td>-0.000925</td>\n",
       "      <td>-0.013792</td>\n",
       "      <td>0.000193</td>\n",
       "      <td>0.001560</td>\n",
       "      <td>-0.002101</td>\n",
       "      <td>-0.001486</td>\n",
       "      <td>-0.001233</td>\n",
       "      <td>-0.006324</td>\n",
       "      <td>-0.004115</td>\n",
       "      <td>-0.001792</td>\n",
       "      <td>...</td>\n",
       "      <td>-0.006120</td>\n",
       "      <td>-0.000469</td>\n",
       "      <td>-0.002443</td>\n",
       "      <td>-0.002203</td>\n",
       "      <td>-0.004408</td>\n",
       "      <td>-0.004050</td>\n",
       "      <td>-0.002730</td>\n",
       "      <td>-0.009334</td>\n",
       "      <td>-0.003548</td>\n",
       "      <td>0.000005</td>\n",
       "    </tr>\n",
       "    <tr>\n",
       "      <th>327</th>\n",
       "      <td>0.010157</td>\n",
       "      <td>0.007260</td>\n",
       "      <td>0.003118</td>\n",
       "      <td>0.007785</td>\n",
       "      <td>0.004504</td>\n",
       "      <td>0.004811</td>\n",
       "      <td>0.013209</td>\n",
       "      <td>0.007280</td>\n",
       "      <td>0.009560</td>\n",
       "      <td>0.007759</td>\n",
       "      <td>...</td>\n",
       "      <td>0.009189</td>\n",
       "      <td>0.002786</td>\n",
       "      <td>0.007294</td>\n",
       "      <td>0.006533</td>\n",
       "      <td>0.006277</td>\n",
       "      <td>0.004169</td>\n",
       "      <td>0.008907</td>\n",
       "      <td>0.010772</td>\n",
       "      <td>0.005390</td>\n",
       "      <td>0.002873</td>\n",
       "    </tr>\n",
       "    <tr>\n",
       "      <th>328</th>\n",
       "      <td>-0.006450</td>\n",
       "      <td>0.005539</td>\n",
       "      <td>-0.006973</td>\n",
       "      <td>-0.003524</td>\n",
       "      <td>0.000750</td>\n",
       "      <td>-0.003749</td>\n",
       "      <td>-0.010156</td>\n",
       "      <td>-0.004253</td>\n",
       "      <td>-0.002311</td>\n",
       "      <td>-0.006780</td>\n",
       "      <td>...</td>\n",
       "      <td>0.003181</td>\n",
       "      <td>-0.002265</td>\n",
       "      <td>-0.006016</td>\n",
       "      <td>-0.002141</td>\n",
       "      <td>-0.001537</td>\n",
       "      <td>-0.002534</td>\n",
       "      <td>-0.003058</td>\n",
       "      <td>-0.001464</td>\n",
       "      <td>-0.000107</td>\n",
       "      <td>-0.001452</td>\n",
       "    </tr>\n",
       "  </tbody>\n",
       "</table>\n",
       "<p>329 rows × 502 columns</p>\n",
       "</div>\n",
       "      <button class=\"colab-df-convert\" onclick=\"convertToInteractive('df-a23a8785-90d7-4d5e-bd33-846996da8f72')\"\n",
       "              title=\"Convert this dataframe to an interactive table.\"\n",
       "              style=\"display:none;\">\n",
       "        \n",
       "  <svg xmlns=\"http://www.w3.org/2000/svg\" height=\"24px\"viewBox=\"0 0 24 24\"\n",
       "       width=\"24px\">\n",
       "    <path d=\"M0 0h24v24H0V0z\" fill=\"none\"/>\n",
       "    <path d=\"M18.56 5.44l.94 2.06.94-2.06 2.06-.94-2.06-.94-.94-2.06-.94 2.06-2.06.94zm-11 1L8.5 8.5l.94-2.06 2.06-.94-2.06-.94L8.5 2.5l-.94 2.06-2.06.94zm10 10l.94 2.06.94-2.06 2.06-.94-2.06-.94-.94-2.06-.94 2.06-2.06.94z\"/><path d=\"M17.41 7.96l-1.37-1.37c-.4-.4-.92-.59-1.43-.59-.52 0-1.04.2-1.43.59L10.3 9.45l-7.72 7.72c-.78.78-.78 2.05 0 2.83L4 21.41c.39.39.9.59 1.41.59.51 0 1.02-.2 1.41-.59l7.78-7.78 2.81-2.81c.8-.78.8-2.07 0-2.86zM5.41 20L4 18.59l7.72-7.72 1.47 1.35L5.41 20z\"/>\n",
       "  </svg>\n",
       "      </button>\n",
       "      \n",
       "  <style>\n",
       "    .colab-df-container {\n",
       "      display:flex;\n",
       "      flex-wrap:wrap;\n",
       "      gap: 12px;\n",
       "    }\n",
       "\n",
       "    .colab-df-convert {\n",
       "      background-color: #E8F0FE;\n",
       "      border: none;\n",
       "      border-radius: 50%;\n",
       "      cursor: pointer;\n",
       "      display: none;\n",
       "      fill: #1967D2;\n",
       "      height: 32px;\n",
       "      padding: 0 0 0 0;\n",
       "      width: 32px;\n",
       "    }\n",
       "\n",
       "    .colab-df-convert:hover {\n",
       "      background-color: #E2EBFA;\n",
       "      box-shadow: 0px 1px 2px rgba(60, 64, 67, 0.3), 0px 1px 3px 1px rgba(60, 64, 67, 0.15);\n",
       "      fill: #174EA6;\n",
       "    }\n",
       "\n",
       "    [theme=dark] .colab-df-convert {\n",
       "      background-color: #3B4455;\n",
       "      fill: #D2E3FC;\n",
       "    }\n",
       "\n",
       "    [theme=dark] .colab-df-convert:hover {\n",
       "      background-color: #434B5C;\n",
       "      box-shadow: 0px 1px 3px 1px rgba(0, 0, 0, 0.15);\n",
       "      filter: drop-shadow(0px 1px 2px rgba(0, 0, 0, 0.3));\n",
       "      fill: #FFFFFF;\n",
       "    }\n",
       "  </style>\n",
       "\n",
       "      <script>\n",
       "        const buttonEl =\n",
       "          document.querySelector('#df-a23a8785-90d7-4d5e-bd33-846996da8f72 button.colab-df-convert');\n",
       "        buttonEl.style.display =\n",
       "          google.colab.kernel.accessAllowed ? 'block' : 'none';\n",
       "\n",
       "        async function convertToInteractive(key) {\n",
       "          const element = document.querySelector('#df-a23a8785-90d7-4d5e-bd33-846996da8f72');\n",
       "          const dataTable =\n",
       "            await google.colab.kernel.invokeFunction('convertToInteractive',\n",
       "                                                     [key], {});\n",
       "          if (!dataTable) return;\n",
       "\n",
       "          const docLinkHtml = 'Like what you see? Visit the ' +\n",
       "            '<a target=\"_blank\" href=https://colab.research.google.com/notebooks/data_table.ipynb>data table notebook</a>'\n",
       "            + ' to learn more about interactive tables.';\n",
       "          element.innerHTML = '';\n",
       "          dataTable['output_type'] = 'display_data';\n",
       "          await google.colab.output.renderOutput(dataTable, element);\n",
       "          const docLink = document.createElement('div');\n",
       "          docLink.innerHTML = docLinkHtml;\n",
       "          element.appendChild(docLink);\n",
       "        }\n",
       "      </script>\n",
       "    </div>\n",
       "  </div>\n",
       "  "
      ],
      "text/plain": [
       "            A       AAL       AAP      AAPL      ABBV       ABC      ABMD  \\\n",
       "0   -0.007504 -0.005398 -0.009792 -0.008598 -0.003593 -0.002404 -0.007376   \n",
       "1   -0.000468  0.002443 -0.003681 -0.003596 -0.001842 -0.002049  0.002958   \n",
       "2   -0.002444 -0.006397 -0.002942 -0.004542  0.000412 -0.004676 -0.004411   \n",
       "3   -0.002596 -0.003282 -0.005852 -0.005582 -0.007955 -0.005822  0.000508   \n",
       "4   -0.005092 -0.013908 -0.004288 -0.006075 -0.000703 -0.006416 -0.011720   \n",
       "..        ...       ...       ...       ...       ...       ...       ...   \n",
       "324  0.008889  0.016128  0.000987  0.011497  0.008405  0.010855  0.009948   \n",
       "325  0.008223  0.012129  0.008834  0.009519  0.007136  0.011583  0.016130   \n",
       "326 -0.000925 -0.013792  0.000193  0.001560 -0.002101 -0.001486 -0.001233   \n",
       "327  0.010157  0.007260  0.003118  0.007785  0.004504  0.004811  0.013209   \n",
       "328 -0.006450  0.005539 -0.006973 -0.003524  0.000750 -0.003749 -0.010156   \n",
       "\n",
       "          ABT       ACN      ADBE  ...      WYNN       XEL       XOM  \\\n",
       "0   -0.004976 -0.006470 -0.010485  ... -0.019601 -0.002325 -0.005454   \n",
       "1    0.000245 -0.002239 -0.001036  ...  0.006685 -0.000782 -0.000339   \n",
       "2   -0.003048 -0.003464 -0.005965  ... -0.005049  0.000560 -0.005059   \n",
       "3   -0.003013 -0.004391 -0.000516  ... -0.004895 -0.005162 -0.003970   \n",
       "4   -0.001345 -0.002409 -0.002949  ... -0.010205 -0.004721 -0.005618   \n",
       "..        ...       ...       ...  ...       ...       ...       ...   \n",
       "324  0.005548  0.007109  0.009886  ...  0.009779  0.008827  0.007103   \n",
       "325  0.007080  0.006866  0.011361  ...  0.014397  0.005846  0.009618   \n",
       "326 -0.006324 -0.004115 -0.001792  ... -0.006120 -0.000469 -0.002443   \n",
       "327  0.007280  0.009560  0.007759  ...  0.009189  0.002786  0.007294   \n",
       "328 -0.004253 -0.002311 -0.006780  ...  0.003181 -0.002265 -0.006016   \n",
       "\n",
       "         XRAY       XYL       YUM       ZBH      ZBRA      ZION       ZTS  \n",
       "0   -0.005351 -0.002102 -0.007308 -0.006170 -0.009510 -0.005422 -0.005039  \n",
       "1   -0.000438 -0.000815 -0.004169 -0.001062 -0.000299 -0.003921  0.001706  \n",
       "2   -0.003302 -0.002536 -0.001526 -0.004678 -0.007803 -0.014466 -0.003304  \n",
       "3   -0.003618 -0.009032 -0.004161 -0.002105 -0.004183 -0.013008 -0.003402  \n",
       "4   -0.003925 -0.007512 -0.003286 -0.007654 -0.003241 -0.009435  0.001046  \n",
       "..        ...       ...       ...       ...       ...       ...       ...  \n",
       "324  0.009166  0.004944  0.003260  0.006655  0.010622  0.012609  0.005623  \n",
       "325  0.008946  0.006062  0.005116  0.007274  0.008699  0.005309  0.008043  \n",
       "326 -0.002203 -0.004408 -0.004050 -0.002730 -0.009334 -0.003548  0.000005  \n",
       "327  0.006533  0.006277  0.004169  0.008907  0.010772  0.005390  0.002873  \n",
       "328 -0.002141 -0.001537 -0.002534 -0.003058 -0.001464 -0.000107 -0.001452  \n",
       "\n",
       "[329 rows x 502 columns]"
      ]
     },
     "execution_count": 25,
     "metadata": {},
     "output_type": "execute_result"
    }
   ],
   "source": [
    "latent_data "
   ]
  },
  {
   "cell_type": "code",
   "execution_count": null,
   "metadata": {
    "colab": {
     "base_uri": "https://localhost:8080/",
     "height": 488
    },
    "id": "tQAtAq0BDbK2",
    "outputId": "89707e1c-f7f2-4049-e1f5-9e6e8a10bb50"
   },
   "outputs": [
    {
     "data": {
      "text/html": [
       "\n",
       "  <div id=\"df-b339c8f8-c41e-41da-9331-8052b96bb811\">\n",
       "    <div class=\"colab-df-container\">\n",
       "      <div>\n",
       "<style scoped>\n",
       "    .dataframe tbody tr th:only-of-type {\n",
       "        vertical-align: middle;\n",
       "    }\n",
       "\n",
       "    .dataframe tbody tr th {\n",
       "        vertical-align: top;\n",
       "    }\n",
       "\n",
       "    .dataframe thead th {\n",
       "        text-align: right;\n",
       "    }\n",
       "</style>\n",
       "<table border=\"1\" class=\"dataframe\">\n",
       "  <thead>\n",
       "    <tr style=\"text-align: right;\">\n",
       "      <th></th>\n",
       "      <th>A</th>\n",
       "      <th>AAL</th>\n",
       "      <th>AAP</th>\n",
       "      <th>AAPL</th>\n",
       "      <th>ABBV</th>\n",
       "      <th>ABC</th>\n",
       "      <th>ABMD</th>\n",
       "      <th>ABT</th>\n",
       "      <th>ACN</th>\n",
       "      <th>ADBE</th>\n",
       "      <th>...</th>\n",
       "      <th>WYNN</th>\n",
       "      <th>XEL</th>\n",
       "      <th>XOM</th>\n",
       "      <th>XRAY</th>\n",
       "      <th>XYL</th>\n",
       "      <th>YUM</th>\n",
       "      <th>ZBH</th>\n",
       "      <th>ZBRA</th>\n",
       "      <th>ZION</th>\n",
       "      <th>ZTS</th>\n",
       "    </tr>\n",
       "  </thead>\n",
       "  <tbody>\n",
       "    <tr>\n",
       "      <th>A</th>\n",
       "      <td>1.000000</td>\n",
       "      <td>0.808260</td>\n",
       "      <td>0.770758</td>\n",
       "      <td>0.905090</td>\n",
       "      <td>0.838847</td>\n",
       "      <td>0.803699</td>\n",
       "      <td>0.797038</td>\n",
       "      <td>0.871692</td>\n",
       "      <td>0.914956</td>\n",
       "      <td>0.889635</td>\n",
       "      <td>...</td>\n",
       "      <td>0.815723</td>\n",
       "      <td>0.848304</td>\n",
       "      <td>0.884875</td>\n",
       "      <td>0.852589</td>\n",
       "      <td>0.843517</td>\n",
       "      <td>0.845082</td>\n",
       "      <td>0.872328</td>\n",
       "      <td>0.867952</td>\n",
       "      <td>0.783631</td>\n",
       "      <td>0.785697</td>\n",
       "    </tr>\n",
       "    <tr>\n",
       "      <th>AAL</th>\n",
       "      <td>0.808260</td>\n",
       "      <td>1.000000</td>\n",
       "      <td>0.712624</td>\n",
       "      <td>0.777274</td>\n",
       "      <td>0.705254</td>\n",
       "      <td>0.730131</td>\n",
       "      <td>0.738452</td>\n",
       "      <td>0.750017</td>\n",
       "      <td>0.802849</td>\n",
       "      <td>0.795896</td>\n",
       "      <td>...</td>\n",
       "      <td>0.849863</td>\n",
       "      <td>0.803719</td>\n",
       "      <td>0.820621</td>\n",
       "      <td>0.804247</td>\n",
       "      <td>0.789850</td>\n",
       "      <td>0.801051</td>\n",
       "      <td>0.833556</td>\n",
       "      <td>0.773220</td>\n",
       "      <td>0.794640</td>\n",
       "      <td>0.676268</td>\n",
       "    </tr>\n",
       "    <tr>\n",
       "      <th>AAP</th>\n",
       "      <td>0.770758</td>\n",
       "      <td>0.712624</td>\n",
       "      <td>1.000000</td>\n",
       "      <td>0.785413</td>\n",
       "      <td>0.756762</td>\n",
       "      <td>0.710932</td>\n",
       "      <td>0.754422</td>\n",
       "      <td>0.761106</td>\n",
       "      <td>0.775301</td>\n",
       "      <td>0.765667</td>\n",
       "      <td>...</td>\n",
       "      <td>0.717749</td>\n",
       "      <td>0.778892</td>\n",
       "      <td>0.781068</td>\n",
       "      <td>0.792321</td>\n",
       "      <td>0.736580</td>\n",
       "      <td>0.797303</td>\n",
       "      <td>0.767313</td>\n",
       "      <td>0.751346</td>\n",
       "      <td>0.728843</td>\n",
       "      <td>0.733368</td>\n",
       "    </tr>\n",
       "    <tr>\n",
       "      <th>AAPL</th>\n",
       "      <td>0.905090</td>\n",
       "      <td>0.777274</td>\n",
       "      <td>0.785413</td>\n",
       "      <td>1.000000</td>\n",
       "      <td>0.806642</td>\n",
       "      <td>0.830369</td>\n",
       "      <td>0.809797</td>\n",
       "      <td>0.857342</td>\n",
       "      <td>0.889846</td>\n",
       "      <td>0.874299</td>\n",
       "      <td>...</td>\n",
       "      <td>0.821988</td>\n",
       "      <td>0.856714</td>\n",
       "      <td>0.852051</td>\n",
       "      <td>0.865023</td>\n",
       "      <td>0.804467</td>\n",
       "      <td>0.837428</td>\n",
       "      <td>0.877509</td>\n",
       "      <td>0.843024</td>\n",
       "      <td>0.825306</td>\n",
       "      <td>0.788250</td>\n",
       "    </tr>\n",
       "    <tr>\n",
       "      <th>ABBV</th>\n",
       "      <td>0.838847</td>\n",
       "      <td>0.705254</td>\n",
       "      <td>0.756762</td>\n",
       "      <td>0.806642</td>\n",
       "      <td>1.000000</td>\n",
       "      <td>0.794031</td>\n",
       "      <td>0.736672</td>\n",
       "      <td>0.869257</td>\n",
       "      <td>0.822778</td>\n",
       "      <td>0.802439</td>\n",
       "      <td>...</td>\n",
       "      <td>0.702234</td>\n",
       "      <td>0.838771</td>\n",
       "      <td>0.815824</td>\n",
       "      <td>0.830377</td>\n",
       "      <td>0.806449</td>\n",
       "      <td>0.780802</td>\n",
       "      <td>0.771136</td>\n",
       "      <td>0.792058</td>\n",
       "      <td>0.710830</td>\n",
       "      <td>0.864686</td>\n",
       "    </tr>\n",
       "    <tr>\n",
       "      <th>...</th>\n",
       "      <td>...</td>\n",
       "      <td>...</td>\n",
       "      <td>...</td>\n",
       "      <td>...</td>\n",
       "      <td>...</td>\n",
       "      <td>...</td>\n",
       "      <td>...</td>\n",
       "      <td>...</td>\n",
       "      <td>...</td>\n",
       "      <td>...</td>\n",
       "      <td>...</td>\n",
       "      <td>...</td>\n",
       "      <td>...</td>\n",
       "      <td>...</td>\n",
       "      <td>...</td>\n",
       "      <td>...</td>\n",
       "      <td>...</td>\n",
       "      <td>...</td>\n",
       "      <td>...</td>\n",
       "      <td>...</td>\n",
       "      <td>...</td>\n",
       "    </tr>\n",
       "    <tr>\n",
       "      <th>YUM</th>\n",
       "      <td>0.845082</td>\n",
       "      <td>0.801051</td>\n",
       "      <td>0.797303</td>\n",
       "      <td>0.837428</td>\n",
       "      <td>0.780802</td>\n",
       "      <td>0.811812</td>\n",
       "      <td>0.755675</td>\n",
       "      <td>0.826397</td>\n",
       "      <td>0.842066</td>\n",
       "      <td>0.842009</td>\n",
       "      <td>...</td>\n",
       "      <td>0.798607</td>\n",
       "      <td>0.833017</td>\n",
       "      <td>0.835767</td>\n",
       "      <td>0.806590</td>\n",
       "      <td>0.823888</td>\n",
       "      <td>1.000000</td>\n",
       "      <td>0.841475</td>\n",
       "      <td>0.794716</td>\n",
       "      <td>0.788208</td>\n",
       "      <td>0.771885</td>\n",
       "    </tr>\n",
       "    <tr>\n",
       "      <th>ZBH</th>\n",
       "      <td>0.872328</td>\n",
       "      <td>0.833556</td>\n",
       "      <td>0.767313</td>\n",
       "      <td>0.877509</td>\n",
       "      <td>0.771136</td>\n",
       "      <td>0.838226</td>\n",
       "      <td>0.840966</td>\n",
       "      <td>0.887628</td>\n",
       "      <td>0.894625</td>\n",
       "      <td>0.859542</td>\n",
       "      <td>...</td>\n",
       "      <td>0.821838</td>\n",
       "      <td>0.864235</td>\n",
       "      <td>0.854035</td>\n",
       "      <td>0.885295</td>\n",
       "      <td>0.851487</td>\n",
       "      <td>0.841475</td>\n",
       "      <td>1.000000</td>\n",
       "      <td>0.855358</td>\n",
       "      <td>0.829984</td>\n",
       "      <td>0.769426</td>\n",
       "    </tr>\n",
       "    <tr>\n",
       "      <th>ZBRA</th>\n",
       "      <td>0.867952</td>\n",
       "      <td>0.773220</td>\n",
       "      <td>0.751346</td>\n",
       "      <td>0.843024</td>\n",
       "      <td>0.792058</td>\n",
       "      <td>0.825521</td>\n",
       "      <td>0.846023</td>\n",
       "      <td>0.867464</td>\n",
       "      <td>0.901395</td>\n",
       "      <td>0.824817</td>\n",
       "      <td>...</td>\n",
       "      <td>0.781186</td>\n",
       "      <td>0.786732</td>\n",
       "      <td>0.851723</td>\n",
       "      <td>0.859756</td>\n",
       "      <td>0.840214</td>\n",
       "      <td>0.794716</td>\n",
       "      <td>0.855358</td>\n",
       "      <td>1.000000</td>\n",
       "      <td>0.778132</td>\n",
       "      <td>0.773684</td>\n",
       "    </tr>\n",
       "    <tr>\n",
       "      <th>ZION</th>\n",
       "      <td>0.783631</td>\n",
       "      <td>0.794640</td>\n",
       "      <td>0.728843</td>\n",
       "      <td>0.825306</td>\n",
       "      <td>0.710830</td>\n",
       "      <td>0.776402</td>\n",
       "      <td>0.732420</td>\n",
       "      <td>0.750059</td>\n",
       "      <td>0.781274</td>\n",
       "      <td>0.783829</td>\n",
       "      <td>...</td>\n",
       "      <td>0.842762</td>\n",
       "      <td>0.785824</td>\n",
       "      <td>0.840526</td>\n",
       "      <td>0.822272</td>\n",
       "      <td>0.773259</td>\n",
       "      <td>0.788208</td>\n",
       "      <td>0.829984</td>\n",
       "      <td>0.778132</td>\n",
       "      <td>1.000000</td>\n",
       "      <td>0.679432</td>\n",
       "    </tr>\n",
       "    <tr>\n",
       "      <th>ZTS</th>\n",
       "      <td>0.785697</td>\n",
       "      <td>0.676268</td>\n",
       "      <td>0.733368</td>\n",
       "      <td>0.788250</td>\n",
       "      <td>0.864686</td>\n",
       "      <td>0.839154</td>\n",
       "      <td>0.732053</td>\n",
       "      <td>0.851416</td>\n",
       "      <td>0.780900</td>\n",
       "      <td>0.767306</td>\n",
       "      <td>...</td>\n",
       "      <td>0.700076</td>\n",
       "      <td>0.811564</td>\n",
       "      <td>0.739078</td>\n",
       "      <td>0.800149</td>\n",
       "      <td>0.809565</td>\n",
       "      <td>0.771885</td>\n",
       "      <td>0.769426</td>\n",
       "      <td>0.773684</td>\n",
       "      <td>0.679432</td>\n",
       "      <td>1.000000</td>\n",
       "    </tr>\n",
       "  </tbody>\n",
       "</table>\n",
       "<p>502 rows × 502 columns</p>\n",
       "</div>\n",
       "      <button class=\"colab-df-convert\" onclick=\"convertToInteractive('df-b339c8f8-c41e-41da-9331-8052b96bb811')\"\n",
       "              title=\"Convert this dataframe to an interactive table.\"\n",
       "              style=\"display:none;\">\n",
       "        \n",
       "  <svg xmlns=\"http://www.w3.org/2000/svg\" height=\"24px\"viewBox=\"0 0 24 24\"\n",
       "       width=\"24px\">\n",
       "    <path d=\"M0 0h24v24H0V0z\" fill=\"none\"/>\n",
       "    <path d=\"M18.56 5.44l.94 2.06.94-2.06 2.06-.94-2.06-.94-.94-2.06-.94 2.06-2.06.94zm-11 1L8.5 8.5l.94-2.06 2.06-.94-2.06-.94L8.5 2.5l-.94 2.06-2.06.94zm10 10l.94 2.06.94-2.06 2.06-.94-2.06-.94-.94-2.06-.94 2.06-2.06.94z\"/><path d=\"M17.41 7.96l-1.37-1.37c-.4-.4-.92-.59-1.43-.59-.52 0-1.04.2-1.43.59L10.3 9.45l-7.72 7.72c-.78.78-.78 2.05 0 2.83L4 21.41c.39.39.9.59 1.41.59.51 0 1.02-.2 1.41-.59l7.78-7.78 2.81-2.81c.8-.78.8-2.07 0-2.86zM5.41 20L4 18.59l7.72-7.72 1.47 1.35L5.41 20z\"/>\n",
       "  </svg>\n",
       "      </button>\n",
       "      \n",
       "  <style>\n",
       "    .colab-df-container {\n",
       "      display:flex;\n",
       "      flex-wrap:wrap;\n",
       "      gap: 12px;\n",
       "    }\n",
       "\n",
       "    .colab-df-convert {\n",
       "      background-color: #E8F0FE;\n",
       "      border: none;\n",
       "      border-radius: 50%;\n",
       "      cursor: pointer;\n",
       "      display: none;\n",
       "      fill: #1967D2;\n",
       "      height: 32px;\n",
       "      padding: 0 0 0 0;\n",
       "      width: 32px;\n",
       "    }\n",
       "\n",
       "    .colab-df-convert:hover {\n",
       "      background-color: #E2EBFA;\n",
       "      box-shadow: 0px 1px 2px rgba(60, 64, 67, 0.3), 0px 1px 3px 1px rgba(60, 64, 67, 0.15);\n",
       "      fill: #174EA6;\n",
       "    }\n",
       "\n",
       "    [theme=dark] .colab-df-convert {\n",
       "      background-color: #3B4455;\n",
       "      fill: #D2E3FC;\n",
       "    }\n",
       "\n",
       "    [theme=dark] .colab-df-convert:hover {\n",
       "      background-color: #434B5C;\n",
       "      box-shadow: 0px 1px 3px 1px rgba(0, 0, 0, 0.15);\n",
       "      filter: drop-shadow(0px 1px 2px rgba(0, 0, 0, 0.3));\n",
       "      fill: #FFFFFF;\n",
       "    }\n",
       "  </style>\n",
       "\n",
       "      <script>\n",
       "        const buttonEl =\n",
       "          document.querySelector('#df-b339c8f8-c41e-41da-9331-8052b96bb811 button.colab-df-convert');\n",
       "        buttonEl.style.display =\n",
       "          google.colab.kernel.accessAllowed ? 'block' : 'none';\n",
       "\n",
       "        async function convertToInteractive(key) {\n",
       "          const element = document.querySelector('#df-b339c8f8-c41e-41da-9331-8052b96bb811');\n",
       "          const dataTable =\n",
       "            await google.colab.kernel.invokeFunction('convertToInteractive',\n",
       "                                                     [key], {});\n",
       "          if (!dataTable) return;\n",
       "\n",
       "          const docLinkHtml = 'Like what you see? Visit the ' +\n",
       "            '<a target=\"_blank\" href=https://colab.research.google.com/notebooks/data_table.ipynb>data table notebook</a>'\n",
       "            + ' to learn more about interactive tables.';\n",
       "          element.innerHTML = '';\n",
       "          dataTable['output_type'] = 'display_data';\n",
       "          await google.colab.output.renderOutput(dataTable, element);\n",
       "          const docLink = document.createElement('div');\n",
       "          docLink.innerHTML = docLinkHtml;\n",
       "          element.appendChild(docLink);\n",
       "        }\n",
       "      </script>\n",
       "    </div>\n",
       "  </div>\n",
       "  "
      ],
      "text/plain": [
       "             A       AAL       AAP      AAPL      ABBV       ABC      ABMD  \\\n",
       "A     1.000000  0.808260  0.770758  0.905090  0.838847  0.803699  0.797038   \n",
       "AAL   0.808260  1.000000  0.712624  0.777274  0.705254  0.730131  0.738452   \n",
       "AAP   0.770758  0.712624  1.000000  0.785413  0.756762  0.710932  0.754422   \n",
       "AAPL  0.905090  0.777274  0.785413  1.000000  0.806642  0.830369  0.809797   \n",
       "ABBV  0.838847  0.705254  0.756762  0.806642  1.000000  0.794031  0.736672   \n",
       "...        ...       ...       ...       ...       ...       ...       ...   \n",
       "YUM   0.845082  0.801051  0.797303  0.837428  0.780802  0.811812  0.755675   \n",
       "ZBH   0.872328  0.833556  0.767313  0.877509  0.771136  0.838226  0.840966   \n",
       "ZBRA  0.867952  0.773220  0.751346  0.843024  0.792058  0.825521  0.846023   \n",
       "ZION  0.783631  0.794640  0.728843  0.825306  0.710830  0.776402  0.732420   \n",
       "ZTS   0.785697  0.676268  0.733368  0.788250  0.864686  0.839154  0.732053   \n",
       "\n",
       "           ABT       ACN      ADBE  ...      WYNN       XEL       XOM  \\\n",
       "A     0.871692  0.914956  0.889635  ...  0.815723  0.848304  0.884875   \n",
       "AAL   0.750017  0.802849  0.795896  ...  0.849863  0.803719  0.820621   \n",
       "AAP   0.761106  0.775301  0.765667  ...  0.717749  0.778892  0.781068   \n",
       "AAPL  0.857342  0.889846  0.874299  ...  0.821988  0.856714  0.852051   \n",
       "ABBV  0.869257  0.822778  0.802439  ...  0.702234  0.838771  0.815824   \n",
       "...        ...       ...       ...  ...       ...       ...       ...   \n",
       "YUM   0.826397  0.842066  0.842009  ...  0.798607  0.833017  0.835767   \n",
       "ZBH   0.887628  0.894625  0.859542  ...  0.821838  0.864235  0.854035   \n",
       "ZBRA  0.867464  0.901395  0.824817  ...  0.781186  0.786732  0.851723   \n",
       "ZION  0.750059  0.781274  0.783829  ...  0.842762  0.785824  0.840526   \n",
       "ZTS   0.851416  0.780900  0.767306  ...  0.700076  0.811564  0.739078   \n",
       "\n",
       "          XRAY       XYL       YUM       ZBH      ZBRA      ZION       ZTS  \n",
       "A     0.852589  0.843517  0.845082  0.872328  0.867952  0.783631  0.785697  \n",
       "AAL   0.804247  0.789850  0.801051  0.833556  0.773220  0.794640  0.676268  \n",
       "AAP   0.792321  0.736580  0.797303  0.767313  0.751346  0.728843  0.733368  \n",
       "AAPL  0.865023  0.804467  0.837428  0.877509  0.843024  0.825306  0.788250  \n",
       "ABBV  0.830377  0.806449  0.780802  0.771136  0.792058  0.710830  0.864686  \n",
       "...        ...       ...       ...       ...       ...       ...       ...  \n",
       "YUM   0.806590  0.823888  1.000000  0.841475  0.794716  0.788208  0.771885  \n",
       "ZBH   0.885295  0.851487  0.841475  1.000000  0.855358  0.829984  0.769426  \n",
       "ZBRA  0.859756  0.840214  0.794716  0.855358  1.000000  0.778132  0.773684  \n",
       "ZION  0.822272  0.773259  0.788208  0.829984  0.778132  1.000000  0.679432  \n",
       "ZTS   0.800149  0.809565  0.771885  0.769426  0.773684  0.679432  1.000000  \n",
       "\n",
       "[502 rows x 502 columns]"
      ]
     },
     "execution_count": 26,
     "metadata": {},
     "output_type": "execute_result"
    }
   ],
   "source": [
    "latent_data.corr()"
   ]
  },
  {
   "cell_type": "code",
   "execution_count": null,
   "metadata": {
    "id": "6TK0zmG3MjH-"
   },
   "outputs": [],
   "source": [
    "correlations = np.array(latent_data.corr())"
   ]
  },
  {
   "cell_type": "code",
   "execution_count": null,
   "metadata": {
    "colab": {
     "base_uri": "https://localhost:8080/"
    },
    "id": "V1xF0d5UIWD-",
    "outputId": "d1c74de7-80dc-4aa0-b2db-0c41c47061ae"
   },
   "outputs": [
    {
     "data": {
      "text/plain": [
       "(502, 502)"
      ]
     },
     "execution_count": 30,
     "metadata": {},
     "output_type": "execute_result"
    }
   ],
   "source": [
    "correlations.shape"
   ]
  },
  {
   "cell_type": "markdown",
   "metadata": {
    "id": "rPjpNYzqvD0C"
   },
   "source": [
    "## 05 - Obtengo los 5 activos menos correlacionados"
   ]
  },
  {
   "cell_type": "code",
   "execution_count": null,
   "metadata": {
    "id": "ahCi8Z6vLZBH"
   },
   "outputs": [],
   "source": [
    "# 5 × 5 matrix\n",
    "mat = np.array(latent_data.corr())\n",
    "\n",
    "# submatrix size\n",
    "k = 5\n",
    "\n",
    "submatrix = findMaxSumSubMatrix(mat, k)"
   ]
  },
  {
   "cell_type": "code",
   "execution_count": null,
   "metadata": {
    "id": "NAUFdlDoLKhi"
   },
   "outputs": [],
   "source": [
    "correlations = latent_data.corr()"
   ]
  },
  {
   "cell_type": "code",
   "execution_count": null,
   "metadata": {
    "colab": {
     "base_uri": "https://localhost:8080/"
    },
    "id": "MQRzcWE_kOsn",
    "outputId": "d16b941b-667a-433e-ffeb-4d3065a4a596"
   },
   "outputs": [
    {
     "data": {
      "text/plain": [
       "['ITW', 'JCI', 'IVZ', 'JBHT', 'J']"
      ]
     },
     "execution_count": 33,
     "metadata": {},
     "output_type": "execute_result"
    }
   ],
   "source": [
    "stocks = []\n",
    "\n",
    "for column in correlations.columns:\n",
    "  value1 = correlations.index[correlations[column] == submatrix[0][-4]]\n",
    "  value2 = correlations.index[correlations[column] == submatrix[0][-3]]\n",
    "  value3 = correlations.index[correlations[column] == submatrix[0][-2]]\n",
    "  value4 = correlations.index[correlations[column] == submatrix[0][-1]]\n",
    "\n",
    "  if len(value1) != 0:\n",
    "    stocks.append(value1[0])\n",
    "\n",
    "  if len(value2) != 0:\n",
    "    stocks.append(value2[0])\n",
    "    \n",
    "  if len(value3) != 0:\n",
    "    stocks.append(value3[0])\n",
    "\n",
    "  if len(value4) != 0:\n",
    "    stocks.append(value4[0])\n",
    "\n",
    "stocks = list(set(stocks))\n",
    "stocks"
   ]
  },
  {
   "cell_type": "code",
   "execution_count": null,
   "metadata": {
    "colab": {
     "base_uri": "https://localhost:8080/",
     "height": 206
    },
    "id": "onah7L_8hRlD",
    "outputId": "69ffdf22-224d-4f01-fc63-156afdf9d259"
   },
   "outputs": [
    {
     "data": {
      "text/html": [
       "\n",
       "  <div id=\"df-16590bd2-b0ac-4796-9890-d8c9acfd0e90\">\n",
       "    <div class=\"colab-df-container\">\n",
       "      <div>\n",
       "<style scoped>\n",
       "    .dataframe tbody tr th:only-of-type {\n",
       "        vertical-align: middle;\n",
       "    }\n",
       "\n",
       "    .dataframe tbody tr th {\n",
       "        vertical-align: top;\n",
       "    }\n",
       "\n",
       "    .dataframe thead th {\n",
       "        text-align: right;\n",
       "    }\n",
       "</style>\n",
       "<table border=\"1\" class=\"dataframe\">\n",
       "  <thead>\n",
       "    <tr style=\"text-align: right;\">\n",
       "      <th></th>\n",
       "      <th>ITW</th>\n",
       "      <th>JCI</th>\n",
       "      <th>IVZ</th>\n",
       "      <th>JBHT</th>\n",
       "      <th>J</th>\n",
       "    </tr>\n",
       "  </thead>\n",
       "  <tbody>\n",
       "    <tr>\n",
       "      <th>ITW</th>\n",
       "      <td>1.000000</td>\n",
       "      <td>0.900737</td>\n",
       "      <td>0.898216</td>\n",
       "      <td>0.903593</td>\n",
       "      <td>0.927104</td>\n",
       "    </tr>\n",
       "    <tr>\n",
       "      <th>IVZ</th>\n",
       "      <td>0.898216</td>\n",
       "      <td>0.877591</td>\n",
       "      <td>1.000000</td>\n",
       "      <td>0.876738</td>\n",
       "      <td>0.877031</td>\n",
       "    </tr>\n",
       "    <tr>\n",
       "      <th>J</th>\n",
       "      <td>0.927104</td>\n",
       "      <td>0.913658</td>\n",
       "      <td>0.877031</td>\n",
       "      <td>0.891052</td>\n",
       "      <td>1.000000</td>\n",
       "    </tr>\n",
       "    <tr>\n",
       "      <th>JBHT</th>\n",
       "      <td>0.903593</td>\n",
       "      <td>0.873920</td>\n",
       "      <td>0.876738</td>\n",
       "      <td>1.000000</td>\n",
       "      <td>0.891052</td>\n",
       "    </tr>\n",
       "    <tr>\n",
       "      <th>JCI</th>\n",
       "      <td>0.900737</td>\n",
       "      <td>1.000000</td>\n",
       "      <td>0.877591</td>\n",
       "      <td>0.873920</td>\n",
       "      <td>0.913658</td>\n",
       "    </tr>\n",
       "  </tbody>\n",
       "</table>\n",
       "</div>\n",
       "      <button class=\"colab-df-convert\" onclick=\"convertToInteractive('df-16590bd2-b0ac-4796-9890-d8c9acfd0e90')\"\n",
       "              title=\"Convert this dataframe to an interactive table.\"\n",
       "              style=\"display:none;\">\n",
       "        \n",
       "  <svg xmlns=\"http://www.w3.org/2000/svg\" height=\"24px\"viewBox=\"0 0 24 24\"\n",
       "       width=\"24px\">\n",
       "    <path d=\"M0 0h24v24H0V0z\" fill=\"none\"/>\n",
       "    <path d=\"M18.56 5.44l.94 2.06.94-2.06 2.06-.94-2.06-.94-.94-2.06-.94 2.06-2.06.94zm-11 1L8.5 8.5l.94-2.06 2.06-.94-2.06-.94L8.5 2.5l-.94 2.06-2.06.94zm10 10l.94 2.06.94-2.06 2.06-.94-2.06-.94-.94-2.06-.94 2.06-2.06.94z\"/><path d=\"M17.41 7.96l-1.37-1.37c-.4-.4-.92-.59-1.43-.59-.52 0-1.04.2-1.43.59L10.3 9.45l-7.72 7.72c-.78.78-.78 2.05 0 2.83L4 21.41c.39.39.9.59 1.41.59.51 0 1.02-.2 1.41-.59l7.78-7.78 2.81-2.81c.8-.78.8-2.07 0-2.86zM5.41 20L4 18.59l7.72-7.72 1.47 1.35L5.41 20z\"/>\n",
       "  </svg>\n",
       "      </button>\n",
       "      \n",
       "  <style>\n",
       "    .colab-df-container {\n",
       "      display:flex;\n",
       "      flex-wrap:wrap;\n",
       "      gap: 12px;\n",
       "    }\n",
       "\n",
       "    .colab-df-convert {\n",
       "      background-color: #E8F0FE;\n",
       "      border: none;\n",
       "      border-radius: 50%;\n",
       "      cursor: pointer;\n",
       "      display: none;\n",
       "      fill: #1967D2;\n",
       "      height: 32px;\n",
       "      padding: 0 0 0 0;\n",
       "      width: 32px;\n",
       "    }\n",
       "\n",
       "    .colab-df-convert:hover {\n",
       "      background-color: #E2EBFA;\n",
       "      box-shadow: 0px 1px 2px rgba(60, 64, 67, 0.3), 0px 1px 3px 1px rgba(60, 64, 67, 0.15);\n",
       "      fill: #174EA6;\n",
       "    }\n",
       "\n",
       "    [theme=dark] .colab-df-convert {\n",
       "      background-color: #3B4455;\n",
       "      fill: #D2E3FC;\n",
       "    }\n",
       "\n",
       "    [theme=dark] .colab-df-convert:hover {\n",
       "      background-color: #434B5C;\n",
       "      box-shadow: 0px 1px 3px 1px rgba(0, 0, 0, 0.15);\n",
       "      filter: drop-shadow(0px 1px 2px rgba(0, 0, 0, 0.3));\n",
       "      fill: #FFFFFF;\n",
       "    }\n",
       "  </style>\n",
       "\n",
       "      <script>\n",
       "        const buttonEl =\n",
       "          document.querySelector('#df-16590bd2-b0ac-4796-9890-d8c9acfd0e90 button.colab-df-convert');\n",
       "        buttonEl.style.display =\n",
       "          google.colab.kernel.accessAllowed ? 'block' : 'none';\n",
       "\n",
       "        async function convertToInteractive(key) {\n",
       "          const element = document.querySelector('#df-16590bd2-b0ac-4796-9890-d8c9acfd0e90');\n",
       "          const dataTable =\n",
       "            await google.colab.kernel.invokeFunction('convertToInteractive',\n",
       "                                                     [key], {});\n",
       "          if (!dataTable) return;\n",
       "\n",
       "          const docLinkHtml = 'Like what you see? Visit the ' +\n",
       "            '<a target=\"_blank\" href=https://colab.research.google.com/notebooks/data_table.ipynb>data table notebook</a>'\n",
       "            + ' to learn more about interactive tables.';\n",
       "          element.innerHTML = '';\n",
       "          dataTable['output_type'] = 'display_data';\n",
       "          await google.colab.output.renderOutput(dataTable, element);\n",
       "          const docLink = document.createElement('div');\n",
       "          docLink.innerHTML = docLinkHtml;\n",
       "          element.appendChild(docLink);\n",
       "        }\n",
       "      </script>\n",
       "    </div>\n",
       "  </div>\n",
       "  "
      ],
      "text/plain": [
       "           ITW       JCI       IVZ      JBHT         J\n",
       "ITW   1.000000  0.900737  0.898216  0.903593  0.927104\n",
       "IVZ   0.898216  0.877591  1.000000  0.876738  0.877031\n",
       "J     0.927104  0.913658  0.877031  0.891052  1.000000\n",
       "JBHT  0.903593  0.873920  0.876738  1.000000  0.891052\n",
       "JCI   0.900737  1.000000  0.877591  0.873920  0.913658"
      ]
     },
     "execution_count": 34,
     "metadata": {},
     "output_type": "execute_result"
    }
   ],
   "source": [
    "correlations = latent_data.corr()\n",
    "correlations_5 = correlations[correlations.index.isin(stocks)][stocks]\n",
    "correlations_5"
   ]
  },
  {
   "cell_type": "markdown",
   "metadata": {
    "id": "Jk7lqOv7t7OB"
   },
   "source": [
    "# Etapa 3: Proceso de estimación de precios"
   ]
  },
  {
   "cell_type": "markdown",
   "metadata": {
    "id": "YOdQMTcRwgxY"
   },
   "source": [
    "## 01 - Planto semilla"
   ]
  },
  {
   "cell_type": "code",
   "execution_count": null,
   "metadata": {
    "id": "vYU3F3aSwneB"
   },
   "outputs": [],
   "source": [
    "reset_random_seeds()"
   ]
  },
  {
   "cell_type": "markdown",
   "metadata": {
    "id": "BDXshmfpwmiH"
   },
   "source": [
    "## 02 - Importo los datos"
   ]
  },
  {
   "cell_type": "code",
   "execution_count": null,
   "metadata": {
    "id": "RpF1DysHwmiI"
   },
   "outputs": [],
   "source": [
    "if 'data' not in vars():\n",
    "  df = pd.read_csv('/content/drive/MyDrive/TFM_DataScience/01_Amadeo_Ancarani/Data/datos_tfm.csv', header=[0, 1])\n",
    "  df.drop([0], axis=0, inplace=True)  # drop this row because it only has one column with Date in it\n",
    "  df[('Unnamed: 0_level_0', 'Unnamed: 0_level_1')] = pd.to_datetime(df[('Unnamed: 0_level_0', 'Unnamed: 0_level_1')], format='%Y-%m-%d')  # convert the first column to a datetime\n",
    "  df.set_index(('Unnamed: 0_level_0', 'Unnamed: 0_level_1'), inplace=True)  # set the first column as the index\n",
    "  df.index.name = None  # rename the index\n",
    "else:\n",
    "  df = data\n",
    "  \n",
    "stocks = ['IVZ', 'JBHT', 'J', 'ITW', 'JCI']"
   ]
  },
  {
   "cell_type": "markdown",
   "metadata": {
    "id": "fCv7LE5XCBh5"
   },
   "source": [
    "## 03 - Modifico los datos para la Red Neuronal"
   ]
  },
  {
   "cell_type": "code",
   "execution_count": null,
   "metadata": {
    "id": "tSY0Rzcmkqcv"
   },
   "outputs": [],
   "source": [
    "close_prices = df['Close'][stocks].pct_change().dropna(how='all').fillna(0)"
   ]
  },
  {
   "cell_type": "code",
   "execution_count": null,
   "metadata": {
    "colab": {
     "base_uri": "https://localhost:8080/"
    },
    "id": "OLkTm9occfsK",
    "outputId": "6333310b-6e6f-4666-d8ce-d3f0af5b0653"
   },
   "outputs": [
    {
     "data": {
      "text/plain": [
       "(3291, 5)"
      ]
     },
     "execution_count": 38,
     "metadata": {},
     "output_type": "execute_result"
    }
   ],
   "source": [
    "close_prices.shape"
   ]
  },
  {
   "cell_type": "code",
   "execution_count": null,
   "metadata": {
    "colab": {
     "base_uri": "https://localhost:8080/"
    },
    "id": "krW5mQCw-lsf",
    "outputId": "338a4689-7266-478d-8abe-05903616ea56"
   },
   "outputs": [
    {
     "name": "stdout",
     "output_type": "stream",
     "text": [
      "3291\n"
     ]
    }
   ],
   "source": [
    "len_data_train = int(len(close_prices)*0.7)+1\n",
    "len_data_val = int(len(close_prices)*0.15)+1\n",
    "len_data_test = int(len(close_prices)*0.15)\n",
    "print(len_data_train+len_data_val+len_data_test)"
   ]
  },
  {
   "cell_type": "code",
   "execution_count": null,
   "metadata": {
    "id": "i0h7Qga3GG1Y"
   },
   "outputs": [],
   "source": [
    "# choose a number of time steps\n",
    "n_steps_in, n_steps_out = 300, 5"
   ]
  },
  {
   "cell_type": "code",
   "execution_count": null,
   "metadata": {
    "colab": {
     "base_uri": "https://localhost:8080/"
    },
    "id": "vSD48jzy-s_B",
    "outputId": "781a26ee-fd72-40bd-99fa-30e5d944481e"
   },
   "outputs": [
    {
     "name": "stdout",
     "output_type": "stream",
     "text": [
      "(2304, 5)\n",
      "(794, 5)\n",
      "(793, 5)\n",
      "3291\n"
     ]
    }
   ],
   "source": [
    "data_train = close_prices[0:len_data_train]\n",
    "data_val = close_prices[len_data_train-n_steps_in:len_data_train+len_data_val]\n",
    "data_test = close_prices[len_data_train+len_data_val-(n_steps_in):]\n",
    "\n",
    "print(data_train.shape)\n",
    "print(data_val.shape)\n",
    "print(data_test.shape)\n",
    "print(data_train.shape[0]+data_val.shape[0]-n_steps_in+data_test.shape[0]-n_steps_in)"
   ]
  },
  {
   "cell_type": "code",
   "execution_count": null,
   "metadata": {
    "colab": {
     "base_uri": "https://localhost:8080/"
    },
    "id": "feW_SDRMb7J2",
    "outputId": "0a23b1e3-e937-4d7d-90a9-04ed48533925"
   },
   "outputs": [
    {
     "name": "stdout",
     "output_type": "stream",
     "text": [
      "(2000, 300, 5) (2000, 5, 5)\n"
     ]
    }
   ],
   "source": [
    "# define input sequence\n",
    "close_prices = data_train\n",
    "\n",
    "stocks = dict()\n",
    "for stock in close_prices.columns.tolist():\n",
    "\t\tstocks[stock] = np.array(close_prices[stock])\n",
    "\n",
    "\n",
    "for stock in close_prices.columns.tolist():\n",
    "\tstocks[stock] = stocks[stock].reshape((len(stocks[stock]), 1))\n",
    "\n",
    "dataset = np.hstack(stocks[k] for k in sorted(stocks))\n",
    "\n",
    "# covert into input/output\n",
    "x_train, y_train = split_sequences(dataset, n_steps_in, n_steps_out)\n",
    "print(x_train.shape, y_train.shape)"
   ]
  },
  {
   "cell_type": "code",
   "execution_count": null,
   "metadata": {
    "colab": {
     "base_uri": "https://localhost:8080/"
    },
    "id": "vK51QFLZFw-v",
    "outputId": "cc852927-e618-4cff-9d10-da23d7b9cff5"
   },
   "outputs": [
    {
     "name": "stdout",
     "output_type": "stream",
     "text": [
      "(490, 300, 5) (490, 5, 5)\n"
     ]
    }
   ],
   "source": [
    "close_prices = data_val\n",
    "\n",
    "stocks = dict()\n",
    "for stock in close_prices.columns.tolist():\n",
    "\t\tstocks[stock] = np.array(close_prices[stock])\n",
    "\n",
    "\n",
    "for stock in close_prices.columns.tolist():\n",
    "\tstocks[stock] = stocks[stock].reshape((len(stocks[stock]), 1))\n",
    "\n",
    "dataset = np.hstack(stocks[k] for k in sorted(stocks))\n",
    "\n",
    "# covert into input/output\n",
    "x_val, y_val = split_sequences(dataset, n_steps_in, n_steps_out)\n",
    "print(x_val.shape, y_val.shape)"
   ]
  },
  {
   "cell_type": "code",
   "execution_count": null,
   "metadata": {
    "colab": {
     "base_uri": "https://localhost:8080/"
    },
    "id": "hlJKcPz5F4m5",
    "outputId": "81ecad18-a723-4230-d232-d73ef9e2cb87"
   },
   "outputs": [
    {
     "name": "stdout",
     "output_type": "stream",
     "text": [
      "(489, 300, 5) (489, 5, 5)\n"
     ]
    }
   ],
   "source": [
    "close_prices = data_test\n",
    "\n",
    "stocks = dict()\n",
    "for stock in close_prices.columns.tolist():\n",
    "\t\tstocks[stock] = np.array(close_prices[stock])\n",
    "\n",
    "\n",
    "for stock in close_prices.columns.tolist():\n",
    "\tstocks[stock] = stocks[stock].reshape((len(stocks[stock]), 1))\n",
    "\n",
    "dataset = np.hstack(stocks[k] for k in sorted(stocks))\n",
    "\n",
    "# covert into input/output\n",
    "x_test, y_test = split_sequences(dataset, n_steps_in, n_steps_out)\n",
    "print(x_test.shape, y_test.shape)"
   ]
  },
  {
   "cell_type": "code",
   "execution_count": null,
   "metadata": {
    "colab": {
     "base_uri": "https://localhost:8080/"
    },
    "id": "G3kMpucVSzBv",
    "outputId": "37273da3-73aa-49b7-d416-74942a97cd02"
   },
   "outputs": [
    {
     "name": "stdout",
     "output_type": "stream",
     "text": [
      "(2000, 300, 5)\n",
      "(489, 300, 5)\n",
      "(490, 300, 5)\n",
      "3291\n"
     ]
    }
   ],
   "source": [
    "print(x_train.shape)\n",
    "print(x_test.shape)\n",
    "print(x_val.shape)\n",
    "print(x_test.shape[0]+x_train.shape[0]+x_val.shape[0]+n_steps_in+(4*3))"
   ]
  },
  {
   "cell_type": "code",
   "execution_count": null,
   "metadata": {
    "id": "BerNexJQLSlE"
   },
   "outputs": [],
   "source": [
    "n_features = x_train.shape[2]"
   ]
  },
  {
   "cell_type": "markdown",
   "metadata": {
    "id": "0in83xL3Ca2G"
   },
   "source": [
    "## 04 - Creo la Red Neuronal LSTM"
   ]
  },
  {
   "cell_type": "code",
   "execution_count": null,
   "metadata": {
    "colab": {
     "base_uri": "https://localhost:8080/"
    },
    "id": "AeN7uC4Lb7En",
    "outputId": "38455881-f182-42a9-a91c-37ed768e8fdb"
   },
   "outputs": [
    {
     "name": "stdout",
     "output_type": "stream",
     "text": [
      "Model: \"sequential_2\"\n",
      "_________________________________________________________________\n",
      " Layer (type)                Output Shape              Param #   \n",
      "=================================================================\n",
      " lstm (LSTM)                 (None, 200)               164800    \n",
      "                                                                 \n",
      " dropout_6 (Dropout)         (None, 200)               0         \n",
      "                                                                 \n",
      " batch_normalization (BatchN  (None, 200)              800       \n",
      " ormalization)                                                   \n",
      "                                                                 \n",
      " repeat_vector (RepeatVector  (None, 5, 200)           0         \n",
      " )                                                               \n",
      "                                                                 \n",
      " lstm_1 (LSTM)               (None, 5, 100)            120400    \n",
      "                                                                 \n",
      " dropout_7 (Dropout)         (None, 5, 100)            0         \n",
      "                                                                 \n",
      " time_distributed (TimeDistr  (None, 5, 5)             505       \n",
      " ibuted)                                                         \n",
      "                                                                 \n",
      "=================================================================\n",
      "Total params: 286,505\n",
      "Trainable params: 286,105\n",
      "Non-trainable params: 400\n",
      "_________________________________________________________________\n",
      "None\n"
     ]
    }
   ],
   "source": [
    "model = Sequential()\n",
    "model.add(LSTM(200, activation='tanh', recurrent_activation='sigmoid', return_sequences=False, input_shape=(n_steps_in, n_features)))\n",
    "model.add(Dropout(0.15))\n",
    "model.add(BatchNormalization())\n",
    "model.add(RepeatVector(n_steps_out))\n",
    "model.add(LSTM(100, activation=None, recurrent_activation='sigmoid', return_sequences=True))\n",
    "model.add(Dropout(0.15))\n",
    "model.add(TimeDistributed(Dense(n_features)))\n",
    "\n",
    "# Podemos decidir que score queremos monitorizar, cuantas epochs esperar después del mejor score y si queremos que nos devuelva el mejor modelo.\n",
    "early_stopping = EarlyStopping(monitor='val_mape', patience=5, restore_best_weights=True)\n",
    "\n",
    "# compilamos el modelo\n",
    "model.compile(optimizer=tf.keras.optimizers.Adam(0.001), loss='mse', metrics=['mape', r2_keras])\n",
    "\n",
    "print(model.summary())"
   ]
  },
  {
   "cell_type": "code",
   "execution_count": null,
   "metadata": {
    "colab": {
     "base_uri": "https://localhost:8080/"
    },
    "id": "VMvUOHFfb7Bs",
    "outputId": "6e0b7469-8e93-4ab8-cae2-8c5833e4dac7"
   },
   "outputs": [
    {
     "name": "stdout",
     "output_type": "stream",
     "text": [
      "Epoch 1/100\n",
      "29/29 [==============================] - 52s 2s/step - loss: 4.0069e-04 - mape: 60467.2656 - r2_keras: -0.6596 - val_loss: 2.5332e-04 - val_mape: 10785.5381 - val_r2_keras: -0.0295\n",
      "Epoch 2/100\n",
      "29/29 [==============================] - 51s 2s/step - loss: 2.8588e-04 - mape: 33483.8516 - r2_keras: -0.1717 - val_loss: 2.5186e-04 - val_mape: 10347.7354 - val_r2_keras: -0.0237\n",
      "Epoch 3/100\n",
      "29/29 [==============================] - 45s 2s/step - loss: 2.7034e-04 - mape: 28854.9375 - r2_keras: -0.1102 - val_loss: 2.5211e-04 - val_mape: 11344.5029 - val_r2_keras: -0.0244\n",
      "Epoch 4/100\n",
      "29/29 [==============================] - 44s 2s/step - loss: 2.6690e-04 - mape: 25164.0156 - r2_keras: -0.0961 - val_loss: 2.5069e-04 - val_mape: 9575.5176 - val_r2_keras: -0.0187\n",
      "Epoch 5/100\n",
      "29/29 [==============================] - 44s 2s/step - loss: 2.6399e-04 - mape: 23881.5156 - r2_keras: -0.0826 - val_loss: 2.5023e-04 - val_mape: 8557.0156 - val_r2_keras: -0.0176\n",
      "Epoch 6/100\n",
      "29/29 [==============================] - 44s 2s/step - loss: 2.6038e-04 - mape: 21982.3789 - r2_keras: -0.0660 - val_loss: 2.4979e-04 - val_mape: 7048.2891 - val_r2_keras: -0.0157\n",
      "Epoch 7/100\n",
      "29/29 [==============================] - 45s 2s/step - loss: 2.5936e-04 - mape: 22284.6602 - r2_keras: -0.0625 - val_loss: 2.4930e-04 - val_mape: 5538.5508 - val_r2_keras: -0.0142\n",
      "Epoch 8/100\n",
      "29/29 [==============================] - 44s 2s/step - loss: 2.5774e-04 - mape: 18631.4824 - r2_keras: -0.0524 - val_loss: 2.4958e-04 - val_mape: 6532.5151 - val_r2_keras: -0.0150\n",
      "Epoch 9/100\n",
      "29/29 [==============================] - 43s 2s/step - loss: 2.5606e-04 - mape: 17709.1875 - r2_keras: -0.0453 - val_loss: 2.4926e-04 - val_mape: 5424.1230 - val_r2_keras: -0.0139\n",
      "Epoch 10/100\n",
      "29/29 [==============================] - 53s 2s/step - loss: 2.5591e-04 - mape: 19214.3281 - r2_keras: -0.0452 - val_loss: 2.4986e-04 - val_mape: 7317.7681 - val_r2_keras: -0.0155\n",
      "Epoch 11/100\n",
      "29/29 [==============================] - 45s 2s/step - loss: 2.5452e-04 - mape: 18450.1113 - r2_keras: -0.0381 - val_loss: 2.4908e-04 - val_mape: 4372.2388 - val_r2_keras: -0.0136\n",
      "Epoch 12/100\n",
      "29/29 [==============================] - 46s 2s/step - loss: 2.5449e-04 - mape: 16533.5781 - r2_keras: -0.0392 - val_loss: 2.4980e-04 - val_mape: 6515.3145 - val_r2_keras: -0.0153\n",
      "Epoch 13/100\n",
      "29/29 [==============================] - 44s 2s/step - loss: 2.5354e-04 - mape: 15825.1348 - r2_keras: -0.0347 - val_loss: 2.4897e-04 - val_mape: 4216.7852 - val_r2_keras: -0.0128\n",
      "Epoch 14/100\n",
      "29/29 [==============================] - 44s 2s/step - loss: 2.5384e-04 - mape: 16134.5518 - r2_keras: -0.0364 - val_loss: 2.4885e-04 - val_mape: 3436.9282 - val_r2_keras: -0.0120\n",
      "Epoch 15/100\n",
      "29/29 [==============================] - 43s 2s/step - loss: 2.5329e-04 - mape: 15307.8027 - r2_keras: -0.0332 - val_loss: 2.4856e-04 - val_mape: 6372.3052 - val_r2_keras: -0.0114\n",
      "Epoch 16/100\n",
      "29/29 [==============================] - 44s 2s/step - loss: 2.5231e-04 - mape: 15705.5645 - r2_keras: -0.0294 - val_loss: 2.4908e-04 - val_mape: 5874.9771 - val_r2_keras: -0.0134\n",
      "Epoch 17/100\n",
      "29/29 [==============================] - 44s 2s/step - loss: 2.5189e-04 - mape: 14870.7246 - r2_keras: -0.0279 - val_loss: 2.4988e-04 - val_mape: 7549.9951 - val_r2_keras: -0.0161\n",
      "Epoch 18/100\n",
      "29/29 [==============================] - 45s 2s/step - loss: 2.5258e-04 - mape: 16036.9395 - r2_keras: -0.0316 - val_loss: 2.5002e-04 - val_mape: 6491.3730 - val_r2_keras: -0.0154\n",
      "Epoch 19/100\n",
      "29/29 [==============================] - 45s 2s/step - loss: 2.5266e-04 - mape: 15649.5732 - r2_keras: -0.0324 - val_loss: 2.5027e-04 - val_mape: 5140.2300 - val_r2_keras: -0.0177\n"
     ]
    }
   ],
   "source": [
    "reset_random_seeds()\n",
    "# Entrenamos el modelo \n",
    "history = model.fit(x_train, y_train,\n",
    "                    epochs=100,\n",
    "                    batch_size=70,\n",
    "                    callbacks=[early_stopping],\n",
    "                    verbose=1,\n",
    "                    shuffle=False,\n",
    "                    validation_data=(x_val, y_val))"
   ]
  },
  {
   "cell_type": "code",
   "execution_count": null,
   "metadata": {
    "id": "zIfAQKFTL5jB"
   },
   "outputs": [],
   "source": [
    "model.save('lstm_model.h5')  # creates a HDF5 file 'my_model.h5'\n",
    "lstm_model = model"
   ]
  },
  {
   "cell_type": "code",
   "execution_count": null,
   "metadata": {
    "colab": {
     "base_uri": "https://localhost:8080/",
     "height": 621
    },
    "id": "FQmQpgVFxNnb",
    "outputId": "b37b7c98-5965-47cd-acfb-b62f931efaa1"
   },
   "outputs": [
    {
     "data": {
      "image/png": "[encoded data removed]",
      "text/plain": [
       "<Figure size 1152x720 with 1 Axes>"
      ]
     },
     "metadata": {
      "needs_background": "light"
     },
     "output_type": "display_data"
    }
   ],
   "source": [
    "show_history(history, metrics=['mape', 'r2_keras'])"
   ]
  },
  {
   "cell_type": "code",
   "execution_count": null,
   "metadata": {
    "id": "FKHCalmknQ3R"
   },
   "outputs": [],
   "source": [
    "if lstm_model not in locals():\n",
    "  lstm_model = keras.models.load_model('lstm_model.h5', compile=False)"
   ]
  },
  {
   "cell_type": "code",
   "execution_count": null,
   "metadata": {
    "colab": {
     "base_uri": "https://localhost:8080/"
    },
    "id": "l6Yg1PXKsxOe",
    "outputId": "3de50245-52f3-445e-eba0-ed3e17190860"
   },
   "outputs": [
    {
     "data": {
      "text/plain": [
       "(489, 5, 5)"
      ]
     },
     "execution_count": 52,
     "metadata": {},
     "output_type": "execute_result"
    }
   ],
   "source": [
    "lstm_model.predict(x_test).shape"
   ]
  },
  {
   "cell_type": "code",
   "execution_count": null,
   "metadata": {
    "colab": {
     "base_uri": "https://localhost:8080/"
    },
    "id": "0k0gkTHqBqGn",
    "outputId": "6a5f5f0e-a5d5-489c-a090-30ad2b0e5869"
   },
   "outputs": [
    {
     "name": "stdout",
     "output_type": "stream",
     "text": [
      "Evaluate on test data\n",
      "4/4 [==============================] - 3s 465ms/step - loss: 6.5377e-04 - mape: 1717.4309\n",
      "test loss: [0.0006537681329064071, 1717.430908203125]\n"
     ]
    }
   ],
   "source": [
    "print(\"Evaluate on test data\")\n",
    "lstm_model.compile(optimizer=tf.keras.optimizers.Adam(0.001), loss='mse', metrics=['mape'])\n",
    "results = lstm_model.evaluate(x_test, y_test, batch_size=128)\n",
    "print('test loss:',results)"
   ]
  },
  {
   "cell_type": "markdown",
   "metadata": {
    "id": "M_X_c9p-E9Dw"
   },
   "source": [
    "# Etapa 4 - Pesos en la cartera"
   ]
  },
  {
   "cell_type": "markdown",
   "metadata": {
    "id": "JnvlupOdIYTp"
   },
   "source": [
    "## 01 - Planto semilla"
   ]
  },
  {
   "cell_type": "code",
   "execution_count": null,
   "metadata": {
    "id": "igUVvCJOIYTw"
   },
   "outputs": [],
   "source": [
    "reset_random_seeds()"
   ]
  },
  {
   "cell_type": "markdown",
   "metadata": {
    "id": "YrPk_LkXIb_L"
   },
   "source": [
    "## 02 - Importo los datos"
   ]
  },
  {
   "cell_type": "code",
   "execution_count": null,
   "metadata": {
    "id": "7MRL-DaxIb_M"
   },
   "outputs": [],
   "source": [
    "if 'data' not in vars():\n",
    "  df = pd.read_csv('/content/drive/MyDrive/TFM_DataScience/01_Amadeo_Ancarani/Data/datos_tfm.csv', header=[0, 1])\n",
    "  df.drop([0], axis=0, inplace=True)  # drop this row because it only has one column with Date in it\n",
    "  df[('Unnamed: 0_level_0', 'Unnamed: 0_level_1')] = pd.to_datetime(df[('Unnamed: 0_level_0', 'Unnamed: 0_level_1')], format='%Y-%m-%d')  # convert the first column to a datetime\n",
    "  df.set_index(('Unnamed: 0_level_0', 'Unnamed: 0_level_1'), inplace=True)  # set the first column as the index\n",
    "  df.index.name = None  # rename the index\n",
    "else:\n",
    "  df = data\n",
    "  \n",
    "stocks = ['IVZ', 'JBHT', 'J', 'ITW', 'JCI']"
   ]
  },
  {
   "cell_type": "markdown",
   "metadata": {
    "id": "VCkbJw7GIkWD"
   },
   "source": [
    "## 03 - Creo modelo segun la MPT para comparar con la red"
   ]
  },
  {
   "cell_type": "code",
   "execution_count": null,
   "metadata": {
    "id": "iWacwQPlji-8"
   },
   "outputs": [],
   "source": [
    "close_prices = df['Close'][stocks].pct_change().dropna(how='all').fillna(0)"
   ]
  },
  {
   "cell_type": "code",
   "execution_count": null,
   "metadata": {
    "id": "5UHhfZLMjg2X"
   },
   "outputs": [],
   "source": [
    "len_data_train = int(len(close_prices)*0.7)+1\n",
    "len_data_val = int(len(close_prices)*0.15)+1\n",
    "\n",
    "data_train = close_prices[0:len_data_train+len_data_val]"
   ]
  },
  {
   "cell_type": "code",
   "execution_count": null,
   "metadata": {
    "id": "wFeGkaMyIkWD"
   },
   "outputs": [],
   "source": [
    "close_prices = data_train.copy()"
   ]
  },
  {
   "cell_type": "code",
   "execution_count": null,
   "metadata": {
    "colab": {
     "base_uri": "https://localhost:8080/",
     "height": 206
    },
    "id": "tPqzkwkwPw6K",
    "outputId": "f2193eb6-50e4-45b1-e17e-b1368e3c0803"
   },
   "outputs": [
    {
     "data": {
      "text/html": [
       "\n",
       "  <div id=\"df-73334b9e-3a15-4b94-9cfb-760bd7da7553\">\n",
       "    <div class=\"colab-df-container\">\n",
       "      <div>\n",
       "<style scoped>\n",
       "    .dataframe tbody tr th:only-of-type {\n",
       "        vertical-align: middle;\n",
       "    }\n",
       "\n",
       "    .dataframe tbody tr th {\n",
       "        vertical-align: top;\n",
       "    }\n",
       "\n",
       "    .dataframe thead th {\n",
       "        text-align: right;\n",
       "    }\n",
       "</style>\n",
       "<table border=\"1\" class=\"dataframe\">\n",
       "  <thead>\n",
       "    <tr style=\"text-align: right;\">\n",
       "      <th></th>\n",
       "      <th>IVZ</th>\n",
       "      <th>JBHT</th>\n",
       "      <th>J</th>\n",
       "      <th>ITW</th>\n",
       "      <th>JCI</th>\n",
       "    </tr>\n",
       "  </thead>\n",
       "  <tbody>\n",
       "    <tr>\n",
       "      <th>IVZ</th>\n",
       "      <td>0.128926</td>\n",
       "      <td>0.048488</td>\n",
       "      <td>0.068504</td>\n",
       "      <td>0.051964</td>\n",
       "      <td>0.047575</td>\n",
       "    </tr>\n",
       "    <tr>\n",
       "      <th>JBHT</th>\n",
       "      <td>0.048488</td>\n",
       "      <td>0.067114</td>\n",
       "      <td>0.042505</td>\n",
       "      <td>0.034057</td>\n",
       "      <td>0.030480</td>\n",
       "    </tr>\n",
       "    <tr>\n",
       "      <th>J</th>\n",
       "      <td>0.068504</td>\n",
       "      <td>0.042505</td>\n",
       "      <td>0.098276</td>\n",
       "      <td>0.044760</td>\n",
       "      <td>0.040682</td>\n",
       "    </tr>\n",
       "    <tr>\n",
       "      <th>ITW</th>\n",
       "      <td>0.051964</td>\n",
       "      <td>0.034057</td>\n",
       "      <td>0.044760</td>\n",
       "      <td>0.053592</td>\n",
       "      <td>0.032909</td>\n",
       "    </tr>\n",
       "    <tr>\n",
       "      <th>JCI</th>\n",
       "      <td>0.047575</td>\n",
       "      <td>0.030480</td>\n",
       "      <td>0.040682</td>\n",
       "      <td>0.032909</td>\n",
       "      <td>0.061616</td>\n",
       "    </tr>\n",
       "  </tbody>\n",
       "</table>\n",
       "</div>\n",
       "      <button class=\"colab-df-convert\" onclick=\"convertToInteractive('df-73334b9e-3a15-4b94-9cfb-760bd7da7553')\"\n",
       "              title=\"Convert this dataframe to an interactive table.\"\n",
       "              style=\"display:none;\">\n",
       "        \n",
       "  <svg xmlns=\"http://www.w3.org/2000/svg\" height=\"24px\"viewBox=\"0 0 24 24\"\n",
       "       width=\"24px\">\n",
       "    <path d=\"M0 0h24v24H0V0z\" fill=\"none\"/>\n",
       "    <path d=\"M18.56 5.44l.94 2.06.94-2.06 2.06-.94-2.06-.94-.94-2.06-.94 2.06-2.06.94zm-11 1L8.5 8.5l.94-2.06 2.06-.94-2.06-.94L8.5 2.5l-.94 2.06-2.06.94zm10 10l.94 2.06.94-2.06 2.06-.94-2.06-.94-.94-2.06-.94 2.06-2.06.94z\"/><path d=\"M17.41 7.96l-1.37-1.37c-.4-.4-.92-.59-1.43-.59-.52 0-1.04.2-1.43.59L10.3 9.45l-7.72 7.72c-.78.78-.78 2.05 0 2.83L4 21.41c.39.39.9.59 1.41.59.51 0 1.02-.2 1.41-.59l7.78-7.78 2.81-2.81c.8-.78.8-2.07 0-2.86zM5.41 20L4 18.59l7.72-7.72 1.47 1.35L5.41 20z\"/>\n",
       "  </svg>\n",
       "      </button>\n",
       "      \n",
       "  <style>\n",
       "    .colab-df-container {\n",
       "      display:flex;\n",
       "      flex-wrap:wrap;\n",
       "      gap: 12px;\n",
       "    }\n",
       "\n",
       "    .colab-df-convert {\n",
       "      background-color: #E8F0FE;\n",
       "      border: none;\n",
       "      border-radius: 50%;\n",
       "      cursor: pointer;\n",
       "      display: none;\n",
       "      fill: #1967D2;\n",
       "      height: 32px;\n",
       "      padding: 0 0 0 0;\n",
       "      width: 32px;\n",
       "    }\n",
       "\n",
       "    .colab-df-convert:hover {\n",
       "      background-color: #E2EBFA;\n",
       "      box-shadow: 0px 1px 2px rgba(60, 64, 67, 0.3), 0px 1px 3px 1px rgba(60, 64, 67, 0.15);\n",
       "      fill: #174EA6;\n",
       "    }\n",
       "\n",
       "    [theme=dark] .colab-df-convert {\n",
       "      background-color: #3B4455;\n",
       "      fill: #D2E3FC;\n",
       "    }\n",
       "\n",
       "    [theme=dark] .colab-df-convert:hover {\n",
       "      background-color: #434B5C;\n",
       "      box-shadow: 0px 1px 3px 1px rgba(0, 0, 0, 0.15);\n",
       "      filter: drop-shadow(0px 1px 2px rgba(0, 0, 0, 0.3));\n",
       "      fill: #FFFFFF;\n",
       "    }\n",
       "  </style>\n",
       "\n",
       "      <script>\n",
       "        const buttonEl =\n",
       "          document.querySelector('#df-73334b9e-3a15-4b94-9cfb-760bd7da7553 button.colab-df-convert');\n",
       "        buttonEl.style.display =\n",
       "          google.colab.kernel.accessAllowed ? 'block' : 'none';\n",
       "\n",
       "        async function convertToInteractive(key) {\n",
       "          const element = document.querySelector('#df-73334b9e-3a15-4b94-9cfb-760bd7da7553');\n",
       "          const dataTable =\n",
       "            await google.colab.kernel.invokeFunction('convertToInteractive',\n",
       "                                                     [key], {});\n",
       "          if (!dataTable) return;\n",
       "\n",
       "          const docLinkHtml = 'Like what you see? Visit the ' +\n",
       "            '<a target=\"_blank\" href=https://colab.research.google.com/notebooks/data_table.ipynb>data table notebook</a>'\n",
       "            + ' to learn more about interactive tables.';\n",
       "          element.innerHTML = '';\n",
       "          dataTable['output_type'] = 'display_data';\n",
       "          await google.colab.output.renderOutput(dataTable, element);\n",
       "          const docLink = document.createElement('div');\n",
       "          docLink.innerHTML = docLinkHtml;\n",
       "          element.appendChild(docLink);\n",
       "        }\n",
       "      </script>\n",
       "    </div>\n",
       "  </div>\n",
       "  "
      ],
      "text/plain": [
       "           IVZ      JBHT         J       ITW       JCI\n",
       "IVZ   0.128926  0.048488  0.068504  0.051964  0.047575\n",
       "JBHT  0.048488  0.067114  0.042505  0.034057  0.030480\n",
       "J     0.068504  0.042505  0.098276  0.044760  0.040682\n",
       "ITW   0.051964  0.034057  0.044760  0.053592  0.032909\n",
       "JCI   0.047575  0.030480  0.040682  0.032909  0.061616"
      ]
     },
     "execution_count": 59,
     "metadata": {},
     "output_type": "execute_result"
    }
   ],
   "source": [
    "variance_matrix = close_prices.cov()*252\n",
    "variance_matrix"
   ]
  },
  {
   "cell_type": "code",
   "execution_count": null,
   "metadata": {
    "id": "k6PJ9OuZbdW2"
   },
   "outputs": [],
   "source": [
    "port_returns = []\n",
    "port_volatility = []\n",
    "port_weights = []\n",
    "\n",
    "num_assets = 5\n",
    "num_portfolios = 10000\n",
    "\n",
    "individual_rets = close_prices.resample('Y').last().pct_change().mean()"
   ]
  },
  {
   "cell_type": "code",
   "execution_count": null,
   "metadata": {
    "id": "NufOEWXvcUed"
   },
   "outputs": [],
   "source": [
    "reset_random_seeds()\n",
    "for port in range(num_portfolios):\n",
    "  weights = np.random.random(num_assets)\n",
    "  weights = weights/np.sum(weights)\n",
    "\n",
    "  port_weights.append(weights)\n",
    "  \n",
    "  returns = np.dot(weights, individual_rets)\n",
    "  port_returns.append(returns)\n",
    "\n",
    "  var = variance_matrix.mul(weights, axis=0).mul(weights, axis=1).sum().sum()\n",
    "\n",
    "  sd = np.sqrt(var)\n",
    "\n",
    "  ann_sd = sd * np.sqrt(252)\n",
    "\n",
    "  port_volatility.append(ann_sd)"
   ]
  },
  {
   "cell_type": "code",
   "execution_count": null,
   "metadata": {
    "colab": {
     "base_uri": "https://localhost:8080/",
     "height": 206
    },
    "id": "2jnz-I-rcUbm",
    "outputId": "4e445822-dbd3-4a81-9d80-5c643992ed57"
   },
   "outputs": [
    {
     "data": {
      "text/html": [
       "\n",
       "  <div id=\"df-08d3cd2c-8d63-4e32-949d-07d04cd68743\">\n",
       "    <div class=\"colab-df-container\">\n",
       "      <div>\n",
       "<style scoped>\n",
       "    .dataframe tbody tr th:only-of-type {\n",
       "        vertical-align: middle;\n",
       "    }\n",
       "\n",
       "    .dataframe tbody tr th {\n",
       "        vertical-align: top;\n",
       "    }\n",
       "\n",
       "    .dataframe thead th {\n",
       "        text-align: right;\n",
       "    }\n",
       "</style>\n",
       "<table border=\"1\" class=\"dataframe\">\n",
       "  <thead>\n",
       "    <tr style=\"text-align: right;\">\n",
       "      <th></th>\n",
       "      <th>Returns</th>\n",
       "      <th>Volatility</th>\n",
       "      <th>IVZ weight</th>\n",
       "      <th>JBHT weight</th>\n",
       "      <th>J weight</th>\n",
       "      <th>ITW weight</th>\n",
       "      <th>JCI weight</th>\n",
       "    </tr>\n",
       "  </thead>\n",
       "  <tbody>\n",
       "    <tr>\n",
       "      <th>0</th>\n",
       "      <td>-0.825512</td>\n",
       "      <td>3.686431</td>\n",
       "      <td>0.262848</td>\n",
       "      <td>0.454020</td>\n",
       "      <td>0.000072</td>\n",
       "      <td>0.190560</td>\n",
       "      <td>0.092500</td>\n",
       "    </tr>\n",
       "    <tr>\n",
       "      <th>1</th>\n",
       "      <td>0.284539</td>\n",
       "      <td>3.439183</td>\n",
       "      <td>0.059201</td>\n",
       "      <td>0.119417</td>\n",
       "      <td>0.221550</td>\n",
       "      <td>0.254380</td>\n",
       "      <td>0.345452</td>\n",
       "    </tr>\n",
       "    <tr>\n",
       "      <th>2</th>\n",
       "      <td>-0.579285</td>\n",
       "      <td>3.589727</td>\n",
       "      <td>0.189306</td>\n",
       "      <td>0.309442</td>\n",
       "      <td>0.092330</td>\n",
       "      <td>0.396554</td>\n",
       "      <td>0.012368</td>\n",
       "    </tr>\n",
       "    <tr>\n",
       "      <th>3</th>\n",
       "      <td>-2.089390</td>\n",
       "      <td>4.009684</td>\n",
       "      <td>0.337775</td>\n",
       "      <td>0.210234</td>\n",
       "      <td>0.281463</td>\n",
       "      <td>0.070726</td>\n",
       "      <td>0.099802</td>\n",
       "    </tr>\n",
       "    <tr>\n",
       "      <th>4</th>\n",
       "      <td>-0.764737</td>\n",
       "      <td>3.551167</td>\n",
       "      <td>0.219313</td>\n",
       "      <td>0.265194</td>\n",
       "      <td>0.085843</td>\n",
       "      <td>0.189618</td>\n",
       "      <td>0.240032</td>\n",
       "    </tr>\n",
       "  </tbody>\n",
       "</table>\n",
       "</div>\n",
       "      <button class=\"colab-df-convert\" onclick=\"convertToInteractive('df-08d3cd2c-8d63-4e32-949d-07d04cd68743')\"\n",
       "              title=\"Convert this dataframe to an interactive table.\"\n",
       "              style=\"display:none;\">\n",
       "        \n",
       "  <svg xmlns=\"http://www.w3.org/2000/svg\" height=\"24px\"viewBox=\"0 0 24 24\"\n",
       "       width=\"24px\">\n",
       "    <path d=\"M0 0h24v24H0V0z\" fill=\"none\"/>\n",
       "    <path d=\"M18.56 5.44l.94 2.06.94-2.06 2.06-.94-2.06-.94-.94-2.06-.94 2.06-2.06.94zm-11 1L8.5 8.5l.94-2.06 2.06-.94-2.06-.94L8.5 2.5l-.94 2.06-2.06.94zm10 10l.94 2.06.94-2.06 2.06-.94-2.06-.94-.94-2.06-.94 2.06-2.06.94z\"/><path d=\"M17.41 7.96l-1.37-1.37c-.4-.4-.92-.59-1.43-.59-.52 0-1.04.2-1.43.59L10.3 9.45l-7.72 7.72c-.78.78-.78 2.05 0 2.83L4 21.41c.39.39.9.59 1.41.59.51 0 1.02-.2 1.41-.59l7.78-7.78 2.81-2.81c.8-.78.8-2.07 0-2.86zM5.41 20L4 18.59l7.72-7.72 1.47 1.35L5.41 20z\"/>\n",
       "  </svg>\n",
       "      </button>\n",
       "      \n",
       "  <style>\n",
       "    .colab-df-container {\n",
       "      display:flex;\n",
       "      flex-wrap:wrap;\n",
       "      gap: 12px;\n",
       "    }\n",
       "\n",
       "    .colab-df-convert {\n",
       "      background-color: #E8F0FE;\n",
       "      border: none;\n",
       "      border-radius: 50%;\n",
       "      cursor: pointer;\n",
       "      display: none;\n",
       "      fill: #1967D2;\n",
       "      height: 32px;\n",
       "      padding: 0 0 0 0;\n",
       "      width: 32px;\n",
       "    }\n",
       "\n",
       "    .colab-df-convert:hover {\n",
       "      background-color: #E2EBFA;\n",
       "      box-shadow: 0px 1px 2px rgba(60, 64, 67, 0.3), 0px 1px 3px 1px rgba(60, 64, 67, 0.15);\n",
       "      fill: #174EA6;\n",
       "    }\n",
       "\n",
       "    [theme=dark] .colab-df-convert {\n",
       "      background-color: #3B4455;\n",
       "      fill: #D2E3FC;\n",
       "    }\n",
       "\n",
       "    [theme=dark] .colab-df-convert:hover {\n",
       "      background-color: #434B5C;\n",
       "      box-shadow: 0px 1px 3px 1px rgba(0, 0, 0, 0.15);\n",
       "      filter: drop-shadow(0px 1px 2px rgba(0, 0, 0, 0.3));\n",
       "      fill: #FFFFFF;\n",
       "    }\n",
       "  </style>\n",
       "\n",
       "      <script>\n",
       "        const buttonEl =\n",
       "          document.querySelector('#df-08d3cd2c-8d63-4e32-949d-07d04cd68743 button.colab-df-convert');\n",
       "        buttonEl.style.display =\n",
       "          google.colab.kernel.accessAllowed ? 'block' : 'none';\n",
       "\n",
       "        async function convertToInteractive(key) {\n",
       "          const element = document.querySelector('#df-08d3cd2c-8d63-4e32-949d-07d04cd68743');\n",
       "          const dataTable =\n",
       "            await google.colab.kernel.invokeFunction('convertToInteractive',\n",
       "                                                     [key], {});\n",
       "          if (!dataTable) return;\n",
       "\n",
       "          const docLinkHtml = 'Like what you see? Visit the ' +\n",
       "            '<a target=\"_blank\" href=https://colab.research.google.com/notebooks/data_table.ipynb>data table notebook</a>'\n",
       "            + ' to learn more about interactive tables.';\n",
       "          element.innerHTML = '';\n",
       "          dataTable['output_type'] = 'display_data';\n",
       "          await google.colab.output.renderOutput(dataTable, element);\n",
       "          const docLink = document.createElement('div');\n",
       "          docLink.innerHTML = docLinkHtml;\n",
       "          element.appendChild(docLink);\n",
       "        }\n",
       "      </script>\n",
       "    </div>\n",
       "  </div>\n",
       "  "
      ],
      "text/plain": [
       "    Returns  Volatility  IVZ weight  JBHT weight  J weight  ITW weight  \\\n",
       "0 -0.825512    3.686431    0.262848     0.454020  0.000072    0.190560   \n",
       "1  0.284539    3.439183    0.059201     0.119417  0.221550    0.254380   \n",
       "2 -0.579285    3.589727    0.189306     0.309442  0.092330    0.396554   \n",
       "3 -2.089390    4.009684    0.337775     0.210234  0.281463    0.070726   \n",
       "4 -0.764737    3.551167    0.219313     0.265194  0.085843    0.189618   \n",
       "\n",
       "   JCI weight  \n",
       "0    0.092500  \n",
       "1    0.345452  \n",
       "2    0.012368  \n",
       "3    0.099802  \n",
       "4    0.240032  "
      ]
     },
     "execution_count": 62,
     "metadata": {},
     "output_type": "execute_result"
    }
   ],
   "source": [
    "results = {'Returns': port_returns, 'Volatility': port_volatility}\n",
    "\n",
    "for counter, symbol in enumerate(close_prices.columns.tolist()):\n",
    "  results[symbol+ ' weight'] = [w[counter] for w in port_weights]\n",
    "\n",
    "portfolios_V1 = pd.DataFrame(results)\n",
    "portfolios_V1.head()"
   ]
  },
  {
   "cell_type": "code",
   "execution_count": null,
   "metadata": {
    "colab": {
     "base_uri": "https://localhost:8080/",
     "height": 514
    },
    "id": "b3HKmCQhcUXW",
    "outputId": "a0afb9d2-ba2e-4a53-d0f1-2a25f99bb8d5"
   },
   "outputs": [
    {
     "data": {
      "text/plain": [
       "Text(0, 0.5, 'Expected Returns')"
      ]
     },
     "execution_count": 63,
     "metadata": {},
     "output_type": "execute_result"
    },
    {
     "data": {
      "image/png": "[encoded data removed]",
      "text/plain": [
       "<Figure size 1152x576 with 1 Axes>"
      ]
     },
     "metadata": {
      "needs_background": "light"
     },
     "output_type": "display_data"
    }
   ],
   "source": [
    "portfolios_V1.plot.scatter(x='Volatility', y='Returns', marker='o', color='r', s=15, alpha=0.5, grid=True, figsize=[16,8])\n",
    "plt.xlabel('Risk (Volatility)')\n",
    "plt.ylabel('Expected Returns')"
   ]
  },
  {
   "cell_type": "code",
   "execution_count": null,
   "metadata": {
    "colab": {
     "base_uri": "https://localhost:8080/"
    },
    "id": "Gn1koPt5cUT5",
    "outputId": "ce961938-5fea-4c10-9b6b-dbaa79a7f7ef"
   },
   "outputs": [
    {
     "data": {
      "text/plain": [
       "Returns        1.762235\n",
       "Volatility     3.486567\n",
       "IVZ weight     0.000137\n",
       "JBHT weight    0.618745\n",
       "J weight       0.026643\n",
       "ITW weight     0.065965\n",
       "JCI weight     0.288510\n",
       "Name: 7030, dtype: float64"
      ]
     },
     "execution_count": 64,
     "metadata": {},
     "output_type": "execute_result"
    }
   ],
   "source": [
    "optimal_risky_port = portfolios_V1.iloc[(portfolios_V1['Returns']/portfolios_V1['Volatility']).idxmax()]\n",
    "optimal_risky_port"
   ]
  },
  {
   "cell_type": "code",
   "execution_count": null,
   "metadata": {
    "id": "cOA-pv19rqPB"
   },
   "outputs": [],
   "source": [
    "pd.DataFrame([optimal_risky_port], columns=optimal_risky_port.index).to_csv('optimal_classic_weigths.csv')"
   ]
  },
  {
   "cell_type": "code",
   "execution_count": null,
   "metadata": {
    "colab": {
     "base_uri": "https://localhost:8080/"
    },
    "id": "SNrC4w9yk1Fu",
    "outputId": "5d90ef4e-abf1-473b-8987-9fbd6f507103"
   },
   "outputs": [
    {
     "data": {
      "text/plain": [
       "Returns        1.069657\n",
       "Volatility     3.247057\n",
       "IVZ weight     0.006811\n",
       "JBHT weight    0.234895\n",
       "J weight       0.005575\n",
       "ITW weight     0.442019\n",
       "JCI weight     0.310700\n",
       "Name: 5609, dtype: float64"
      ]
     },
     "execution_count": 66,
     "metadata": {},
     "output_type": "execute_result"
    }
   ],
   "source": [
    "min_vol_port = portfolios_V1.iloc[(portfolios_V1['Volatility']).idxmin()]\n",
    "min_vol_port"
   ]
  },
  {
   "cell_type": "code",
   "execution_count": null,
   "metadata": {
    "colab": {
     "base_uri": "https://localhost:8080/",
     "height": 497
    },
    "id": "_tN8aO6zhizS",
    "outputId": "647fc0db-15b4-4760-f25a-bc2cf6c95ec1"
   },
   "outputs": [
    {
     "data": {
      "image/png": "[encoded data removed]",
      "text/plain": [
       "<Figure size 1152x576 with 1 Axes>"
      ]
     },
     "metadata": {
      "needs_background": "light"
     },
     "output_type": "display_data"
    }
   ],
   "source": [
    "plt.subplots(figsize=[16,8])\n",
    "plt.scatter(portfolios_V1['Volatility'], portfolios_V1['Returns'], marker='o', s=10, alpha=0.3,  color='green')\n",
    "plt.scatter(optimal_risky_port[1], optimal_risky_port[0], marker='*', s=500, color='b')\n",
    "plt.grid(True)\n",
    "plt.scatter(min_vol_port[1], min_vol_port[0], marker='*', s=500, color='red')\n",
    "plt.xlabel('Risk (Volatility)')\n",
    "plt.ylabel('Expected Returns')\n",
    "plt.show()"
   ]
  },
  {
   "cell_type": "markdown",
   "metadata": {
    "id": "xSMzeOYNB2pU"
   },
   "source": [
    "## 04 - Creo la Red Neuronal  "
   ]
  },
  {
   "cell_type": "code",
   "execution_count": null,
   "metadata": {
    "id": "eHkOrqubCOhk"
   },
   "outputs": [],
   "source": [
    "if 'data' not in vars():\n",
    "  df = pd.read_csv('/content/drive/MyDrive/TFM_DataScience/01_Amadeo_Ancarani/Data/datos_tfm.csv', header=[0, 1])\n",
    "  df.drop([0], axis=0, inplace=True)  # drop this row because it only has one column with Date in it\n",
    "  df[('Unnamed: 0_level_0', 'Unnamed: 0_level_1')] = pd.to_datetime(df[('Unnamed: 0_level_0', 'Unnamed: 0_level_1')], format='%Y-%m-%d')  # convert the first column to a datetime\n",
    "  df.set_index(('Unnamed: 0_level_0', 'Unnamed: 0_level_1'), inplace=True)  # set the first column as the index\n",
    "  df.index.name = None  # rename the index\n",
    "else:\n",
    "  if data.shape == (3297, 3024):\n",
    "    df = data\n",
    "  else:\n",
    "    df = pd.read_csv('/content/drive/MyDrive/TFM_DataScience/01_Amadeo_Ancarani/Data/datos_tfm.csv', header=[0, 1])\n",
    "    df.drop([0], axis=0, inplace=True)  # drop this row because it only has one column with Date in it\n",
    "    df[('Unnamed: 0_level_0', 'Unnamed: 0_level_1')] = pd.to_datetime(df[('Unnamed: 0_level_0', 'Unnamed: 0_level_1')], format='%Y-%m-%d')  # convert the first column to a datetime\n",
    "    df.set_index(('Unnamed: 0_level_0', 'Unnamed: 0_level_1'), inplace=True)  # set the first column as the index\n",
    "    df.index.name = None  # rename the index\n",
    "  \n",
    "stocks = ['IVZ', 'JBHT', 'J', 'ITW', 'JCI']\n",
    "\n",
    "close_prices = df['Close'][stocks].pct_change().dropna(how='all').fillna(0)"
   ]
  },
  {
   "cell_type": "code",
   "execution_count": null,
   "metadata": {
    "colab": {
     "base_uri": "https://localhost:8080/"
    },
    "id": "ZKUE9KQAxvSD",
    "outputId": "97d269b0-0f93-46c2-a8b8-f7aa363eeef9"
   },
   "outputs": [
    {
     "name": "stdout",
     "output_type": "stream",
     "text": [
      "3297\n",
      "(2308, 5)\n",
      "(500, 5)\n",
      "(498, 5)\n",
      "3296\n"
     ]
    }
   ],
   "source": [
    "len_data_train = int(len(close_prices)*0.7)+1\n",
    "len_data_val = int(len(close_prices)*0.15)+1\n",
    "len_data_test = int(len(close_prices)*0.15)\n",
    "print(len_data_train+len_data_val+len_data_test)\n",
    "\n",
    "# choose a number of time steps\n",
    "n_steps_in, n_steps_out = 5, 1\n",
    "\n",
    "data_train = close_prices[0:len_data_train]\n",
    "data_val = close_prices[len_data_train-n_steps_in:len_data_train+len_data_val]\n",
    "data_test = close_prices[len_data_train+len_data_val-(n_steps_in):]\n",
    "\n",
    "print(data_train.shape)\n",
    "print(data_val.shape)\n",
    "print(data_test.shape)\n",
    "print(data_train.shape[0]+data_val.shape[0]-n_steps_in+data_test.shape[0]-n_steps_in)"
   ]
  },
  {
   "cell_type": "code",
   "execution_count": null,
   "metadata": {
    "colab": {
     "base_uri": "https://localhost:8080/"
    },
    "id": "YWw7ydMc1Abh",
    "outputId": "7aeb9e6c-1f63-4093-87d6-1436999ec1af"
   },
   "outputs": [
    {
     "name": "stdout",
     "output_type": "stream",
     "text": [
      "(2303, 5, 5) (2303, 1, 5)\n",
      "(495, 5, 5) (495, 1, 5)\n",
      "(493, 5, 5) (493, 1, 5)\n"
     ]
    }
   ],
   "source": [
    "# define input sequence\n",
    "data = data_train \n",
    "\n",
    "stocks = dict()\n",
    "for stock in data.columns.tolist():\n",
    "    stocks[stock] = np.array(data[stock])\n",
    "\n",
    "\n",
    "for stock in data.columns.tolist():\n",
    "  stocks[stock] = stocks[stock].reshape((len(stocks[stock]), 1))\n",
    "\n",
    "dataset = np.hstack(stocks[k] for k in sorted(stocks))\n",
    "\n",
    "# covert into input/output\n",
    "x_train, y_train = split_sequences(dataset, n_steps_in, n_steps_out)\n",
    "print(x_train.shape, y_train.shape)\n",
    "\n",
    "# define input sequence\n",
    "data = data_val \n",
    "\n",
    "stocks = dict()\n",
    "for stock in data.columns.tolist():\n",
    "    stocks[stock] = np.array(data[stock])\n",
    "\n",
    "\n",
    "for stock in data.columns.tolist():\n",
    "  stocks[stock] = stocks[stock].reshape((len(stocks[stock]), 1))\n",
    "\n",
    "dataset = np.hstack(stocks[k] for k in sorted(stocks))\n",
    "\n",
    "# covert into input/output\n",
    "x_val, y_val = split_sequences(dataset, n_steps_in, n_steps_out)\n",
    "print(x_val.shape, y_val.shape)\n",
    "\n",
    "# define input sequence\n",
    "data = data_test \n",
    "\n",
    "stocks = dict()\n",
    "for stock in data.columns.tolist():\n",
    "    stocks[stock] = np.array(data[stock])\n",
    "\n",
    "\n",
    "for stock in data.columns.tolist():\n",
    "  stocks[stock] = stocks[stock].reshape((len(stocks[stock]), 1))\n",
    "\n",
    "dataset = np.hstack(stocks[k] for k in sorted(stocks))\n",
    "\n",
    "# covert into input/output\n",
    "x_test, y_test = split_sequences(dataset, n_steps_in, n_steps_out)\n",
    "print(x_test.shape, y_test.shape)"
   ]
  },
  {
   "cell_type": "code",
   "execution_count": null,
   "metadata": {
    "id": "rzV8Q1CKRdQP"
   },
   "outputs": [],
   "source": [
    "batch_size_model = int(x_train.shape[0]/7)"
   ]
  },
  {
   "cell_type": "code",
   "execution_count": null,
   "metadata": {
    "colab": {
     "base_uri": "https://localhost:8080/"
    },
    "id": "8Z57hege7hxR",
    "outputId": "40d7d37d-3319-4cc6-845d-58e3ff51139d"
   },
   "outputs": [
    {
     "data": {
      "text/plain": [
       "(329, 5, 5)"
      ]
     },
     "execution_count": 72,
     "metadata": {},
     "output_type": "execute_result"
    }
   ],
   "source": [
    "cov = close_prices.cov()*252\n",
    "cov = cov.values\n",
    "x = tf.constant(cov, dtype=tf.float32)\n",
    "\n",
    "cov = np.repeat(x[None,:], batch_size_model, axis=0)\n",
    "cov.shape"
   ]
  },
  {
   "cell_type": "code",
   "execution_count": null,
   "metadata": {
    "id": "Ir95J7m3-Wim"
   },
   "outputs": [],
   "source": [
    "input_data = Input(shape=(5,5))\n",
    "layer = Dense(units=250, activation='selu')(input_data)\n",
    "layer = BatchNormalization()(layer)\n",
    "layer = Dropout(0.15)(layer)\n",
    "layer = Dense(units=150, activation='selu')(layer)\n",
    "layer = BatchNormalization()(layer)\n",
    "layer = Dropout(0.15)(layer)\n",
    "layer = Dense(units=100, activation='selu')(input_data)\n",
    "layer = BatchNormalization()(layer)\n",
    "layer = Dropout(0.15)(layer)\n",
    "layer = Dense(units=50, activation='selu')(layer)\n",
    "layer = BatchNormalization()(layer)\n",
    "layer = Dropout(0.15)(layer)\n",
    "layer = Dense(units=25, activation='selu')(layer)\n",
    "output = Dense(units=5, activation='softmax')(layer)"
   ]
  },
  {
   "cell_type": "code",
   "execution_count": null,
   "metadata": {
    "id": "gBNMoALdbv_C"
   },
   "outputs": [],
   "source": [
    "def sharpe_loss(y_pred, input_data, cov_input=cov, shape=batch_size_model):\n",
    "    y_pred = tf.cast(y_pred, tf.float32)\n",
    "  \n",
    "    cov = tf.cast(cov_input, tf.float32)\n",
    "    \n",
    "    input_data = tf.cast(input_data, tf.float32)\n",
    "\n",
    "    first_value = K.batch_dot(y_pred, cov)\n",
    "    \n",
    "    y_pred_reshaped = tf.reshape(y_pred, [shape, 5, 1])\n",
    "    \n",
    "    portfolio_variance = tf.math.reduce_sum(K.batch_dot(y_pred_reshaped,first_value))\n",
    "  \n",
    "    returns = tf.math.reduce_sum(K.batch_dot(y_pred, input_data))\n",
    "\n",
    "    return -(returns / tf.math.sqrt(portfolio_variance))"
   ]
  },
  {
   "cell_type": "code",
   "execution_count": null,
   "metadata": {
    "colab": {
     "base_uri": "https://localhost:8080/"
    },
    "id": "l_gC-pz_HQHd",
    "outputId": "bc6c2645-82f4-4b01-e742-2d8db2b11199"
   },
   "outputs": [
    {
     "name": "stdout",
     "output_type": "stream",
     "text": [
      "Model: \"model_1\"\n",
      "_________________________________________________________________\n",
      " Layer (type)                Output Shape              Param #   \n",
      "=================================================================\n",
      " input_1 (InputLayer)        [(None, 5, 5)]            0         \n",
      "                                                                 \n",
      " dense_11 (Dense)            (None, 5, 100)            600       \n",
      "                                                                 \n",
      " batch_normalization_3 (Batc  (None, 5, 100)           400       \n",
      " hNormalization)                                                 \n",
      "                                                                 \n",
      " dropout_10 (Dropout)        (None, 5, 100)            0         \n",
      "                                                                 \n",
      " dense_12 (Dense)            (None, 5, 50)             5050      \n",
      "                                                                 \n",
      " batch_normalization_4 (Batc  (None, 5, 50)            200       \n",
      " hNormalization)                                                 \n",
      "                                                                 \n",
      " dropout_11 (Dropout)        (None, 5, 50)             0         \n",
      "                                                                 \n",
      " dense_13 (Dense)            (None, 5, 25)             1275      \n",
      "                                                                 \n",
      " dense_14 (Dense)            (None, 5, 5)              130       \n",
      "                                                                 \n",
      "=================================================================\n",
      "Total params: 7,655\n",
      "Trainable params: 7,355\n",
      "Non-trainable params: 300\n",
      "_________________________________________________________________\n",
      "None\n",
      "Epoch 1/100\n",
      "7/7 [==============================] - 1s 14ms/step - loss: -1.3475\n",
      "Epoch 2/100\n",
      "7/7 [==============================] - 0s 15ms/step - loss: -1.3658\n",
      "Epoch 3/100\n",
      "7/7 [==============================] - 0s 15ms/step - loss: -1.3071\n",
      "Epoch 4/100\n",
      "7/7 [==============================] - 0s 15ms/step - loss: -1.4310\n",
      "Epoch 5/100\n",
      "7/7 [==============================] - 0s 15ms/step - loss: -1.4310\n",
      "Epoch 6/100\n",
      "7/7 [==============================] - 0s 16ms/step - loss: -1.4371\n",
      "Epoch 7/100\n",
      "7/7 [==============================] - 0s 14ms/step - loss: -1.4180\n",
      "Epoch 8/100\n",
      "7/7 [==============================] - 0s 15ms/step - loss: -1.5138\n",
      "Epoch 9/100\n",
      "7/7 [==============================] - 0s 18ms/step - loss: -1.4599\n",
      "Epoch 10/100\n",
      "7/7 [==============================] - 0s 15ms/step - loss: -1.4174\n",
      "Epoch 11/100\n",
      "7/7 [==============================] - 0s 15ms/step - loss: -1.4168\n",
      "Epoch 12/100\n",
      "7/7 [==============================] - 0s 14ms/step - loss: -1.4331\n",
      "Epoch 13/100\n",
      "7/7 [==============================] - 0s 14ms/step - loss: -1.3471\n",
      "Epoch 14/100\n",
      "7/7 [==============================] - 0s 17ms/step - loss: -1.4069\n",
      "Epoch 15/100\n",
      "7/7 [==============================] - 0s 16ms/step - loss: -1.3898\n",
      "Epoch 16/100\n",
      "7/7 [==============================] - 0s 15ms/step - loss: -1.4143\n",
      "Epoch 17/100\n",
      "7/7 [==============================] - 0s 16ms/step - loss: -1.4083\n",
      "Epoch 18/100\n",
      "7/7 [==============================] - 0s 15ms/step - loss: -1.3799\n",
      "Epoch 19/100\n",
      "7/7 [==============================] - 0s 16ms/step - loss: -1.3265\n",
      "Epoch 20/100\n",
      "7/7 [==============================] - 0s 15ms/step - loss: -1.4187\n",
      "Epoch 21/100\n",
      "7/7 [==============================] - 0s 16ms/step - loss: -1.5224\n",
      "Epoch 22/100\n",
      "7/7 [==============================] - 0s 14ms/step - loss: -1.4005\n",
      "Epoch 23/100\n",
      "7/7 [==============================] - 0s 15ms/step - loss: -1.3097\n",
      "Epoch 24/100\n",
      "7/7 [==============================] - 0s 16ms/step - loss: -1.3470\n",
      "Epoch 25/100\n",
      "7/7 [==============================] - 0s 15ms/step - loss: -1.2894\n",
      "Epoch 26/100\n",
      "7/7 [==============================] - 0s 16ms/step - loss: -1.4005\n",
      "Epoch 27/100\n",
      "7/7 [==============================] - 0s 14ms/step - loss: -1.3101\n",
      "Epoch 28/100\n",
      "7/7 [==============================] - 0s 15ms/step - loss: -1.4269\n",
      "Epoch 29/100\n",
      "7/7 [==============================] - 0s 15ms/step - loss: -1.4476\n",
      "Epoch 30/100\n",
      "7/7 [==============================] - 0s 16ms/step - loss: -1.4195\n",
      "Epoch 31/100\n",
      "7/7 [==============================] - 0s 15ms/step - loss: -1.4343\n",
      "Epoch 32/100\n",
      "7/7 [==============================] - 0s 16ms/step - loss: -1.4378\n",
      "Epoch 33/100\n",
      "7/7 [==============================] - 0s 14ms/step - loss: -1.4120\n",
      "Epoch 34/100\n",
      "7/7 [==============================] - 0s 15ms/step - loss: -1.4793\n",
      "Epoch 35/100\n",
      "7/7 [==============================] - 0s 15ms/step - loss: -1.4951\n",
      "Epoch 36/100\n",
      "7/7 [==============================] - 0s 15ms/step - loss: -1.4571\n",
      "Epoch 37/100\n",
      "7/7 [==============================] - 0s 15ms/step - loss: -1.3997\n",
      "Epoch 38/100\n",
      "7/7 [==============================] - 0s 15ms/step - loss: -1.3934\n",
      "Epoch 39/100\n",
      "7/7 [==============================] - 0s 15ms/step - loss: -1.4378\n",
      "Epoch 40/100\n",
      "7/7 [==============================] - 0s 15ms/step - loss: -1.4334\n",
      "Epoch 41/100\n",
      "7/7 [==============================] - 0s 15ms/step - loss: -1.4386\n",
      "Epoch 42/100\n",
      "7/7 [==============================] - 0s 15ms/step - loss: -1.4755\n",
      "Epoch 43/100\n",
      "7/7 [==============================] - 0s 14ms/step - loss: -1.4447\n",
      "Epoch 44/100\n",
      "7/7 [==============================] - 0s 16ms/step - loss: -1.4179\n",
      "Epoch 45/100\n",
      "7/7 [==============================] - 0s 16ms/step - loss: -1.3866\n",
      "Epoch 46/100\n",
      "7/7 [==============================] - 0s 14ms/step - loss: -1.4389\n",
      "Epoch 47/100\n",
      "7/7 [==============================] - 0s 14ms/step - loss: -1.4947\n",
      "Epoch 48/100\n",
      "7/7 [==============================] - 0s 15ms/step - loss: -1.4386\n",
      "Epoch 49/100\n",
      "7/7 [==============================] - 0s 14ms/step - loss: -1.3873\n",
      "Epoch 50/100\n",
      "7/7 [==============================] - 0s 16ms/step - loss: -1.4656\n",
      "Epoch 51/100\n",
      "7/7 [==============================] - 0s 15ms/step - loss: -1.4149\n",
      "Epoch 52/100\n",
      "7/7 [==============================] - 0s 15ms/step - loss: -1.4329\n",
      "Epoch 53/100\n",
      "7/7 [==============================] - 0s 16ms/step - loss: -1.4386\n",
      "Epoch 54/100\n",
      "7/7 [==============================] - 0s 17ms/step - loss: -1.4576\n",
      "Epoch 55/100\n",
      "7/7 [==============================] - 0s 15ms/step - loss: -1.3762\n",
      "Epoch 56/100\n",
      "7/7 [==============================] - 0s 15ms/step - loss: -1.4193\n",
      "Epoch 57/100\n",
      "7/7 [==============================] - 0s 15ms/step - loss: -1.4507\n",
      "Epoch 58/100\n",
      "7/7 [==============================] - 0s 15ms/step - loss: -1.4265\n",
      "Epoch 59/100\n",
      "7/7 [==============================] - 0s 15ms/step - loss: -1.4380\n",
      "Epoch 60/100\n",
      "7/7 [==============================] - 0s 16ms/step - loss: -1.4643\n",
      "Epoch 61/100\n",
      "7/7 [==============================] - 0s 15ms/step - loss: -1.3760\n",
      "Epoch 62/100\n",
      "7/7 [==============================] - 0s 16ms/step - loss: -1.4049\n",
      "Epoch 63/100\n",
      "7/7 [==============================] - 0s 15ms/step - loss: -1.3871\n",
      "Epoch 64/100\n",
      "7/7 [==============================] - 0s 15ms/step - loss: -1.3896\n",
      "Epoch 65/100\n",
      "7/7 [==============================] - 0s 15ms/step - loss: -1.3579\n",
      "Epoch 66/100\n",
      "7/7 [==============================] - 0s 17ms/step - loss: -1.3878\n",
      "Epoch 67/100\n",
      "7/7 [==============================] - 0s 15ms/step - loss: -1.4750\n",
      "Epoch 68/100\n",
      "7/7 [==============================] - 0s 16ms/step - loss: -1.3487\n",
      "Epoch 69/100\n",
      "7/7 [==============================] - 0s 15ms/step - loss: -1.4117\n",
      "Epoch 70/100\n",
      "7/7 [==============================] - 0s 16ms/step - loss: -1.4663\n",
      "Epoch 71/100\n",
      "7/7 [==============================] - 0s 18ms/step - loss: -1.4487\n",
      "Epoch 72/100\n",
      "7/7 [==============================] - 0s 15ms/step - loss: -1.4336\n",
      "Epoch 73/100\n",
      "7/7 [==============================] - 0s 15ms/step - loss: -1.3460\n",
      "Epoch 74/100\n",
      "7/7 [==============================] - 0s 16ms/step - loss: -1.3841\n",
      "Epoch 75/100\n",
      "7/7 [==============================] - 0s 15ms/step - loss: -1.4082\n",
      "Epoch 76/100\n",
      "7/7 [==============================] - 0s 15ms/step - loss: -1.4011\n",
      "Epoch 77/100\n",
      "7/7 [==============================] - 0s 16ms/step - loss: -1.4319\n",
      "Epoch 78/100\n",
      "7/7 [==============================] - 0s 15ms/step - loss: -1.3803\n",
      "Epoch 79/100\n",
      "7/7 [==============================] - 0s 16ms/step - loss: -1.4112\n",
      "Epoch 80/100\n",
      "7/7 [==============================] - 0s 16ms/step - loss: -1.4476\n",
      "Epoch 81/100\n",
      "7/7 [==============================] - 0s 15ms/step - loss: -1.3891\n",
      "Epoch 82/100\n",
      "7/7 [==============================] - 0s 15ms/step - loss: -1.4325\n",
      "Epoch 83/100\n",
      "7/7 [==============================] - 0s 15ms/step - loss: -1.4448\n",
      "Epoch 84/100\n",
      "7/7 [==============================] - 0s 15ms/step - loss: -1.3803\n",
      "Epoch 85/100\n",
      "7/7 [==============================] - 0s 16ms/step - loss: -1.3608\n",
      "Epoch 86/100\n",
      "7/7 [==============================] - 0s 15ms/step - loss: -1.4353\n",
      "Epoch 87/100\n",
      "7/7 [==============================] - 0s 15ms/step - loss: -1.3980\n",
      "Epoch 88/100\n",
      "7/7 [==============================] - 0s 16ms/step - loss: -1.3663\n",
      "Epoch 89/100\n",
      "7/7 [==============================] - 0s 17ms/step - loss: -1.3821\n",
      "Epoch 90/100\n",
      "7/7 [==============================] - 0s 16ms/step - loss: -1.4887\n",
      "Epoch 91/100\n",
      "7/7 [==============================] - 0s 15ms/step - loss: -1.4403\n",
      "Epoch 92/100\n",
      "7/7 [==============================] - 0s 16ms/step - loss: -1.4282\n",
      "Epoch 93/100\n",
      "7/7 [==============================] - 0s 15ms/step - loss: -1.3817\n",
      "Epoch 94/100\n",
      "7/7 [==============================] - 0s 16ms/step - loss: -1.3511\n",
      "Epoch 95/100\n",
      "7/7 [==============================] - 0s 15ms/step - loss: -1.4190\n",
      "Epoch 96/100\n",
      "7/7 [==============================] - 0s 16ms/step - loss: -1.3862\n",
      "Epoch 97/100\n",
      "7/7 [==============================] - 0s 14ms/step - loss: -1.4110\n",
      "Epoch 98/100\n",
      "7/7 [==============================] - 0s 16ms/step - loss: -1.4037\n",
      "Epoch 99/100\n",
      "7/7 [==============================] - 0s 14ms/step - loss: -1.3795\n",
      "Epoch 100/100\n",
      "7/7 [==============================] - 0s 14ms/step - loss: -1.4995\n"
     ]
    }
   ],
   "source": [
    "# creamos el modelo\n",
    "model = Model(inputs=input_data, outputs=output)\n",
    "print(model.summary())\n",
    "\n",
    "# compilamos el modelo\n",
    "model.compile(optimizer=tf.keras.optimizers.Adam(0.001), loss=sharpe_loss)\n",
    "\n",
    "early_stopping = EarlyStopping(restore_best_weights=True)\n",
    "\n",
    "reset_random_seeds()\n",
    "\n",
    "history = model.fit(x_train, y_train, batch_size=batch_size_model, epochs=100)"
   ]
  },
  {
   "cell_type": "code",
   "execution_count": null,
   "metadata": {
    "colab": {
     "base_uri": "https://localhost:8080/",
     "height": 621
    },
    "id": "yPLp5memgtQb",
    "outputId": "58d35d79-bb76-4a81-a923-c88bfe5dcbd0"
   },
   "outputs": [
    {
     "data": {
      "image/png": "[encoded data removed]",
      "text/plain": [
       "<Figure size 1152x720 with 1 Axes>"
      ]
     },
     "metadata": {
      "needs_background": "light"
     },
     "output_type": "display_data"
    }
   ],
   "source": [
    "plt.plot(history.history['loss'])\n",
    "plt.title('Loss history')\n",
    "plt.ylabel('Loss value')\n",
    "plt.xlabel('No. epoch')\n",
    "plt.legend(['train', 'validation'], loc='upper left')\n",
    "plt.show();"
   ]
  },
  {
   "cell_type": "code",
   "execution_count": null,
   "metadata": {
    "id": "51AotsQzhQiG"
   },
   "outputs": [],
   "source": [
    "model.save('weigths_model.h5')\n",
    "weigths_predictor = model"
   ]
  },
  {
   "cell_type": "code",
   "execution_count": null,
   "metadata": {
    "id": "PFCDRCAtWhFE"
   },
   "outputs": [],
   "source": [
    "if weigths_predictor not in locals():\n",
    "  weigths_predictor = keras.models.load_model('weigths_model.h5', compile=False)"
   ]
  },
  {
   "cell_type": "code",
   "execution_count": null,
   "metadata": {
    "id": "fBJa1f7yvY97"
   },
   "outputs": [],
   "source": [
    "y_pred = weigths_predictor.predict(x_test)\n",
    "\n",
    "weights_nn = []\n",
    "for j in range(y_pred.shape[0]):\n",
    "  weights_nn.append(y_pred[j].mean(axis=0))\n",
    "weights_nn = np.array(weights_nn)"
   ]
  },
  {
   "cell_type": "code",
   "execution_count": null,
   "metadata": {
    "id": "j5MydjaZN2Ns"
   },
   "outputs": [],
   "source": [
    "portfolio_return_nn = []\n",
    "port_volatility_nn = []\n",
    "\n",
    "for i in range(weights_nn.shape[0]):\n",
    "  portfolio_return_nn.append(x_train[i].dot(weights_nn[i])) \n",
    "\n",
    "  variance_matrix_nn = pd.DataFrame(x_train[i]).cov()*252\n",
    "  var_nn = variance_matrix_nn.mul(weights_nn[i], axis=0).mul(weights_nn[i], axis=1).sum().sum()\n",
    "  sd_nn = np.sqrt(var_nn)\n",
    "  ann_sd_nn = sd * np.sqrt(252)\n",
    "  port_volatility_nn.append(ann_sd_nn)"
   ]
  },
  {
   "cell_type": "code",
   "execution_count": null,
   "metadata": {
    "colab": {
     "base_uri": "https://localhost:8080/"
    },
    "id": "gfopxhAVP_e7",
    "outputId": "8479b7d7-31dc-4443-e2b6-d65b3ee9074a"
   },
   "outputs": [
    {
     "data": {
      "text/plain": [
       "2.2441897863977447"
      ]
     },
     "execution_count": 81,
     "metadata": {},
     "output_type": "execute_result"
    }
   ],
   "source": [
    "np.sum(portfolio_return_nn)"
   ]
  },
  {
   "cell_type": "code",
   "execution_count": null,
   "metadata": {
    "colab": {
     "base_uri": "https://localhost:8080/"
    },
    "id": "q506pUtMQDM8",
    "outputId": "b2de3a24-cbb9-4d1d-9007-f5dfbbccf185"
   },
   "outputs": [
    {
     "data": {
      "text/plain": [
       "3.685996595303038"
      ]
     },
     "execution_count": 82,
     "metadata": {},
     "output_type": "execute_result"
    }
   ],
   "source": [
    "np.mean(port_volatility_nn)"
   ]
  },
  {
   "cell_type": "code",
   "execution_count": null,
   "metadata": {
    "colab": {
     "base_uri": "https://localhost:8080/",
     "height": 497
    },
    "id": "aCfry7AARG5c",
    "outputId": "cbd5400e-e9e6-4494-ddc2-70193b1ad72a"
   },
   "outputs": [
    {
     "data": {
      "image/png": "[encoded data removed]",
      "text/plain": [
       "<Figure size 1152x576 with 1 Axes>"
      ]
     },
     "metadata": {
      "needs_background": "light"
     },
     "output_type": "display_data"
    }
   ],
   "source": [
    "plt.subplots(figsize=[16,8])\n",
    "plt.scatter(portfolios_V1['Volatility'], portfolios_V1['Returns'], marker='o', s=10, alpha=0.3,  color='green')\n",
    "plt.scatter(optimal_risky_port[1], optimal_risky_port[0], marker='*', s=500, color='b')\n",
    "plt.grid(True)\n",
    "plt.scatter(min_vol_port[1], min_vol_port[0], marker='*', s=500, color='red')\n",
    "plt.scatter(np.mean(port_volatility_nn), np.sum(portfolio_return_nn), marker='*', s=500, color='black')\n",
    "plt.xlabel('Risk (Volatility)')\n",
    "plt.ylabel('Expected Returns')\n",
    "plt.show()"
   ]
  },
  {
   "cell_type": "markdown",
   "metadata": {
    "id": "1c9D7MtlhuQY"
   },
   "source": [
    "# Etapa 5: Resultados Finales"
   ]
  },
  {
   "cell_type": "code",
   "execution_count": null,
   "metadata": {
    "id": "xU3BfxXnTFYJ"
   },
   "outputs": [],
   "source": [
    "reset_random_seeds()\n",
    "\n",
    "if 'data' not in vars():\n",
    "  df = pd.read_csv('/content/drive/MyDrive/TFM_DataScience/01_Amadeo_Ancarani/Data/datos_tfm.csv', header=[0, 1])\n",
    "  df.drop([0], axis=0, inplace=True)  # drop this row because it only has one column with Date in it\n",
    "  df[('Unnamed: 0_level_0', 'Unnamed: 0_level_1')] = pd.to_datetime(df[('Unnamed: 0_level_0', 'Unnamed: 0_level_1')], format='%Y-%m-%d')  # convert the first column to a datetime\n",
    "  df.set_index(('Unnamed: 0_level_0', 'Unnamed: 0_level_1'), inplace=True)  # set the first column as the index\n",
    "  df.index.name = None  # rename the index\n",
    "else:\n",
    "  if data.shape == (3297, 3024):\n",
    "    df = data\n",
    "  else:\n",
    "    df = pd.read_csv('/content/drive/MyDrive/TFM_DataScience/01_Amadeo_Ancarani/Data/datos_tfm.csv', header=[0, 1])\n",
    "    df.drop([0], axis=0, inplace=True)  # drop this row because it only has one column with Date in it\n",
    "    df[('Unnamed: 0_level_0', 'Unnamed: 0_level_1')] = pd.to_datetime(df[('Unnamed: 0_level_0', 'Unnamed: 0_level_1')], format='%Y-%m-%d')  # convert the first column to a datetime\n",
    "    df.set_index(('Unnamed: 0_level_0', 'Unnamed: 0_level_1'), inplace=True)  # set the first column as the index\n",
    "    df.index.name = None  # rename the index\n",
    "\n",
    "stocks = ['IVZ', 'JBHT', 'J', 'ITW', 'JCI']\n",
    "\n",
    "close_prices = df['Adj Close'][stocks].diff(1).dropna(how='all')\n",
    "\n",
    "len_data_train = int(len(close_prices)*0.7)+1\n",
    "len_data_val = int(len(close_prices)*0.15)+1\n",
    "len_data_test = int(len(close_prices)*0.15)\n",
    "\n",
    "# choose a number of time steps\n",
    "n_steps_in, n_steps_out = 300, 1\n",
    "\n",
    "data_train = close_prices[0:len_data_train]\n",
    "data_val = close_prices[len_data_train-n_steps_in:len_data_train+len_data_val]\n",
    "data_test = close_prices[len_data_train+len_data_val-(n_steps_in):]\n",
    "\n",
    "# define input sequence\n",
    "close_prices = data_train\n",
    "\n",
    "stocks = dict()\n",
    "for stock in close_prices.columns.tolist():\n",
    "\t\tstocks[stock] = np.array(close_prices[stock])\n",
    "\n",
    "\n",
    "for stock in close_prices.columns.tolist():\n",
    "\tstocks[stock] = stocks[stock].reshape((len(stocks[stock]), 1))\n",
    "\n",
    "dataset = np.hstack(stocks[k] for k in sorted(stocks))\n",
    "\n",
    "# covert into input/output\n",
    "x_train, y_train = split_sequences(dataset, n_steps_in, n_steps_out)\n",
    "\n",
    "close_prices = data_val\n",
    "\n",
    "stocks = dict()\n",
    "for stock in close_prices.columns.tolist():\n",
    "\t\tstocks[stock] = np.array(close_prices[stock])\n",
    "\n",
    "\n",
    "for stock in close_prices.columns.tolist():\n",
    "\tstocks[stock] = stocks[stock].reshape((len(stocks[stock]), 1))\n",
    "\n",
    "dataset = np.hstack(stocks[k] for k in sorted(stocks))\n",
    "\n",
    "# covert into input/output\n",
    "x_val, y_val = split_sequences(dataset, n_steps_in, n_steps_out)\n",
    "\n",
    "close_prices = data_test\n",
    "\n",
    "stocks = dict()\n",
    "for stock in close_prices.columns.tolist():\n",
    "\t\tstocks[stock] = np.array(close_prices[stock])\n",
    "\n",
    "\n",
    "for stock in close_prices.columns.tolist():\n",
    "\tstocks[stock] = stocks[stock].reshape((len(stocks[stock]), 1))\n",
    "\n",
    "dataset = np.hstack(stocks[k] for k in sorted(stocks))\n",
    "\n",
    "# covert into input/output\n",
    "x_test, y_test = split_sequences(dataset, n_steps_in, n_steps_out)"
   ]
  },
  {
   "cell_type": "code",
   "execution_count": null,
   "metadata": {
    "id": "SZr4YMSCiwUg"
   },
   "outputs": [],
   "source": [
    "if 'lstm_model' not in locals():\n",
    "  lstm_model = keras.models.load_model('lstm_model.h5')\n",
    "\n",
    "if 'weigths_model' not in locals():\n",
    "  weigths_model = keras.models.load_model('weigths_model.h5', compile=False)"
   ]
  },
  {
   "cell_type": "code",
   "execution_count": null,
   "metadata": {
    "id": "YxhwMp6FiwQm"
   },
   "outputs": [],
   "source": [
    "returns_predicted = lstm_model.predict(x_test)"
   ]
  },
  {
   "cell_type": "code",
   "execution_count": null,
   "metadata": {
    "id": "JPJZAx5niwOf"
   },
   "outputs": [],
   "source": [
    "weigths_predicted = weigths_model.predict(returns_predicted)"
   ]
  },
  {
   "cell_type": "code",
   "execution_count": null,
   "metadata": {
    "colab": {
     "base_uri": "https://localhost:8080/"
    },
    "id": "h-A16gKWiwLe",
    "outputId": "968b3157-51c2-4056-f181-6281a29a1ec7"
   },
   "outputs": [
    {
     "data": {
      "text/plain": [
       "(492, 5, 5)"
      ]
     },
     "execution_count": 88,
     "metadata": {},
     "output_type": "execute_result"
    }
   ],
   "source": [
    "weigths_predicted.shape"
   ]
  },
  {
   "cell_type": "code",
   "execution_count": null,
   "metadata": {
    "colab": {
     "base_uri": "https://localhost:8080/"
    },
    "id": "LF_kErICiwJK",
    "outputId": "b9ed80a7-df80-45b9-8d51-b65ac451e147"
   },
   "outputs": [
    {
     "data": {
      "text/plain": [
       "(492, 5)"
      ]
     },
     "execution_count": 89,
     "metadata": {},
     "output_type": "execute_result"
    }
   ],
   "source": [
    "weigths = predict_weigths(x_test)\n",
    "weigths.shape"
   ]
  },
  {
   "cell_type": "code",
   "execution_count": null,
   "metadata": {
    "colab": {
     "base_uri": "https://localhost:8080/"
    },
    "id": "-MSSRVPsiwCQ",
    "outputId": "d9c17d14-4fa3-4aaa-f017-8efa458e9334"
   },
   "outputs": [
    {
     "data": {
      "text/plain": [
       "0.39175672418867713"
      ]
     },
     "execution_count": 90,
     "metadata": {},
     "output_type": "execute_result"
    }
   ],
   "source": [
    "np.sum(weigths[0]*y_test[0])"
   ]
  },
  {
   "cell_type": "code",
   "execution_count": null,
   "metadata": {
    "id": "Rl-ng-T8iv_1"
   },
   "outputs": [],
   "source": [
    "final_results = []\n",
    "\n",
    "for i in range(y_test.shape[0]):\n",
    "  final_results.append(np.sum(weigths[i]*y_test[i]))"
   ]
  },
  {
   "cell_type": "code",
   "execution_count": null,
   "metadata": {
    "colab": {
     "base_uri": "https://localhost:8080/"
    },
    "id": "TNjjp0Lbiv6w",
    "outputId": "03f7d67a-c91c-438b-c58a-7f5f3cb3d0e7"
   },
   "outputs": [
    {
     "data": {
      "text/plain": [
       "52.39352767137271"
      ]
     },
     "execution_count": 92,
     "metadata": {},
     "output_type": "execute_result"
    }
   ],
   "source": [
    "np.sum(final_results)"
   ]
  },
  {
   "cell_type": "code",
   "execution_count": null,
   "metadata": {
    "id": "CkmCz7VohByG"
   },
   "outputs": [],
   "source": [
    "optimal_classic_weigths = pd.read_csv('optimal_classic_weigths.csv')"
   ]
  },
  {
   "cell_type": "code",
   "execution_count": null,
   "metadata": {
    "colab": {
     "base_uri": "https://localhost:8080/",
     "height": 81
    },
    "id": "i0rYz1wghqpc",
    "outputId": "396b1c34-f41f-4e7f-f454-d168ef6e8ce9"
   },
   "outputs": [
    {
     "data": {
      "text/html": [
       "\n",
       "  <div id=\"df-9dafe275-fcc7-4eb5-bdb8-2a80922fd808\">\n",
       "    <div class=\"colab-df-container\">\n",
       "      <div>\n",
       "<style scoped>\n",
       "    .dataframe tbody tr th:only-of-type {\n",
       "        vertical-align: middle;\n",
       "    }\n",
       "\n",
       "    .dataframe tbody tr th {\n",
       "        vertical-align: top;\n",
       "    }\n",
       "\n",
       "    .dataframe thead th {\n",
       "        text-align: right;\n",
       "    }\n",
       "</style>\n",
       "<table border=\"1\" class=\"dataframe\">\n",
       "  <thead>\n",
       "    <tr style=\"text-align: right;\">\n",
       "      <th></th>\n",
       "      <th>IVZ weight</th>\n",
       "      <th>JBHT weight</th>\n",
       "      <th>J weight</th>\n",
       "      <th>ITW weight</th>\n",
       "      <th>JCI weight</th>\n",
       "    </tr>\n",
       "  </thead>\n",
       "  <tbody>\n",
       "    <tr>\n",
       "      <th>0</th>\n",
       "      <td>0.000137</td>\n",
       "      <td>0.618745</td>\n",
       "      <td>0.026643</td>\n",
       "      <td>0.065965</td>\n",
       "      <td>0.28851</td>\n",
       "    </tr>\n",
       "  </tbody>\n",
       "</table>\n",
       "</div>\n",
       "      <button class=\"colab-df-convert\" onclick=\"convertToInteractive('df-9dafe275-fcc7-4eb5-bdb8-2a80922fd808')\"\n",
       "              title=\"Convert this dataframe to an interactive table.\"\n",
       "              style=\"display:none;\">\n",
       "        \n",
       "  <svg xmlns=\"http://www.w3.org/2000/svg\" height=\"24px\"viewBox=\"0 0 24 24\"\n",
       "       width=\"24px\">\n",
       "    <path d=\"M0 0h24v24H0V0z\" fill=\"none\"/>\n",
       "    <path d=\"M18.56 5.44l.94 2.06.94-2.06 2.06-.94-2.06-.94-.94-2.06-.94 2.06-2.06.94zm-11 1L8.5 8.5l.94-2.06 2.06-.94-2.06-.94L8.5 2.5l-.94 2.06-2.06.94zm10 10l.94 2.06.94-2.06 2.06-.94-2.06-.94-.94-2.06-.94 2.06-2.06.94z\"/><path d=\"M17.41 7.96l-1.37-1.37c-.4-.4-.92-.59-1.43-.59-.52 0-1.04.2-1.43.59L10.3 9.45l-7.72 7.72c-.78.78-.78 2.05 0 2.83L4 21.41c.39.39.9.59 1.41.59.51 0 1.02-.2 1.41-.59l7.78-7.78 2.81-2.81c.8-.78.8-2.07 0-2.86zM5.41 20L4 18.59l7.72-7.72 1.47 1.35L5.41 20z\"/>\n",
       "  </svg>\n",
       "      </button>\n",
       "      \n",
       "  <style>\n",
       "    .colab-df-container {\n",
       "      display:flex;\n",
       "      flex-wrap:wrap;\n",
       "      gap: 12px;\n",
       "    }\n",
       "\n",
       "    .colab-df-convert {\n",
       "      background-color: #E8F0FE;\n",
       "      border: none;\n",
       "      border-radius: 50%;\n",
       "      cursor: pointer;\n",
       "      display: none;\n",
       "      fill: #1967D2;\n",
       "      height: 32px;\n",
       "      padding: 0 0 0 0;\n",
       "      width: 32px;\n",
       "    }\n",
       "\n",
       "    .colab-df-convert:hover {\n",
       "      background-color: #E2EBFA;\n",
       "      box-shadow: 0px 1px 2px rgba(60, 64, 67, 0.3), 0px 1px 3px 1px rgba(60, 64, 67, 0.15);\n",
       "      fill: #174EA6;\n",
       "    }\n",
       "\n",
       "    [theme=dark] .colab-df-convert {\n",
       "      background-color: #3B4455;\n",
       "      fill: #D2E3FC;\n",
       "    }\n",
       "\n",
       "    [theme=dark] .colab-df-convert:hover {\n",
       "      background-color: #434B5C;\n",
       "      box-shadow: 0px 1px 3px 1px rgba(0, 0, 0, 0.15);\n",
       "      filter: drop-shadow(0px 1px 2px rgba(0, 0, 0, 0.3));\n",
       "      fill: #FFFFFF;\n",
       "    }\n",
       "  </style>\n",
       "\n",
       "      <script>\n",
       "        const buttonEl =\n",
       "          document.querySelector('#df-9dafe275-fcc7-4eb5-bdb8-2a80922fd808 button.colab-df-convert');\n",
       "        buttonEl.style.display =\n",
       "          google.colab.kernel.accessAllowed ? 'block' : 'none';\n",
       "\n",
       "        async function convertToInteractive(key) {\n",
       "          const element = document.querySelector('#df-9dafe275-fcc7-4eb5-bdb8-2a80922fd808');\n",
       "          const dataTable =\n",
       "            await google.colab.kernel.invokeFunction('convertToInteractive',\n",
       "                                                     [key], {});\n",
       "          if (!dataTable) return;\n",
       "\n",
       "          const docLinkHtml = 'Like what you see? Visit the ' +\n",
       "            '<a target=\"_blank\" href=https://colab.research.google.com/notebooks/data_table.ipynb>data table notebook</a>'\n",
       "            + ' to learn more about interactive tables.';\n",
       "          element.innerHTML = '';\n",
       "          dataTable['output_type'] = 'display_data';\n",
       "          await google.colab.output.renderOutput(dataTable, element);\n",
       "          const docLink = document.createElement('div');\n",
       "          docLink.innerHTML = docLinkHtml;\n",
       "          element.appendChild(docLink);\n",
       "        }\n",
       "      </script>\n",
       "    </div>\n",
       "  </div>\n",
       "  "
      ],
      "text/plain": [
       "   IVZ weight  JBHT weight  J weight  ITW weight  JCI weight\n",
       "0    0.000137     0.618745  0.026643    0.065965     0.28851"
      ]
     },
     "execution_count": 94,
     "metadata": {},
     "output_type": "execute_result"
    }
   ],
   "source": [
    "optimal_classic_weigths = optimal_classic_weigths[['IVZ weight', 'JBHT weight', 'J weight', 'ITW weight', 'JCI weight']]\n",
    "optimal_classic_weigths"
   ]
  },
  {
   "cell_type": "code",
   "execution_count": null,
   "metadata": {
    "id": "UOU6QJo_sqsF"
   },
   "outputs": [],
   "source": [
    "final_classic_results = []\n",
    "\n",
    "for i in range(y_test.shape[0]):\n",
    "  final_classic_results.append(np.sum(optimal_classic_weigths*y_test[i]))"
   ]
  },
  {
   "cell_type": "code",
   "execution_count": null,
   "metadata": {
    "id": "sEIMuBJXwXn4"
   },
   "outputs": [],
   "source": [
    "reset_random_seeds()\n",
    "\n",
    "if 'data' not in vars():\n",
    "  df = pd.read_csv('/content/drive/MyDrive/TFM_DataScience/01_Amadeo_Ancarani/Data/datos_tfm.csv', header=[0, 1])\n",
    "  df.drop([0], axis=0, inplace=True)  # drop this row because it only has one column with Date in it\n",
    "  df[('Unnamed: 0_level_0', 'Unnamed: 0_level_1')] = pd.to_datetime(df[('Unnamed: 0_level_0', 'Unnamed: 0_level_1')], format='%Y-%m-%d')  # convert the first column to a datetime\n",
    "  df.set_index(('Unnamed: 0_level_0', 'Unnamed: 0_level_1'), inplace=True)  # set the first column as the index\n",
    "  df.index.name = None  # rename the index\n",
    "else:\n",
    "  if data.shape == (3297, 3024):\n",
    "    df = data\n",
    "  else:\n",
    "    df = pd.read_csv('/content/drive/MyDrive/TFM_DataScience/01_Amadeo_Ancarani/Data/datos_tfm.csv', header=[0, 1])\n",
    "    df.drop([0], axis=0, inplace=True)  # drop this row because it only has one column with Date in it\n",
    "    df[('Unnamed: 0_level_0', 'Unnamed: 0_level_1')] = pd.to_datetime(df[('Unnamed: 0_level_0', 'Unnamed: 0_level_1')], format='%Y-%m-%d')  # convert the first column to a datetime\n",
    "    df.set_index(('Unnamed: 0_level_0', 'Unnamed: 0_level_1'), inplace=True)  # set the first column as the index\n",
    "    df.index.name = None  # rename the index\n",
    "\n",
    "stocks = ['IVZ', 'JBHT', 'J', 'ITW', 'JCI']\n",
    "\n",
    "close_prices = df['Adj Close'][stocks].diff(1).dropna(how='all')\n",
    "\n",
    "len_data_train = int(len(close_prices)*0.7)+1\n",
    "len_data_val = int(len(close_prices)*0.15)+1\n",
    "len_data_test = int(len(close_prices)*0.15)\n",
    "\n",
    "# choose a number of time steps\n",
    "n_steps_in, n_steps_out = 300, 1\n",
    "\n",
    "data_train = close_prices[0:len_data_train]\n",
    "data_val = close_prices[len_data_train-n_steps_in:len_data_train+len_data_val]\n",
    "data_test = close_prices[len_data_train+len_data_val:]\n",
    "\n",
    "data_test = close_prices[len_data_train+len_data_val:]"
   ]
  },
  {
   "cell_type": "code",
   "execution_count": null,
   "metadata": {
    "id": "d8VeAW8wthxx"
   },
   "outputs": [],
   "source": [
    "final_classic_results = pd.DataFrame(data_test, columns=stocks)\n",
    "for i in final_classic_results.columns.tolist():\n",
    "  final_classic_results[i] = final_classic_results[i] * optimal_classic_weigths[i + ' weight'].iloc[0]"
   ]
  },
  {
   "cell_type": "code",
   "execution_count": null,
   "metadata": {
    "colab": {
     "base_uri": "https://localhost:8080/"
    },
    "id": "GP-QNcfVv225",
    "outputId": "3f5367b7-6fd1-4e7e-ffe6-c05bb109b056"
   },
   "outputs": [
    {
     "data": {
      "text/plain": [
       "0.0001369655488862"
      ]
     },
     "execution_count": 98,
     "metadata": {},
     "output_type": "execute_result"
    }
   ],
   "source": [
    "optimal_classic_weigths[final_classic_results.columns.tolist()[0] + ' weight'].iloc[0]"
   ]
  },
  {
   "cell_type": "code",
   "execution_count": null,
   "metadata": {
    "colab": {
     "base_uri": "https://localhost:8080/"
    },
    "id": "WRxFB11HvCKE",
    "outputId": "07b17816-522a-4807-df48-d97e78c84f32"
   },
   "outputs": [
    {
     "data": {
      "text/plain": [
       "65.17686350439682"
      ]
     },
     "execution_count": 99,
     "metadata": {},
     "output_type": "execute_result"
    }
   ],
   "source": [
    "final_classic_results['result'] = final_classic_results['IVZ'] + final_classic_results['JBHT'] + final_classic_results['J'] + final_classic_results['ITW'] + final_classic_results['JCI']\n",
    "np.sum(final_classic_results['result'])"
   ]
  },
  {
   "cell_type": "code",
   "execution_count": null,
   "metadata": {
    "colab": {
     "base_uri": "https://localhost:8080/",
     "height": 700
    },
    "id": "jwVV0h--tyWS",
    "outputId": "10e2e0f2-00af-4119-91c0-c265d8d40420"
   },
   "outputs": [
    {
     "data": {
      "image/png": "[encoded data removed]",
      "text/plain": [
       "<Figure size 864x864 with 1 Axes>"
      ]
     },
     "metadata": {
      "needs_background": "light"
     },
     "output_type": "display_data"
    }
   ],
   "source": [
    "plt.rcParams[\"figure.figsize\"] = (12,12)\n",
    "plt.plot(data_test.index, np.cumsum(final_results), label=\"NN Results\")\n",
    "plt.plot(data_test.index, np.cumsum(np.array(final_classic_results['result'])), label=\"Classic Results\")\n",
    "plt.legend(loc=\"upper left\")\n",
    "plt.grid(True)"
   ]
  },
  {
   "cell_type": "code",
   "execution_count": null,
   "metadata": {
    "colab": {
     "base_uri": "https://localhost:8080/"
    },
    "id": "JxuyvDJOt7eA",
    "outputId": "afccaffe-a36d-4df5-8784-4ada649c9fd4"
   },
   "outputs": [
    {
     "data": {
      "text/plain": [
       "52.39352767137271"
      ]
     },
     "execution_count": 101,
     "metadata": {},
     "output_type": "execute_result"
    }
   ],
   "source": [
    "np.sum(final_results)"
   ]
  },
  {
   "cell_type": "code",
   "execution_count": null,
   "metadata": {
    "colab": {
     "base_uri": "https://localhost:8080/"
    },
    "id": "q9OLXiadLf9V",
    "outputId": "6284258d-ec4b-4c75-e387-9b185d705b53"
   },
   "outputs": [
    {
     "data": {
      "text/plain": [
       "65.17686350439682"
      ]
     },
     "execution_count": 102,
     "metadata": {},
     "output_type": "execute_result"
    }
   ],
   "source": [
    "np.sum(np.array(final_classic_results['result']))"
   ]
  },
  {
   "cell_type": "code",
   "execution_count": null,
   "metadata": {
    "colab": {
     "base_uri": "https://localhost:8080/"
    },
    "id": "wRFU5MqxLqUH",
    "outputId": "d294f185-6108-4b3e-8cc9-4293c2e12f6b"
   },
   "outputs": [
    {
     "data": {
      "text/plain": [
       "-29.05542335040652"
      ]
     },
     "execution_count": 103,
     "metadata": {},
     "output_type": "execute_result"
    }
   ],
   "source": [
    "np.min(np.cumsum(np.array(final_classic_results['result'])))"
   ]
  },
  {
   "cell_type": "code",
   "execution_count": null,
   "metadata": {
    "colab": {
     "base_uri": "https://localhost:8080/"
    },
    "id": "9R40wjiJL3Bq",
    "outputId": "6773e6c5-f4e8-4047-85d0-c8bf39150aa6"
   },
   "outputs": [
    {
     "data": {
      "text/plain": [
       "-17.73716840970666"
      ]
     },
     "execution_count": 104,
     "metadata": {},
     "output_type": "execute_result"
    }
   ],
   "source": [
    "np.min(np.cumsum(final_results))"
   ]
  },
  {
   "cell_type": "code",
   "execution_count": null,
   "metadata": {
    "id": "ipgChTTJL4Uz"
   },
   "outputs": [],
   "source": []
  }
 ],
 "metadata": {
  "accelerator": "TPU",
  "colab": {
   "collapsed_sections": [
    "WsDlcdOEJBpM",
    "77mJfSdHtDnZ",
    "hrz59_3puXRt",
    "79lmyCx_uU_U",
    "YOdQMTcRwgxY",
    "BDXshmfpwmiH",
    "fCv7LE5XCBh5",
    "JnvlupOdIYTp",
    "YrPk_LkXIb_L"
   ],
   "name": "TFM_Ancarani_v_final.ipynb",
   "provenance": []
  },
  "kernelspec": {
   "display_name": "Python 3 (ipykernel)",
   "language": "python",
   "name": "python3"
  },
  "language_info": {
   "codemirror_mode": {
    "name": "ipython",
    "version": 3
   },
   "file_extension": ".py",
   "mimetype": "text/x-python",
   "name": "python",
   "nbconvert_exporter": "python",
   "pygments_lexer": "ipython3",
   "version": "3.8.8"
  }
 },
 "nbformat": 4,
 "nbformat_minor": 1
}
